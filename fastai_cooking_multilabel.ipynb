{
  "nbformat": 4,
  "nbformat_minor": 0,
  "metadata": {
    "colab": {
      "name": "fastai-cooking-multilabel.ipynb",
      "version": "0.3.2",
      "provenance": [],
      "toc_visible": true,
      "include_colab_link": true
    },
    "kernelspec": {
      "name": "python3",
      "display_name": "Python 3"
    },
    "accelerator": "GPU"
  },
  "cells": [
    {
      "cell_type": "markdown",
      "metadata": {
        "id": "view-in-github",
        "colab_type": "text"
      },
      "source": [
        "<a href=\"https://colab.research.google.com/github/gwohlgen/colab/blob/master/fastai_cooking_multilabel.ipynb\" target=\"_parent\"><img src=\"https://colab.research.google.com/assets/colab-badge.svg\" alt=\"Open In Colab\"/></a>"
      ]
    },
    {
      "cell_type": "markdown",
      "metadata": {
        "id": "SI5R3SNMMrUW",
        "colab_type": "text"
      },
      "source": [
        "# fastai cooking \n",
        "\n",
        "First test of using **FastAI** with the **cooking dataset**.\n",
        "This dataset is: **multilabel-label, multi-class, English language**.\n",
        "\n",
        "For a reference implementation with fasttext: https://fasttext.cc/docs/en/supervised-tutorial.html\n",
        "\n",
        "\n",
        "What is done:\n",
        "\n",
        "\n",
        "1.   Create DataBunch\n",
        "2.   Create data_lm .. data to train the language model\n",
        "3.   Finetune the AWD_LSTM with the data_lm .. this takes a long time\n",
        "4.   Train a classifier with the encoder part of the trained language model and the classification dataset\n",
        "\n",
        "\n",
        "\n",
        "\n",
        "\n",
        "\n"
      ]
    },
    {
      "cell_type": "markdown",
      "metadata": {
        "id": "mFOReymeH23M",
        "colab_type": "text"
      },
      "source": [
        "## Data Fetching and Preparation\n",
        "\n",
        "You can get the data here: \n",
        "wget https://dl.fbaipublicfiles.com/fasttext/data/cooking.stackexchange.tar.gz && tar xvzf cooking.stackexchange.tar.gz\n"
      ]
    },
    {
      "cell_type": "code",
      "metadata": {
        "id": "xtVSwdpfxk84",
        "colab_type": "code",
        "colab": {}
      },
      "source": [
        "# init\n",
        "%reload_ext autoreload\n",
        "%autoreload 2\n",
        "%matplotlib inline\n",
        "\n",
        "from fastai.text import *\n",
        "import pandas as pd\n",
        "from pathlib import Path"
      ],
      "execution_count": 0,
      "outputs": []
    },
    {
      "cell_type": "code",
      "metadata": {
        "id": "_D2Wy4-uIawS",
        "colab_type": "code",
        "outputId": "5c8920e3-27b6-437d-db26-4289513a5889",
        "colab": {
          "base_uri": "https://localhost:8080/",
          "height": 252
        }
      },
      "source": [
        "!wget https://dl.fbaipublicfiles.com/fasttext/data/cooking.stackexchange.tar.gz && tar xvzf cooking.stackexchange.tar.gz"
      ],
      "execution_count": 0,
      "outputs": [
        {
          "output_type": "stream",
          "text": [
            "--2019-05-19 08:07:46--  https://dl.fbaipublicfiles.com/fasttext/data/cooking.stackexchange.tar.gz\n",
            "Resolving dl.fbaipublicfiles.com (dl.fbaipublicfiles.com)... 104.20.6.166, 104.20.22.166, 2606:4700:10::6814:16a6, ...\n",
            "Connecting to dl.fbaipublicfiles.com (dl.fbaipublicfiles.com)|104.20.6.166|:443... connected.\n",
            "HTTP request sent, awaiting response... 200 OK\n",
            "Length: 457609 (447K) [application/x-tar]\n",
            "Saving to: ‘cooking.stackexchange.tar.gz’\n",
            "\n",
            "cooking.stackexchan 100%[===================>] 446.88K  --.-KB/s    in 0.03s   \n",
            "\n",
            "2019-05-19 08:07:51 (14.6 MB/s) - ‘cooking.stackexchange.tar.gz’ saved [457609/457609]\n",
            "\n",
            "cooking.stackexchange.id\n",
            "cooking.stackexchange.txt\n",
            "readme.txt\n"
          ],
          "name": "stdout"
        }
      ]
    },
    {
      "cell_type": "code",
      "metadata": {
        "id": "ty7adVLsICwv",
        "colab_type": "code",
        "outputId": "b9e1ac80-9f7a-41be-9036-1fccf8f3a941",
        "colab": {
          "base_uri": "https://localhost:8080/",
          "height": 1092
        }
      },
      "source": [
        "# convert to csv:\n",
        "data = []\n",
        "\n",
        "for line in open(\"cooking.stackexchange.txt\"):\n",
        "    labels = [word for word in line.split(' ') if word.startswith('__label__')]\n",
        "    text = [word.replace('\\n','') for word in line.split(' ') if not word.startswith('__label__')]\n",
        "    data.append( (' '.join(text), ' '.join(labels) ) )\n",
        "\n",
        "df = pd.DataFrame(data)\n",
        "df.columns = [\"text\", \"labels\"]\n",
        "\n",
        "print(df.head)\n",
        "\n",
        "df.to_csv(r'cooking.stackexchange.csv', index=None, header=True)\n"
      ],
      "execution_count": 0,
      "outputs": [
        {
          "output_type": "stream",
          "text": [
            "<bound method NDFrame.head of                                                     text                                             labels\n",
            "0      How much does potato starch affect a cheese sa...                     __label__sauce __label__cheese\n",
            "1      Dangerous pathogens capable of growing in acid...              __label__food-safety __label__acidity\n",
            "2      How do I cover up the white spots on my cast i...                  __label__cast-iron __label__stove\n",
            "3      Michelin Three Star Restaurant; but if the che...                                __label__restaurant\n",
            "4      Without knife skills, how can I quickly and ac...              __label__knife-skills __label__dicing\n",
            "5                     What's the purpose of a bread box?  __label__storage-method __label__equipment __l...\n",
            "6      how to seperate peanut oil from roasted peanut...  __label__baking __label__food-safety __label__...\n",
            "7        American equivalent for British chocolate terms                                 __label__chocolate\n",
            "8                                       Fan bake vs bake  __label__baking __label__oven __label__convection\n",
            "9      Regulation and balancing of readymade packed m...  __label__sauce __label__storage-lifetime __lab...\n",
            "10           What kind of tea do you boil for 45minutes?                                       __label__tea\n",
            "11     How long can batter sit before chemical leaven...  __label__baking __label__baking-powder __label...\n",
            "12     Can I RE-freeze chicken soup after it has thawed?                 __label__food-safety __label__soup\n",
            "13              Ziploc vacuumed bags expand in sous vide                 __label__sous-vide __label__vacuum\n",
            "14                 What can I use instead of corn syrup?  __label__baking __label__substitutions __label...\n",
            "15     Does soaking almonds have the same effect as b...  __label__vegan __label__almonds __label__almon...\n",
            "16     Cake sinks in the middle when baking. Only hap...        __label__baking __label__cake __label__soda\n",
            "17              Which plastic wrap is okay for oven use?                                    __label__baking\n",
            "18       Can I dissolve sugar first before steeping tea?                                       __label__tea\n",
            "19     Is it safe to eat food that was heated in plas...               __label__food-safety __label__salmon\n",
            "20              Flavor and Chemical Composition of Thyme  __label__flavor __label__spices __label__chemi...\n",
            "21        What can I use as a manual hard cheese slicer?                                 __label__equipment\n",
            "22     Are stone or metal grinding wheels better for ...                    __label__flour __label__milling\n",
            "23     Do fava beans need to cook longer than other k...                                     __label__beans\n",
            "24                           Kneading Bread After Rising   __label__baking __label__bread __label__kneading\n",
            "25                             Extraordinary Beef Gravy?  __label__beef __label__roast __label__gravy __...\n",
            "26     How to heat up already baked french bread in o...      __label__baking __label__bread __label__crust\n",
            "27     Is there a difference in appearance between se...                                 __label__chocolate\n",
            "28     If salt dehydrates the meat, then why would br...  __label__food-science __label__marinade __labe...\n",
            "29     How long after baking do American chewy cookie...  __label__cookies __label__texture __label__ame...\n",
            "...                                                  ...                                                ...\n",
            "15374                      Why don't my cookies flatten?                   __label__baking __label__cookies\n",
            "15375    What are these small long narrow yellow things?                            __label__indian-cuisine\n",
            "15376  What's the best replacement for \"solid vegetab...                    __label__oil __label__chickpeas\n",
            "15377                                   Greasy Pie Crust                        __label__pie __label__crust\n",
            "15378                    travelling with cooked chickens                               __label__food-safety\n",
            "15379    Is there grade/quality for spaghetti selection?                                 __label__spaghetti\n",
            "15380          leaving oil on a frying pan for use later  __label__food-safety __label__oil __label__fry...\n",
            "15381                                  Bitter watercress  __label__frying __label__boiling __label__asia...\n",
            "15382                       Sticky corn starch croquette           __label__gluten-free __label__cornstarch\n",
            "15383                            cinnamon in bread dough    __label__dough __label__yeast __label__cinnamon\n",
            "15384     Freshly ground coffee, how fresh should it be?                     __label__coffee __label__fresh\n",
            "15385         How to thicken a Yoghurt based cold sauce?                 __label__sauce __label__thickening\n",
            "15386  What is an alternative in Feijoada to smoked h...  __label__substitutions __label__beef __label__ham\n",
            "15387  Getting rid of a commercial/plastic taste in i...                     __label__baking __label__icing\n",
            "15388                       Raw meat in washing up water                               __label__food-safety\n",
            "15389               How long does lotus root stay fresh?  __label__food-safety __label__food-preservatio...\n",
            "15390             How much water to put in my pasta pot?                                     __label__pasta\n",
            "15391                Using beef jerky cuts for stir fry?  __label__substitutions __label__beef __label__...\n",
            "15392            Thinning copper-bottomed staninless pot                                 __label__equipment\n",
            "15393                Soaking potatoes more than 24 hours             __label__food-safety __label__potatoes\n",
            "15394  How to enhance sweetness of a baked chocolate ...    __label__baking __label__cake __label__brownies\n",
            "15395                Why did my chowder turn out watery?                                      __label__soup\n",
            "15396  What are the chunks of connective tissue on so...                       __label__beef __label__bones\n",
            "15397     Can I halve the Amish Friendship Bread recipe?  __label__bread __label__recipe-scaling __label...\n",
            "15398  Is there a non-penetrative method for checking...     __label__baking __label__dessert __label__cake\n",
            "15399  Can I substitute Ener-G Egg Replacer with Orgr...  __label__baking __label__substitutions __label...\n",
            "15400  Roasting sirloin which has already been cut in...                  __label__beef __label__roast-beef\n",
            "15401         how to use CSA vegetables most efficiently                                __label__vegetables\n",
            "15402  What are some different ways of preparing flax...              __label__culinary-uses __label__seeds\n",
            "15403                                    Lemon Balm Uses              __label__culinary-uses __label__herbs\n",
            "\n",
            "[15404 rows x 2 columns]>\n"
          ],
          "name": "stdout"
        }
      ]
    },
    {
      "cell_type": "markdown",
      "metadata": {
        "id": "55sn1OhCSINe",
        "colab_type": "text"
      },
      "source": [
        "or: **Upload the data!**\n",
        "\n"
      ]
    },
    {
      "cell_type": "code",
      "metadata": {
        "id": "YcT6Cj_oaGeP",
        "colab_type": "code",
        "outputId": "a1caef96-fb9d-416f-a8d4-0bb555442679",
        "colab": {
          "base_uri": "https://localhost:8080/",
          "height": 34
        }
      },
      "source": [
        "# check the file is there\n",
        "!ls cooking*csv"
      ],
      "execution_count": 0,
      "outputs": [
        {
          "output_type": "stream",
          "text": [
            "cooking.stackexchange.csv\n"
          ],
          "name": "stdout"
        }
      ]
    },
    {
      "cell_type": "code",
      "metadata": {
        "id": "XiaqOuASaGn2",
        "colab_type": "code",
        "outputId": "9689679e-26c6-41e9-a38f-04ee54a32094",
        "colab": {
          "base_uri": "https://localhost:8080/",
          "height": 101
        }
      },
      "source": [
        "p = Path('cooking.stackexchange.csv')\n",
        "\n",
        "df = pd.read_csv('cooking.stackexchange.csv')\n",
        "print(df.head(2))\n",
        "print(df.columns)\n",
        "print(df['text'][1])"
      ],
      "execution_count": 0,
      "outputs": [
        {
          "output_type": "stream",
          "text": [
            "                                                text                                 labels\n",
            "0  How much does potato starch affect a cheese sa...         __label__sauce __label__cheese\n",
            "1  Dangerous pathogens capable of growing in acid...  __label__food-safety __label__acidity\n",
            "Index(['text', 'labels'], dtype='object')\n",
            "Dangerous pathogens capable of growing in acidic environments\n"
          ],
          "name": "stdout"
        }
      ]
    },
    {
      "cell_type": "markdown",
      "metadata": {
        "id": "fbtKesuhJrPC",
        "colab_type": "text"
      },
      "source": [
        "## Fine-tuning of the language model"
      ]
    },
    {
      "cell_type": "code",
      "metadata": {
        "id": "V5uhH_-xWpp-",
        "colab_type": "code",
        "outputId": "0a6c30f4-f7ee-4ef1-d1a5-04ec0dd80a1d",
        "colab": {
          "base_uri": "https://localhost:8080/",
          "height": 34
        }
      },
      "source": [
        "bs=48\n",
        "data_lm = (TextList.from_csv(Path('.'), 'cooking.stackexchange.csv', cols='text')\n",
        "           #Inputs: all the text files in path\n",
        "            # .filter_by_folder(include=['.']) \n",
        "           #We may have other temp folders that contain text files so we only keep what's in train and test\n",
        "            .split_by_rand_pct(0.1)\n",
        "           #We randomly split and keep 10% (10,000 reviews) for validation\n",
        "            .label_for_lm()           \n",
        "           #We want to do a language model so we label accordingly\n",
        "            .databunch(bs=bs))\n",
        "data_lm.save('data_lm.pkl')\n",
        "print('done')"
      ],
      "execution_count": 0,
      "outputs": [
        {
          "output_type": "stream",
          "text": [
            "done\n"
          ],
          "name": "stdout"
        }
      ]
    },
    {
      "cell_type": "code",
      "metadata": {
        "id": "c-5E5Z1QYttW",
        "colab_type": "code",
        "colab": {}
      },
      "source": [
        "\n",
        "data_lm = load_data(Path('.'), 'data_lm.pkl', bs=bs)"
      ],
      "execution_count": 0,
      "outputs": []
    },
    {
      "cell_type": "code",
      "metadata": {
        "id": "cR0kfvvcYtwN",
        "colab_type": "code",
        "outputId": "1ca72328-b834-44d7-940c-13764915c513",
        "colab": {
          "base_uri": "https://localhost:8080/",
          "height": 279
        }
      },
      "source": [
        "data_lm.show_batch()"
      ],
      "execution_count": 0,
      "outputs": [
        {
          "output_type": "display_data",
          "data": {
            "text/html": [
              "<table border=\"1\" class=\"dataframe\">\n",
              "  <thead>\n",
              "    <tr style=\"text-align: right;\">\n",
              "      <th>idx</th>\n",
              "      <th>text</th>\n",
              "    </tr>\n",
              "  </thead>\n",
              "  <tbody>\n",
              "    <tr>\n",
              "      <td>0</td>\n",
              "      <td>? xxbos xxmaj what 's the purpose of a bread box ? xxbos how to xxunk peanut oil from roasted peanuts at home ? xxbos xxmaj american equivalent for xxmaj british chocolate terms xxbos xxmaj xxunk and balancing of xxunk packed mayonnaise and other sauces xxbos xxmaj how long can batter sit before chemical xxunk lose their power ? xxbos xxmaj can i xxup re - freeze chicken soup after</td>\n",
              "    </tr>\n",
              "    <tr>\n",
              "      <td>1</td>\n",
              "      <td>at room temperature or go straight to the oven ? xxbos xxmaj xxunk taste to xxunk ice cream ? xxbos xxmaj defrosting xxmaj fish without xxmaj bag xxbos xxmaj is white cabbage that has turned rose - colored still safe to eat ? xxbos the sugar content of raw corn on the vs cooked corn on the cob xxbos can i bake pine nuts ? xxbos xxmaj should i purchase</td>\n",
              "    </tr>\n",
              "    <tr>\n",
              "      <td>2</td>\n",
              "      <td>in an electric oven ? xxbos xxmaj how to prevent my roux from sticking to the bottom of the pan ? xxbos xxmaj how can i clean frozen ( raw ) chicken juice out of my freezer ? xxbos xxmaj my gravy turned to jello overnight . xxmaj how can i make it last for leftovers ? xxbos xxmaj differences between haddock versus cod xxbos xxmaj how should i substitute</td>\n",
              "    </tr>\n",
              "    <tr>\n",
              "      <td>3</td>\n",
              "      <td>ginger starting to sprout - can i still use it ? xxbos xxmaj why would a portable barbecue xxunk against using pots on the grill ? xxbos xxmaj are chestnut mushrooms and baby xxunk mushrooms the same thing ? xxbos xxmaj adding cold water during cooking of beans and cooking time xxbos xxmaj any reason i ca n't use xxunk batter to make one huge xxunk without separating into little</td>\n",
              "    </tr>\n",
              "    <tr>\n",
              "      <td>4</td>\n",
              "      <td>, is it a white cake xxunk in the xxup xxunk ? xxbos xxunk of thyme dry substitute ratio xxbos xxmaj what book / website should i read to help me move beyond just being able to follow a recipe ? xxbos xxmaj what are xxunk of spoiled food that is part of a culture 's cuisine ? xxbos xxmaj why did my chocolate tempering fail ? xxbos xxmaj is</td>\n",
              "    </tr>\n",
              "  </tbody>\n",
              "</table>"
            ],
            "text/plain": [
              "<IPython.core.display.HTML object>"
            ]
          },
          "metadata": {
            "tags": []
          }
        }
      ]
    },
    {
      "cell_type": "code",
      "metadata": {
        "id": "tUBtDtABZmpD",
        "colab_type": "code",
        "colab": {}
      },
      "source": [
        "# download pre-trained (Wikipedia) model and create learner\n",
        "learn = language_model_learner(data_lm, AWD_LSTM, drop_mult=0.3)"
      ],
      "execution_count": 0,
      "outputs": []
    },
    {
      "cell_type": "code",
      "metadata": {
        "id": "tafa_fDpykBD",
        "colab_type": "code",
        "colab": {}
      },
      "source": [
        "# test lang model\n",
        "TEXT = \"I think\"\n",
        "N_WORDS = 40\n",
        "N_SENTENCES = 4\n",
        "print(\"\\n\".join(learn.predict(TEXT, N_WORDS, temperature=0.75) for _ in range(N_SENTENCES)))"
      ],
      "execution_count": 0,
      "outputs": []
    },
    {
      "cell_type": "code",
      "metadata": {
        "id": "CsrmrimRZmsL",
        "colab_type": "code",
        "outputId": "14399e4f-f7f2-4b21-c86f-701359336b95",
        "colab": {
          "base_uri": "https://localhost:8080/",
          "height": 34
        }
      },
      "source": [
        "learn.lr_find()"
      ],
      "execution_count": 0,
      "outputs": [
        {
          "output_type": "display_data",
          "data": {
            "text/html": [
              ""
            ],
            "text/plain": [
              "<IPython.core.display.HTML object>"
            ]
          },
          "metadata": {
            "tags": []
          }
        },
        {
          "output_type": "stream",
          "text": [
            "LR Finder is complete, type {learner_name}.recorder.plot() to see the graph.\n"
          ],
          "name": "stdout"
        }
      ]
    },
    {
      "cell_type": "code",
      "metadata": {
        "id": "IMu32xgxZmvZ",
        "colab_type": "code",
        "outputId": "85a832dc-0087-43f3-cb8b-f04d6be8eb82",
        "colab": {
          "base_uri": "https://localhost:8080/",
          "height": 283
        }
      },
      "source": [
        "learn.recorder.plot(skip_end=15)"
      ],
      "execution_count": 0,
      "outputs": [
        {
          "output_type": "display_data",
          "data": {
            "image/png": "[encoded data removed]",
            "text/plain": [
              "<Figure size 432x288 with 1 Axes>"
            ]
          },
          "metadata": {
            "tags": []
          }
        }
      ]
    },
    {
      "cell_type": "code",
      "metadata": {
        "id": "yYVsfD0qZmyx",
        "colab_type": "code",
        "outputId": "c5a66314-9e63-4693-b086-5d1ce8928ff5",
        "colab": {
          "base_uri": "https://localhost:8080/",
          "height": 77
        }
      },
      "source": [
        "learn.fit_one_cycle(1, 2e-1, moms=(0.8,0.7))"
      ],
      "execution_count": 0,
      "outputs": [
        {
          "output_type": "display_data",
          "data": {
            "text/html": [
              "<table border=\"1\" class=\"dataframe\">\n",
              "  <thead>\n",
              "    <tr style=\"text-align: left;\">\n",
              "      <th>epoch</th>\n",
              "      <th>train_loss</th>\n",
              "      <th>valid_loss</th>\n",
              "      <th>accuracy</th>\n",
              "      <th>time</th>\n",
              "    </tr>\n",
              "  </thead>\n",
              "  <tbody>\n",
              "    <tr>\n",
              "      <td>0</td>\n",
              "      <td>4.667302</td>\n",
              "      <td>4.102796</td>\n",
              "      <td>0.333978</td>\n",
              "      <td>00:06</td>\n",
              "    </tr>\n",
              "  </tbody>\n",
              "</table>"
            ],
            "text/plain": [
              "<IPython.core.display.HTML object>"
            ]
          },
          "metadata": {
            "tags": []
          }
        }
      ]
    },
    {
      "cell_type": "code",
      "metadata": {
        "id": "Myt0qe1WZm2G",
        "colab_type": "code",
        "colab": {}
      },
      "source": [
        "learn.save('fit_head')"
      ],
      "execution_count": 0,
      "outputs": []
    },
    {
      "cell_type": "code",
      "metadata": {
        "id": "CN3-uvaiZm5l",
        "colab_type": "code",
        "colab": {}
      },
      "source": [
        "learn.load('fit_head');"
      ],
      "execution_count": 0,
      "outputs": []
    },
    {
      "cell_type": "code",
      "metadata": {
        "id": "f8TaD2DjZm9j",
        "colab_type": "code",
        "colab": {}
      },
      "source": [
        "learn.unfreeze()"
      ],
      "execution_count": 0,
      "outputs": []
    },
    {
      "cell_type": "code",
      "metadata": {
        "id": "rLIQqUijKUAR",
        "colab_type": "code",
        "outputId": "ba47778c-6928-4202-bdc7-8a880b88ebb8",
        "colab": {
          "base_uri": "https://localhost:8080/",
          "height": 300
        }
      },
      "source": [
        "learn.lr_find()\n",
        "learn.recorder.plot(skip_end=15)"
      ],
      "execution_count": 0,
      "outputs": [
        {
          "output_type": "display_data",
          "data": {
            "text/html": [
              ""
            ],
            "text/plain": [
              "<IPython.core.display.HTML object>"
            ]
          },
          "metadata": {
            "tags": []
          }
        },
        {
          "output_type": "stream",
          "text": [
            "LR Finder is complete, type {learner_name}.recorder.plot() to see the graph.\n"
          ],
          "name": "stdout"
        },
        {
          "output_type": "display_data",
          "data": {
            "image/png": "[encoded data removed]",
            "text/plain": [
              "<Figure size 432x288 with 1 Axes>"
            ]
          },
          "metadata": {
            "tags": []
          }
        }
      ]
    },
    {
      "cell_type": "code",
      "metadata": {
        "id": "vmwu1gS6jLI3",
        "colab_type": "code",
        "outputId": "4c74a0f9-2512-4523-f3e6-52cbf63b9fa6",
        "colab": {
          "base_uri": "https://localhost:8080/",
          "height": 195
        }
      },
      "source": [
        "epochs = 5 # orig: 10\n",
        "learn.fit_one_cycle(epochs, 4e-2, moms=(0.8,0.7))"
      ],
      "execution_count": 0,
      "outputs": [
        {
          "output_type": "display_data",
          "data": {
            "text/html": [
              "<table border=\"1\" class=\"dataframe\">\n",
              "  <thead>\n",
              "    <tr style=\"text-align: left;\">\n",
              "      <th>epoch</th>\n",
              "      <th>train_loss</th>\n",
              "      <th>valid_loss</th>\n",
              "      <th>accuracy</th>\n",
              "      <th>time</th>\n",
              "    </tr>\n",
              "  </thead>\n",
              "  <tbody>\n",
              "    <tr>\n",
              "      <td>0</td>\n",
              "      <td>3.923906</td>\n",
              "      <td>3.874960</td>\n",
              "      <td>0.343006</td>\n",
              "      <td>00:08</td>\n",
              "    </tr>\n",
              "    <tr>\n",
              "      <td>1</td>\n",
              "      <td>3.785456</td>\n",
              "      <td>3.644530</td>\n",
              "      <td>0.366865</td>\n",
              "      <td>00:08</td>\n",
              "    </tr>\n",
              "    <tr>\n",
              "      <td>2</td>\n",
              "      <td>3.565878</td>\n",
              "      <td>3.578303</td>\n",
              "      <td>0.380060</td>\n",
              "      <td>00:08</td>\n",
              "    </tr>\n",
              "    <tr>\n",
              "      <td>3</td>\n",
              "      <td>3.218016</td>\n",
              "      <td>3.548112</td>\n",
              "      <td>0.383631</td>\n",
              "      <td>00:08</td>\n",
              "    </tr>\n",
              "    <tr>\n",
              "      <td>4</td>\n",
              "      <td>2.696791</td>\n",
              "      <td>3.691480</td>\n",
              "      <td>0.377083</td>\n",
              "      <td>00:08</td>\n",
              "    </tr>\n",
              "  </tbody>\n",
              "</table>"
            ],
            "text/plain": [
              "<IPython.core.display.HTML object>"
            ]
          },
          "metadata": {
            "tags": []
          }
        }
      ]
    },
    {
      "cell_type": "code",
      "metadata": {
        "id": "xZSt8E15jLMG",
        "colab_type": "code",
        "colab": {}
      },
      "source": [
        "learn.save('fine_tuned')"
      ],
      "execution_count": 0,
      "outputs": []
    },
    {
      "cell_type": "code",
      "metadata": {
        "id": "y8Ce6YpUjLPQ",
        "colab_type": "code",
        "colab": {}
      },
      "source": [
        "\n",
        "learn.load('fine_tuned');"
      ],
      "execution_count": 0,
      "outputs": []
    },
    {
      "cell_type": "code",
      "metadata": {
        "id": "s-n0VSRajLSs",
        "colab_type": "code",
        "outputId": "0faa5cd3-1991-4529-8c0d-1f0fd4689f9b",
        "colab": {
          "base_uri": "https://localhost:8080/",
          "height": 50
        }
      },
      "source": [
        "# test lang model\n",
        "TEXT = \"I was cooking on\"\n",
        "N_WORDS = 40\n",
        "N_SENTENCES = 2\n",
        "print(\"\\n\".join(learn.predict(TEXT, N_WORDS, temperature=0.75) for _ in range(N_SENTENCES)))\n"
      ],
      "execution_count": 0,
      "outputs": [
        {
          "output_type": "stream",
          "text": [
            "I was cooking on my pot from the \" pizza pan over \" - what makes it break ? xxbos how do i add the alcohol to make caramel sauce ? xxbos What can i do with a failed mixer ? xxbos\n",
            "I was cooking on ' Pepperoni ' UK . Can i still use them ? xxbos Baking a Cake without a thermometer ? xxbos How to use a commercial oven ? xxbos Are there reasons to use\n"
          ],
          "name": "stdout"
        }
      ]
    },
    {
      "cell_type": "code",
      "metadata": {
        "id": "tumpLk48jLVy",
        "colab_type": "code",
        "colab": {}
      },
      "source": [
        "learn.save_encoder('fine_tuned_enc')"
      ],
      "execution_count": 0,
      "outputs": []
    },
    {
      "cell_type": "markdown",
      "metadata": {
        "id": "TKgiUzG3K-1w",
        "colab_type": "text"
      },
      "source": [
        "## Train a classifier"
      ]
    },
    {
      "cell_type": "markdown",
      "metadata": {
        "id": "TMB5GXLhLN28",
        "colab_type": "text"
      },
      "source": [
        "As we are using multi-label classification, we define our own metrics (fastai doesn't support multi-label well yet)"
      ]
    },
    {
      "cell_type": "code",
      "metadata": {
        "id": "DpDdcNM6pxhw",
        "colab_type": "code",
        "colab": {}
      },
      "source": [
        "def custom_precision(log_preds, targs, thresh=0.5, epsilon=1e-8):\n",
        "    pred_pos = (log_preds > thresh).float()\n",
        "    tpos = torch.mul((targs == pred_pos).float(), targs.float())\n",
        "    return (tpos.sum()/(pred_pos.sum() + epsilon))#.item()\n",
        "  \n",
        "def custom_recall(log_preds, targs, thresh=0.5, epsilon=1e-8):\n",
        "    pred_pos = (log_preds > thresh).float()\n",
        "    tpos = torch.mul((targs == pred_pos).float(), targs.float())\n",
        "    return (tpos.sum()/(targs.sum() + epsilon))\n",
        " "
      ],
      "execution_count": 0,
      "outputs": []
    },
    {
      "cell_type": "code",
      "metadata": {
        "id": "_RLVSPKWjLZO",
        "colab_type": "code",
        "colab": {}
      },
      "source": [
        "data_clas = (TextList.from_csv(Path('.'), 'cooking.stackexchange.csv', vocab=data_lm.vocab, cols='text')\n",
        "             #grab all the text files in path\n",
        "             #wohlg: .split_by_folder(valid='test')\n",
        "             .split_by_rand_pct()\n",
        "             #split by train and valid folder (that only keeps 'train' and 'test' so no need to filter)             \n",
        "             #wohlg: .label_from_folder(classes=['neg', 'pos'])\n",
        "             .label_from_df(cols='labels', label_delim=' ')\n",
        "             #label them all with their folders\n",
        "             .databunch(bs=bs))\n",
        "\n",
        "data_clas.save('data_clas.pkl')\n"
      ],
      "execution_count": 0,
      "outputs": []
    },
    {
      "cell_type": "code",
      "metadata": {
        "id": "lLq_pAhSjLe2",
        "colab_type": "code",
        "colab": {}
      },
      "source": [
        "data_clas = load_data(Path('.'), 'data_clas.pkl', bs=bs)"
      ],
      "execution_count": 0,
      "outputs": []
    },
    {
      "cell_type": "code",
      "metadata": {
        "id": "bIC3m4atjLcQ",
        "colab_type": "code",
        "outputId": "5ce125cd-a04b-419b-c347-91b8b2af6d4e",
        "colab": {
          "base_uri": "https://localhost:8080/",
          "height": 229
        }
      },
      "source": [
        "data_clas.show_batch()\n",
        "#data_clas.label_list\n",
        "\n",
        "\n",
        "\n"
      ],
      "execution_count": 0,
      "outputs": [
        {
          "output_type": "display_data",
          "data": {
            "text/html": [
              "<table border=\"1\" class=\"dataframe\">\n",
              "  <thead>\n",
              "    <tr style=\"text-align: right;\">\n",
              "      <th>text</th>\n",
              "      <th>target</th>\n",
              "    </tr>\n",
              "  </thead>\n",
              "  <tbody>\n",
              "    <tr>\n",
              "      <td>xxbos xxmaj what piece of veal should i xxunk a butcher / meat shop in the xxup us if i want to do stew dishes like \" xxunk de xxunk \" or \" xxunk xxunk \" ?</td>\n",
              "      <td>__label__butchering;__label__cut-of-meat;__label__veal</td>\n",
              "    </tr>\n",
              "    <tr>\n",
              "      <td>xxbos xxmaj boiling xxmaj water xxmaj for xxmaj pasta - xxmaj with xxmaj lid xxmaj on xxrep 4 . xxmaj do i xxmaj have xxmaj to xxmaj wash xxmaj the xxmaj lid ?</td>\n",
              "      <td>__label__cleaning</td>\n",
              "    </tr>\n",
              "    <tr>\n",
              "      <td>xxbos xxmaj given i have to make the batter now to eat in 3 - xxunk , what 's the best way to store my pancakes ( or the batter ) ?</td>\n",
              "      <td>__label__batter;__label__pancakes;__label__storage-method</td>\n",
              "    </tr>\n",
              "    <tr>\n",
              "      <td>xxbos xxmaj yeast xxunk : xxmaj active xxmaj dry xxmaj yeast , xxmaj instant xxmaj yeast , xxmaj baking xxmaj soda , xxmaj baking xxmaj powder . xxmaj differences and xxmaj info</td>\n",
              "      <td>__label__baking;__label__baking-soda;__label__storage-lifetime;__label__storage-method;__label__yeast</td>\n",
              "    </tr>\n",
              "    <tr>\n",
              "      <td>xxbos xxmaj is xxmaj one xxmaj of xxmaj these xxmaj an xxmaj appropriate xxmaj substitute xxmaj for a xxmaj stewing xxmaj xxunk xxmaj for xxmaj making xxmaj chicken xxmaj stock ?</td>\n",
              "      <td>__label__chicken-stock</td>\n",
              "    </tr>\n",
              "  </tbody>\n",
              "</table>"
            ],
            "text/plain": [
              "<IPython.core.display.HTML object>"
            ]
          },
          "metadata": {
            "tags": []
          }
        }
      ]
    },
    {
      "cell_type": "code",
      "metadata": {
        "id": "cyWs6u1vl6mX",
        "colab_type": "code",
        "colab": {}
      },
      "source": [
        "learn = text_classifier_learner(data_clas, AWD_LSTM, drop_mult=0.5)\n",
        "learn.metrics = [accuracy_thresh, custom_precision, custom_recall]\n",
        "learn.load_encoder('fine_tuned_enc')"
      ],
      "execution_count": 0,
      "outputs": []
    },
    {
      "cell_type": "code",
      "metadata": {
        "id": "X5sGGcAUl6ps",
        "colab_type": "code",
        "outputId": "1f23ec7d-7996-43f9-9d62-cc96209e5454",
        "colab": {
          "base_uri": "https://localhost:8080/",
          "height": 34
        }
      },
      "source": [
        "\n",
        "learn.lr_find()"
      ],
      "execution_count": 0,
      "outputs": [
        {
          "output_type": "display_data",
          "data": {
            "text/html": [
              ""
            ],
            "text/plain": [
              "<IPython.core.display.HTML object>"
            ]
          },
          "metadata": {
            "tags": []
          }
        },
        {
          "output_type": "stream",
          "text": [
            "LR Finder is complete, type {learner_name}.recorder.plot() to see the graph.\n"
          ],
          "name": "stdout"
        }
      ]
    },
    {
      "cell_type": "code",
      "metadata": {
        "id": "4TaL4rGml6tD",
        "colab_type": "code",
        "outputId": "6486adc3-c862-48f3-8088-73090535e796",
        "colab": {
          "base_uri": "https://localhost:8080/",
          "height": 283
        }
      },
      "source": [
        "\n",
        "learn.recorder.plot()"
      ],
      "execution_count": 0,
      "outputs": [
        {
          "output_type": "display_data",
          "data": {
            "image/png": "[encoded data removed]",
            "text/plain": [
              "<Figure size 432x288 with 1 Axes>"
            ]
          },
          "metadata": {
            "tags": []
          }
        }
      ]
    },
    {
      "cell_type": "code",
      "metadata": {
        "id": "BrPh0yRdl6zX",
        "colab_type": "code",
        "outputId": "ed76beef-8f48-480d-a417-92ab3a252fea",
        "colab": {
          "base_uri": "https://localhost:8080/",
          "height": 343
        }
      },
      "source": [
        "\n",
        "learn.fit_one_cycle(10, 1e-1, moms=(0.8,0.7))"
      ],
      "execution_count": 0,
      "outputs": [
        {
          "output_type": "display_data",
          "data": {
            "text/html": [
              "<table border=\"1\" class=\"dataframe\">\n",
              "  <thead>\n",
              "    <tr style=\"text-align: left;\">\n",
              "      <th>epoch</th>\n",
              "      <th>train_loss</th>\n",
              "      <th>valid_loss</th>\n",
              "      <th>accuracy_thresh</th>\n",
              "      <th>custom_precision</th>\n",
              "      <th>custom_recall</th>\n",
              "      <th>time</th>\n",
              "    </tr>\n",
              "  </thead>\n",
              "  <tbody>\n",
              "    <tr>\n",
              "      <td>0</td>\n",
              "      <td>0.015852</td>\n",
              "      <td>0.015545</td>\n",
              "      <td>0.996909</td>\n",
              "      <td>0.677811</td>\n",
              "      <td>0.030334</td>\n",
              "      <td>00:06</td>\n",
              "    </tr>\n",
              "    <tr>\n",
              "      <td>1</td>\n",
              "      <td>0.017244</td>\n",
              "      <td>0.026393</td>\n",
              "      <td>0.996891</td>\n",
              "      <td>0.625483</td>\n",
              "      <td>0.024663</td>\n",
              "      <td>00:06</td>\n",
              "    </tr>\n",
              "    <tr>\n",
              "      <td>2</td>\n",
              "      <td>0.018029</td>\n",
              "      <td>0.018464</td>\n",
              "      <td>0.996846</td>\n",
              "      <td>0.582747</td>\n",
              "      <td>0.015626</td>\n",
              "      <td>00:07</td>\n",
              "    </tr>\n",
              "    <tr>\n",
              "      <td>3</td>\n",
              "      <td>0.017373</td>\n",
              "      <td>0.017441</td>\n",
              "      <td>0.996852</td>\n",
              "      <td>0.418011</td>\n",
              "      <td>0.009473</td>\n",
              "      <td>00:06</td>\n",
              "    </tr>\n",
              "    <tr>\n",
              "      <td>4</td>\n",
              "      <td>0.017150</td>\n",
              "      <td>0.017067</td>\n",
              "      <td>0.996641</td>\n",
              "      <td>0.578286</td>\n",
              "      <td>0.014169</td>\n",
              "      <td>00:07</td>\n",
              "    </tr>\n",
              "    <tr>\n",
              "      <td>5</td>\n",
              "      <td>0.016641</td>\n",
              "      <td>0.016408</td>\n",
              "      <td>0.996903</td>\n",
              "      <td>0.676141</td>\n",
              "      <td>0.020271</td>\n",
              "      <td>00:06</td>\n",
              "    </tr>\n",
              "    <tr>\n",
              "      <td>6</td>\n",
              "      <td>0.016034</td>\n",
              "      <td>0.016143</td>\n",
              "      <td>0.996814</td>\n",
              "      <td>0.666391</td>\n",
              "      <td>0.030429</td>\n",
              "      <td>00:06</td>\n",
              "    </tr>\n",
              "    <tr>\n",
              "      <td>7</td>\n",
              "      <td>0.015552</td>\n",
              "      <td>0.015134</td>\n",
              "      <td>0.996924</td>\n",
              "      <td>0.652959</td>\n",
              "      <td>0.032272</td>\n",
              "      <td>00:06</td>\n",
              "    </tr>\n",
              "    <tr>\n",
              "      <td>8</td>\n",
              "      <td>0.015205</td>\n",
              "      <td>0.014852</td>\n",
              "      <td>0.996959</td>\n",
              "      <td>0.687752</td>\n",
              "      <td>0.053161</td>\n",
              "      <td>00:06</td>\n",
              "    </tr>\n",
              "    <tr>\n",
              "      <td>9</td>\n",
              "      <td>0.014731</td>\n",
              "      <td>0.014814</td>\n",
              "      <td>0.996957</td>\n",
              "      <td>0.691123</td>\n",
              "      <td>0.047784</td>\n",
              "      <td>00:06</td>\n",
              "    </tr>\n",
              "  </tbody>\n",
              "</table>"
            ],
            "text/plain": [
              "<IPython.core.display.HTML object>"
            ]
          },
          "metadata": {
            "tags": []
          }
        }
      ]
    },
    {
      "cell_type": "code",
      "metadata": {
        "id": "Go03WwP9l62p",
        "colab_type": "code",
        "colab": {}
      },
      "source": [
        "learn.save('first')"
      ],
      "execution_count": 0,
      "outputs": []
    },
    {
      "cell_type": "code",
      "metadata": {
        "id": "Nim2xtSDl65f",
        "colab_type": "code",
        "colab": {}
      },
      "source": [
        "learn.load('first');"
      ],
      "execution_count": 0,
      "outputs": []
    },
    {
      "cell_type": "markdown",
      "metadata": {
        "id": "D-rmBz8xMJMJ",
        "colab_type": "text"
      },
      "source": [
        "Why gradual unfreeze? Give example of Image detection."
      ]
    },
    {
      "cell_type": "code",
      "metadata": {
        "id": "TdYFyLlkl69M",
        "colab_type": "code",
        "colab": {}
      },
      "source": [
        "learn.freeze_to(-2)\n",
        "\n"
      ],
      "execution_count": 0,
      "outputs": []
    },
    {
      "cell_type": "code",
      "metadata": {
        "id": "pOwJWQYNzZ5L",
        "colab_type": "code",
        "outputId": "186e2e33-61bb-4dbf-d492-453180bf7a57",
        "colab": {
          "base_uri": "https://localhost:8080/",
          "height": 300
        }
      },
      "source": [
        "learn.lr_find()\n",
        "learn.recorder.plot()"
      ],
      "execution_count": 0,
      "outputs": [
        {
          "output_type": "display_data",
          "data": {
            "text/html": [
              ""
            ],
            "text/plain": [
              "<IPython.core.display.HTML object>"
            ]
          },
          "metadata": {
            "tags": []
          }
        },
        {
          "output_type": "stream",
          "text": [
            "LR Finder is complete, type {learner_name}.recorder.plot() to see the graph.\n"
          ],
          "name": "stdout"
        },
        {
          "output_type": "display_data",
          "data": {
            "image/png": "[encoded data removed]",
            "text/plain": [
              "<Figure size 432x288 with 1 Axes>"
            ]
          },
          "metadata": {
            "tags": []
          }
        }
      ]
    },
    {
      "cell_type": "code",
      "metadata": {
        "id": "dMGZ4kn2zUm4",
        "colab_type": "code",
        "outputId": "e4e3b23e-26cb-45fa-89ea-336e0219d66c",
        "colab": {
          "base_uri": "https://localhost:8080/",
          "height": 195
        }
      },
      "source": [
        "learn.fit_one_cycle(5, slice(1e-3/(2.6**4),1e-3), moms=(0.8,0.7))\n",
        "#learn.fit_one_cycle(1, slice(5e-1/(2.6**4),5e-1), moms=(0.8,0.7))\n",
        "#learn.fit_one_cycle(1, slice(5e-3/(2.6**4),5e-3), moms=(0.8,0.7)"
      ],
      "execution_count": 0,
      "outputs": [
        {
          "output_type": "display_data",
          "data": {
            "text/html": [
              "<table border=\"1\" class=\"dataframe\">\n",
              "  <thead>\n",
              "    <tr style=\"text-align: left;\">\n",
              "      <th>epoch</th>\n",
              "      <th>train_loss</th>\n",
              "      <th>valid_loss</th>\n",
              "      <th>accuracy_thresh</th>\n",
              "      <th>custom_precision</th>\n",
              "      <th>custom_recall</th>\n",
              "      <th>time</th>\n",
              "    </tr>\n",
              "  </thead>\n",
              "  <tbody>\n",
              "    <tr>\n",
              "      <td>0</td>\n",
              "      <td>0.014442</td>\n",
              "      <td>0.014832</td>\n",
              "      <td>0.996966</td>\n",
              "      <td>0.706221</td>\n",
              "      <td>0.046988</td>\n",
              "      <td>00:07</td>\n",
              "    </tr>\n",
              "    <tr>\n",
              "      <td>1</td>\n",
              "      <td>0.014599</td>\n",
              "      <td>0.014871</td>\n",
              "      <td>0.996968</td>\n",
              "      <td>0.705881</td>\n",
              "      <td>0.051909</td>\n",
              "      <td>00:07</td>\n",
              "    </tr>\n",
              "    <tr>\n",
              "      <td>2</td>\n",
              "      <td>0.014679</td>\n",
              "      <td>0.014809</td>\n",
              "      <td>0.996977</td>\n",
              "      <td>0.712842</td>\n",
              "      <td>0.051183</td>\n",
              "      <td>00:07</td>\n",
              "    </tr>\n",
              "    <tr>\n",
              "      <td>3</td>\n",
              "      <td>0.014547</td>\n",
              "      <td>0.014772</td>\n",
              "      <td>0.996983</td>\n",
              "      <td>0.729023</td>\n",
              "      <td>0.055179</td>\n",
              "      <td>00:07</td>\n",
              "    </tr>\n",
              "    <tr>\n",
              "      <td>4</td>\n",
              "      <td>0.014520</td>\n",
              "      <td>0.014771</td>\n",
              "      <td>0.996986</td>\n",
              "      <td>0.716110</td>\n",
              "      <td>0.052743</td>\n",
              "      <td>00:07</td>\n",
              "    </tr>\n",
              "  </tbody>\n",
              "</table>"
            ],
            "text/plain": [
              "<IPython.core.display.HTML object>"
            ]
          },
          "metadata": {
            "tags": []
          }
        }
      ]
    },
    {
      "cell_type": "code",
      "metadata": {
        "id": "kzbQqXfll7CT",
        "colab_type": "code",
        "colab": {}
      },
      "source": [
        "learn.save('second')"
      ],
      "execution_count": 0,
      "outputs": []
    },
    {
      "cell_type": "code",
      "metadata": {
        "id": "AvF4OP0Ml7AY",
        "colab_type": "code",
        "colab": {}
      },
      "source": [
        "learn.load('second');"
      ],
      "execution_count": 0,
      "outputs": []
    },
    {
      "cell_type": "code",
      "metadata": {
        "id": "wIdm-jGQl6wV",
        "colab_type": "code",
        "colab": {}
      },
      "source": [
        "learn.freeze_to(-3)\n"
      ],
      "execution_count": 0,
      "outputs": []
    },
    {
      "cell_type": "code",
      "metadata": {
        "id": "G6S95Yyczw98",
        "colab_type": "code",
        "outputId": "f6405a58-e906-4d02-a1c1-d297156d53b0",
        "colab": {
          "base_uri": "https://localhost:8080/",
          "height": 300
        }
      },
      "source": [
        "learn.lr_find()\n",
        "learn.recorder.plot()"
      ],
      "execution_count": 0,
      "outputs": [
        {
          "output_type": "display_data",
          "data": {
            "text/html": [
              ""
            ],
            "text/plain": [
              "<IPython.core.display.HTML object>"
            ]
          },
          "metadata": {
            "tags": []
          }
        },
        {
          "output_type": "stream",
          "text": [
            "LR Finder is complete, type {learner_name}.recorder.plot() to see the graph.\n"
          ],
          "name": "stdout"
        },
        {
          "output_type": "display_data",
          "data": {
            "image/png": "[encoded data removed]",
            "text/plain": [
              "<Figure size 432x288 with 1 Axes>"
            ]
          },
          "metadata": {
            "tags": []
          }
        }
      ]
    },
    {
      "cell_type": "code",
      "metadata": {
        "id": "saqmt2ujzxLf",
        "colab_type": "code",
        "outputId": "68b58499-8158-4126-b7f9-e38f8c4c76c2",
        "colab": {
          "base_uri": "https://localhost:8080/",
          "height": 343
        }
      },
      "source": [
        "#learn.fit_one_cycle(1, slice(5e-3/(2.6**4),5e-3), moms=(0.8,0.7))\n",
        "#learn.fit_one_cycle(4, slice(5e-2/(2.6**4),5e-2), moms=(0.8,0.7))\n",
        "learn.fit_one_cycle(10, slice(2e-2/(2.6**4),2e-2), moms=(0.8,0.7))"
      ],
      "execution_count": 0,
      "outputs": [
        {
          "output_type": "display_data",
          "data": {
            "text/html": [
              "<table border=\"1\" class=\"dataframe\">\n",
              "  <thead>\n",
              "    <tr style=\"text-align: left;\">\n",
              "      <th>epoch</th>\n",
              "      <th>train_loss</th>\n",
              "      <th>valid_loss</th>\n",
              "      <th>accuracy_thresh</th>\n",
              "      <th>custom_precision</th>\n",
              "      <th>custom_recall</th>\n",
              "      <th>time</th>\n",
              "    </tr>\n",
              "  </thead>\n",
              "  <tbody>\n",
              "    <tr>\n",
              "      <td>0</td>\n",
              "      <td>0.014213</td>\n",
              "      <td>0.014383</td>\n",
              "      <td>0.997025</td>\n",
              "      <td>0.718319</td>\n",
              "      <td>0.083937</td>\n",
              "      <td>00:10</td>\n",
              "    </tr>\n",
              "    <tr>\n",
              "      <td>1</td>\n",
              "      <td>0.013823</td>\n",
              "      <td>0.013674</td>\n",
              "      <td>0.997111</td>\n",
              "      <td>0.762678</td>\n",
              "      <td>0.106986</td>\n",
              "      <td>00:10</td>\n",
              "    </tr>\n",
              "    <tr>\n",
              "      <td>2</td>\n",
              "      <td>0.013331</td>\n",
              "      <td>0.013122</td>\n",
              "      <td>0.997188</td>\n",
              "      <td>0.726262</td>\n",
              "      <td>0.145317</td>\n",
              "      <td>00:11</td>\n",
              "    </tr>\n",
              "    <tr>\n",
              "      <td>3</td>\n",
              "      <td>0.012578</td>\n",
              "      <td>0.012694</td>\n",
              "      <td>0.997231</td>\n",
              "      <td>0.750974</td>\n",
              "      <td>0.163991</td>\n",
              "      <td>00:10</td>\n",
              "    </tr>\n",
              "    <tr>\n",
              "      <td>4</td>\n",
              "      <td>0.011863</td>\n",
              "      <td>0.012298</td>\n",
              "      <td>0.997297</td>\n",
              "      <td>0.730140</td>\n",
              "      <td>0.214477</td>\n",
              "      <td>00:10</td>\n",
              "    </tr>\n",
              "    <tr>\n",
              "      <td>5</td>\n",
              "      <td>0.010929</td>\n",
              "      <td>0.012069</td>\n",
              "      <td>0.997306</td>\n",
              "      <td>0.733119</td>\n",
              "      <td>0.219194</td>\n",
              "      <td>00:10</td>\n",
              "    </tr>\n",
              "    <tr>\n",
              "      <td>6</td>\n",
              "      <td>0.010198</td>\n",
              "      <td>0.012077</td>\n",
              "      <td>0.997358</td>\n",
              "      <td>0.746482</td>\n",
              "      <td>0.232487</td>\n",
              "      <td>00:10</td>\n",
              "    </tr>\n",
              "    <tr>\n",
              "      <td>7</td>\n",
              "      <td>0.009593</td>\n",
              "      <td>0.011996</td>\n",
              "      <td>0.997366</td>\n",
              "      <td>0.745344</td>\n",
              "      <td>0.239155</td>\n",
              "      <td>00:10</td>\n",
              "    </tr>\n",
              "    <tr>\n",
              "      <td>8</td>\n",
              "      <td>0.009181</td>\n",
              "      <td>0.012053</td>\n",
              "      <td>0.997371</td>\n",
              "      <td>0.730988</td>\n",
              "      <td>0.252656</td>\n",
              "      <td>00:10</td>\n",
              "    </tr>\n",
              "    <tr>\n",
              "      <td>9</td>\n",
              "      <td>0.008869</td>\n",
              "      <td>0.012058</td>\n",
              "      <td>0.997375</td>\n",
              "      <td>0.731593</td>\n",
              "      <td>0.256755</td>\n",
              "      <td>00:10</td>\n",
              "    </tr>\n",
              "  </tbody>\n",
              "</table>"
            ],
            "text/plain": [
              "<IPython.core.display.HTML object>"
            ]
          },
          "metadata": {
            "tags": []
          }
        }
      ]
    },
    {
      "cell_type": "code",
      "metadata": {
        "id": "RE0TtGjRmPKC",
        "colab_type": "code",
        "colab": {}
      },
      "source": [
        "learn.save('third')"
      ],
      "execution_count": 0,
      "outputs": []
    },
    {
      "cell_type": "code",
      "metadata": {
        "id": "LC6BWsAnmPNY",
        "colab_type": "code",
        "colab": {}
      },
      "source": [
        "learn.load('third');"
      ],
      "execution_count": 0,
      "outputs": []
    },
    {
      "cell_type": "code",
      "metadata": {
        "id": "GUKluTG6mPQo",
        "colab_type": "code",
        "colab": {}
      },
      "source": [
        "learn.unfreeze()\n",
        "\n",
        "\n"
      ],
      "execution_count": 0,
      "outputs": []
    },
    {
      "cell_type": "code",
      "metadata": {
        "id": "H6x85WK80lCW",
        "colab_type": "code",
        "outputId": "0a0dfd0a-58ac-4f86-e0e9-b198a792ff40",
        "colab": {
          "base_uri": "https://localhost:8080/",
          "height": 300
        }
      },
      "source": [
        "learn.lr_find()\n",
        "learn.recorder.plot()"
      ],
      "execution_count": 0,
      "outputs": [
        {
          "output_type": "display_data",
          "data": {
            "text/html": [
              ""
            ],
            "text/plain": [
              "<IPython.core.display.HTML object>"
            ]
          },
          "metadata": {
            "tags": []
          }
        },
        {
          "output_type": "stream",
          "text": [
            "LR Finder is complete, type {learner_name}.recorder.plot() to see the graph.\n"
          ],
          "name": "stdout"
        },
        {
          "output_type": "display_data",
          "data": {
            "image/png": "[encoded data removed]",
            "text/plain": [
              "<Figure size 432x288 with 1 Axes>"
            ]
          },
          "metadata": {
            "tags": []
          }
        }
      ]
    },
    {
      "cell_type": "code",
      "metadata": {
        "id": "SvuUa_8d0lX1",
        "colab_type": "code",
        "outputId": "a83fea76-5304-4272-ddf4-ddd85a1f188d",
        "colab": {
          "base_uri": "https://localhost:8080/",
          "height": 195
        }
      },
      "source": [
        "learn.fit_one_cycle(5, slice(1e-3/(2.6**4),1e-3), moms=(0.8,0.7))\n",
        "#learn.fit_one_cycle(2, slice(3e-4/(2.6**4),3e-4), moms=(0.8,0.7))"
      ],
      "execution_count": 0,
      "outputs": [
        {
          "output_type": "display_data",
          "data": {
            "text/html": [
              "<table border=\"1\" class=\"dataframe\">\n",
              "  <thead>\n",
              "    <tr style=\"text-align: left;\">\n",
              "      <th>epoch</th>\n",
              "      <th>train_loss</th>\n",
              "      <th>valid_loss</th>\n",
              "      <th>accuracy_thresh</th>\n",
              "      <th>custom_precision</th>\n",
              "      <th>custom_recall</th>\n",
              "      <th>time</th>\n",
              "    </tr>\n",
              "  </thead>\n",
              "  <tbody>\n",
              "    <tr>\n",
              "      <td>0</td>\n",
              "      <td>0.010564</td>\n",
              "      <td>0.012942</td>\n",
              "      <td>0.997210</td>\n",
              "      <td>0.695347</td>\n",
              "      <td>0.217603</td>\n",
              "      <td>00:13</td>\n",
              "    </tr>\n",
              "    <tr>\n",
              "      <td>1</td>\n",
              "      <td>0.012286</td>\n",
              "      <td>0.012655</td>\n",
              "      <td>0.997261</td>\n",
              "      <td>0.748433</td>\n",
              "      <td>0.177737</td>\n",
              "      <td>00:13</td>\n",
              "    </tr>\n",
              "    <tr>\n",
              "      <td>2</td>\n",
              "      <td>0.011151</td>\n",
              "      <td>0.012106</td>\n",
              "      <td>0.997291</td>\n",
              "      <td>0.733426</td>\n",
              "      <td>0.195458</td>\n",
              "      <td>00:13</td>\n",
              "    </tr>\n",
              "    <tr>\n",
              "      <td>3</td>\n",
              "      <td>0.009609</td>\n",
              "      <td>0.011847</td>\n",
              "      <td>0.997382</td>\n",
              "      <td>0.764191</td>\n",
              "      <td>0.223471</td>\n",
              "      <td>00:14</td>\n",
              "    </tr>\n",
              "    <tr>\n",
              "      <td>4</td>\n",
              "      <td>0.008200</td>\n",
              "      <td>0.011789</td>\n",
              "      <td>0.997410</td>\n",
              "      <td>0.734792</td>\n",
              "      <td>0.266670</td>\n",
              "      <td>00:13</td>\n",
              "    </tr>\n",
              "  </tbody>\n",
              "</table>"
            ],
            "text/plain": [
              "<IPython.core.display.HTML object>"
            ]
          },
          "metadata": {
            "tags": []
          }
        }
      ]
    },
    {
      "cell_type": "code",
      "metadata": {
        "id": "cePfsjvbmPT-",
        "colab_type": "code",
        "outputId": "c6a1d4e8-9f4b-4da0-f3ef-53e820d92f18",
        "colab": {
          "base_uri": "https://localhost:8080/",
          "height": 5460
        }
      },
      "source": [
        "print(learn.predict(\"Let's make some bread in the oven\"))\n",
        "print(learn.predict(\"Who likes avocados\"))\n"
      ],
      "execution_count": 0,
      "outputs": [
        {
          "output_type": "stream",
          "text": [
            "(MultiCategory __label__bread, tensor([0., 0., 0., 0., 0., 0., 0., 0., 0., 0., 0., 0., 0., 0., 0., 0., 0., 0.,\n",
            "        0., 0., 0., 0., 0., 0., 0., 0., 0., 0., 0., 0., 0., 0., 0., 0., 0., 0.,\n",
            "        0., 0., 0., 0., 0., 0., 0., 0., 0., 0., 0., 0., 0., 0., 0., 0., 0., 0.,\n",
            "        0., 0., 0., 0., 0., 1., 0., 0., 0., 0., 0., 0., 0., 0., 0., 0., 0., 0.,\n",
            "        0., 0., 0., 0., 0., 0., 0., 0., 0., 0., 0., 0., 0., 0., 0., 0., 0., 0.,\n",
            "        0., 0., 0., 0., 0., 0., 0., 0., 0., 0., 0., 0., 0., 0., 0., 0., 0., 0.,\n",
            "        0., 0., 0., 0., 0., 0., 0., 0., 0., 0., 0., 0., 0., 0., 0., 0., 0., 0.,\n",
            "        0., 0., 0., 0., 0., 0., 0., 0., 0., 0., 0., 0., 0., 0., 0., 0., 0., 0.,\n",
            "        0., 0., 0., 0., 0., 0., 0., 0., 0., 0., 0., 0., 0., 0., 0., 0., 0., 0.,\n",
            "        0., 0., 0., 0., 0., 0., 0., 0., 0., 0., 0., 0., 0., 0., 0., 0., 0., 0.,\n",
            "        0., 0., 0., 0., 0., 0., 0., 0., 0., 0., 0., 0., 0., 0., 0., 0., 0., 0.,\n",
            "        0., 0., 0., 0., 0., 0., 0., 0., 0., 0., 0., 0., 0., 0., 0., 0., 0., 0.,\n",
            "        0., 0., 0., 0., 0., 0., 0., 0., 0., 0., 0., 0., 0., 0., 0., 0., 0., 0.,\n",
            "        0., 0., 0., 0., 0., 0., 0., 0., 0., 0., 0., 0., 0., 0., 0., 0., 0., 0.,\n",
            "        0., 0., 0., 0., 0., 0., 0., 0., 0., 0., 0., 0., 0., 0., 0., 0., 0., 0.,\n",
            "        0., 0., 0., 0., 0., 0., 0., 0., 0., 0., 0., 0., 0., 0., 0., 0., 0., 0.,\n",
            "        0., 0., 0., 0., 0., 0., 0., 0., 0., 0., 0., 0., 0., 0., 0., 0., 0., 0.,\n",
            "        0., 0., 0., 0., 0., 0., 0., 0., 0., 0., 0., 0., 0., 0., 0., 0., 0., 0.,\n",
            "        0., 0., 0., 0., 0., 0., 0., 0., 0., 0., 0., 0., 0., 0., 0., 0., 0., 0.,\n",
            "        0., 0., 0., 0., 0., 0., 0., 0., 0., 0., 0., 0., 0., 0., 0., 0., 0., 0.,\n",
            "        0., 0., 0., 0., 0., 0., 0., 0., 0., 0., 0., 0., 0., 0., 0., 0., 0., 0.,\n",
            "        0., 0., 0., 0., 0., 0., 0., 0., 0., 0., 0., 0., 0., 0., 0., 0., 0., 0.,\n",
            "        0., 0., 0., 0., 0., 0., 0., 0., 0., 0., 0., 0., 0., 0., 0., 0., 0., 0.,\n",
            "        0., 0., 0., 0., 0., 0., 0., 0., 0., 0., 0., 0., 0., 0., 0., 0., 0., 0.,\n",
            "        0., 0., 0., 0., 0., 0., 0., 0., 0., 0., 0., 0., 0., 0., 0., 0., 0., 0.,\n",
            "        0., 0., 0., 0., 0., 0., 0., 0., 0., 0., 0., 0., 0., 0., 0., 0., 0., 0.,\n",
            "        0., 0., 0., 0., 0., 0., 0., 0., 0., 0., 0., 0., 0., 0., 0., 0., 0., 0.,\n",
            "        0., 0., 0., 0., 0., 0., 0., 0., 0., 0., 0., 0., 0., 0., 0., 0., 0., 0.,\n",
            "        0., 0., 0., 0., 0., 0., 0., 0., 0., 0., 0., 0., 0., 0., 0., 0., 0., 0.,\n",
            "        0., 0., 0., 0., 0., 0., 0., 0., 0., 0., 0., 0., 0., 0., 0., 0., 0., 0.,\n",
            "        0., 0., 0., 0., 0., 0., 0., 0., 0., 0., 0., 0., 0., 0., 0., 0., 0., 0.,\n",
            "        0., 0., 0., 0., 0., 0., 0., 0., 0., 0., 0., 0., 0., 0., 0., 0., 0., 0.,\n",
            "        0., 0., 0., 0., 0., 0., 0., 0., 0., 0., 0., 0., 0., 0., 0., 0., 0., 0.,\n",
            "        0., 0., 0., 0., 0., 0., 0., 0., 0., 0., 0., 0., 0., 0., 0., 0., 0., 0.,\n",
            "        0., 0., 0., 0., 0., 0., 0., 0., 0., 0., 0., 0., 0., 0., 0., 0., 0., 0.,\n",
            "        0., 0., 0., 0., 0., 0., 0., 0., 0., 0., 0., 0., 0., 0., 0., 0., 0., 0.,\n",
            "        0., 0., 0., 0., 0., 0., 0., 0., 0., 0., 0., 0., 0., 0., 0., 0., 0., 0.,\n",
            "        0., 0., 0., 0., 0., 0., 0., 0., 0., 0., 0., 0., 0., 0., 0., 0., 0., 0.,\n",
            "        0., 0., 0., 0., 0., 0., 0., 0., 0., 0., 0., 0., 0., 0., 0., 0., 0., 0.,\n",
            "        0., 0., 0., 0., 0., 0., 0., 0., 0., 0., 0., 0., 0., 0., 0., 0., 0., 0.,\n",
            "        0., 0., 0., 0., 0., 0., 0., 0., 0., 0., 0.]), tensor([2.9653e-04, 1.4424e-04, 1.6625e-07, 6.1091e-06, 4.1011e-05, 2.2820e-06,\n",
            "        1.0720e-08, 2.1311e-05, 4.8799e-05, 1.7646e-08, 3.9244e-07, 4.0180e-07,\n",
            "        2.4067e-05, 1.7502e-06, 3.2973e-04, 8.0465e-07, 5.7394e-06, 8.7871e-06,\n",
            "        1.0017e-05, 8.3208e-04, 2.9522e-06, 9.7540e-06, 1.3783e-05, 3.0134e-06,\n",
            "        1.1263e-05, 2.3604e-04, 6.3333e-05, 4.0929e-01, 1.9553e-03, 5.8706e-04,\n",
            "        3.7376e-06, 1.6023e-04, 5.2712e-05, 1.5929e-07, 2.9368e-07, 1.4964e-03,\n",
            "        2.9765e-08, 1.0682e-06, 1.7997e-03, 1.2932e-07, 6.8719e-05, 1.8870e-05,\n",
            "        1.8217e-04, 2.0914e-04, 9.8889e-05, 1.9882e-08, 1.3013e-04, 1.7194e-04,\n",
            "        1.2119e-04, 2.1978e-05, 6.9252e-06, 8.1734e-05, 1.3031e-05, 4.5896e-05,\n",
            "        1.0274e-03, 3.0672e-07, 4.2652e-06, 1.9803e-08, 1.8869e-05, 9.7811e-01,\n",
            "        4.7897e-04, 8.8533e-04, 2.5648e-03, 1.8197e-04, 2.9044e-05, 7.9290e-08,\n",
            "        2.2568e-06, 2.8724e-06, 5.0432e-06, 1.5822e-05, 8.2648e-05, 1.6094e-08,\n",
            "        6.1106e-06, 3.9089e-04, 5.4020e-06, 5.6987e-06, 5.0844e-06, 5.8444e-05,\n",
            "        1.7772e-05, 1.2080e-05, 4.0595e-08, 2.1326e-05, 7.5368e-05, 1.5991e-03,\n",
            "        3.1349e-05, 1.1347e-04, 3.9272e-04, 5.7221e-05, 3.3135e-05, 6.2759e-05,\n",
            "        4.2940e-05, 6.6898e-07, 3.9229e-05, 1.2779e-06, 2.2918e-06, 4.0161e-06,\n",
            "        4.0537e-07, 8.0745e-04, 2.7029e-04, 3.9777e-05, 1.5822e-06, 8.2729e-06,\n",
            "        1.9539e-06, 2.6207e-04, 4.1245e-06, 7.7103e-07, 1.0459e-04, 3.6273e-05,\n",
            "        2.1572e-04, 5.8305e-05, 2.9747e-04, 5.0245e-03, 3.7058e-06, 1.4863e-06,\n",
            "        1.3918e-08, 8.7361e-04, 6.6092e-05, 1.1762e-05, 2.5301e-05, 1.7512e-06,\n",
            "        2.1570e-05, 2.7340e-06, 6.4311e-05, 1.1628e-05, 4.2368e-04, 3.5570e-05,\n",
            "        3.5151e-05, 9.6982e-07, 7.0993e-06, 2.0075e-06, 2.6131e-06, 1.9869e-06,\n",
            "        3.2757e-06, 6.3173e-07, 1.5510e-07, 3.1171e-05, 2.2478e-06, 4.6457e-09,\n",
            "        1.1955e-04, 1.0964e-05, 2.0153e-06, 1.3836e-05, 7.4879e-05, 9.0157e-06,\n",
            "        1.5922e-03, 1.6330e-05, 1.2305e-05, 3.3442e-05, 6.2597e-05, 1.0812e-06,\n",
            "        2.1238e-04, 4.8761e-05, 2.8443e-05, 1.1137e-05, 4.5392e-05, 3.3714e-04,\n",
            "        7.0229e-04, 1.6836e-04, 5.8386e-06, 4.4752e-03, 7.7764e-04, 5.2536e-08,\n",
            "        4.3282e-07, 2.6420e-04, 3.6406e-08, 4.6871e-06, 5.3025e-05, 1.1295e-06,\n",
            "        1.4769e-05, 3.5473e-06, 3.2987e-08, 7.3575e-07, 5.6875e-06, 7.3578e-07,\n",
            "        1.3787e-06, 4.3334e-07, 2.7380e-07, 2.7698e-05, 1.0925e-07, 3.0859e-06,\n",
            "        3.1361e-08, 3.5478e-05, 2.2177e-06, 4.9083e-03, 2.3521e-07, 5.8645e-06,\n",
            "        5.1428e-04, 2.7632e-05, 1.1939e-05, 1.0972e-04, 3.1008e-05, 3.7659e-05,\n",
            "        9.7431e-05, 4.5165e-06, 5.7064e-05, 6.1676e-06, 4.5773e-05, 2.7380e-06,\n",
            "        7.6368e-06, 1.2056e-04, 5.6715e-07, 1.1093e-03, 9.4482e-05, 2.1269e-05,\n",
            "        6.6766e-04, 1.4023e-07, 1.2076e-04, 3.5384e-07, 1.6457e-06, 7.4730e-05,\n",
            "        5.4150e-02, 2.5762e-04, 1.6804e-04, 2.7815e-05, 1.8478e-05, 2.7966e-05,\n",
            "        1.8192e-07, 3.2586e-05, 6.3300e-07, 8.1715e-05, 1.4568e-05, 9.7369e-08,\n",
            "        9.5710e-05, 5.6353e-06, 3.1292e-03, 6.2674e-07, 1.3699e-04, 4.7757e-05,\n",
            "        1.5531e-04, 7.7367e-03, 1.8728e-05, 1.9340e-06, 2.6930e-04, 8.5512e-06,\n",
            "        2.5290e-06, 1.6494e-03, 7.6961e-04, 6.1001e-07, 1.8947e-05, 1.0199e-05,\n",
            "        1.3882e-07, 7.0670e-05, 1.7937e-03, 3.4099e-05, 6.1106e-07, 3.0705e-03,\n",
            "        3.9221e-04, 3.0646e-08, 1.8833e-06, 7.2304e-07, 3.5360e-03, 2.2340e-05,\n",
            "        7.2522e-06, 4.5956e-06, 6.1263e-03, 2.2077e-04, 4.0294e-06, 1.6714e-05,\n",
            "        7.0315e-04, 6.2985e-05, 7.9173e-04, 2.4990e-05, 8.0046e-03, 2.8096e-02,\n",
            "        3.0867e-05, 3.3644e-06, 9.3565e-04, 1.8883e-03, 4.2690e-05, 7.4075e-06,\n",
            "        6.0844e-04, 5.7930e-06, 1.4310e-07, 3.3060e-06, 4.2660e-04, 3.9822e-06,\n",
            "        9.3766e-05, 6.1894e-06, 4.9113e-07, 1.0151e-03, 6.1245e-05, 5.9235e-05,\n",
            "        9.2577e-08, 9.6619e-08, 8.7810e-07, 1.3262e-05, 3.5132e-04, 3.7457e-08,\n",
            "        2.3334e-05, 1.3176e-05, 1.3585e-04, 1.3786e-05, 3.6625e-07, 1.2590e-05,\n",
            "        2.0546e-05, 6.6230e-05, 4.0366e-07, 2.2528e-04, 5.9007e-06, 4.6103e-07,\n",
            "        2.1719e-07, 7.1137e-07, 6.2545e-08, 5.8259e-04, 5.6722e-06, 2.9721e-07,\n",
            "        2.3544e-07, 4.2018e-08, 3.5620e-04, 3.5708e-05, 1.1218e-05, 1.9073e-03,\n",
            "        3.2362e-05, 1.0289e-06, 1.9707e-08, 1.1772e-05, 4.0340e-06, 4.0619e-08,\n",
            "        2.8402e-06, 2.4095e-04, 1.2004e-05, 7.7203e-05, 5.5766e-03, 1.8533e-04,\n",
            "        2.3941e-06, 8.0757e-04, 5.3878e-04, 1.1582e-07, 2.0480e-06, 4.5992e-05,\n",
            "        3.6110e-06, 4.6865e-08, 2.8165e-05, 2.4471e-05, 3.1039e-08, 6.6011e-05,\n",
            "        1.4851e-06, 7.9108e-08, 1.1825e-03, 5.2001e-06, 3.4258e-06, 2.0618e-05,\n",
            "        9.7775e-04, 5.0447e-04, 1.5372e-06, 1.4381e-06, 1.9432e-04, 1.1195e-05,\n",
            "        5.5068e-07, 2.4613e-07, 8.3669e-05, 1.8275e-05, 4.0569e-06, 5.4531e-06,\n",
            "        1.3995e-08, 1.7336e-06, 6.3781e-06, 9.4944e-06, 2.1740e-06, 4.0434e-07,\n",
            "        2.6459e-05, 1.1726e-04, 1.3267e-06, 7.5432e-04, 7.4709e-06, 1.7576e-04,\n",
            "        6.3519e-06, 2.9700e-07, 7.8356e-06, 3.5947e-06, 2.1861e-06, 6.9217e-07,\n",
            "        4.9708e-06, 2.4373e-03, 1.0564e-04, 1.8317e-04, 9.7731e-04, 4.3137e-07,\n",
            "        8.1881e-07, 1.3901e-05, 6.5893e-07, 5.0283e-06, 5.0794e-07, 2.6586e-05,\n",
            "        2.9660e-06, 2.2617e-07, 1.2665e-06, 3.0426e-06, 7.6536e-04, 2.2728e-05,\n",
            "        4.1456e-05, 1.6058e-06, 4.2103e-05, 1.3130e-06, 5.7645e-07, 4.8732e-07,\n",
            "        1.7709e-06, 7.7768e-05, 6.3076e-08, 1.4439e-07, 4.3209e-07, 3.4085e-05,\n",
            "        1.2655e-06, 1.7598e-05, 2.6299e-06, 2.1752e-06, 1.2147e-06, 3.8961e-04,\n",
            "        2.6189e-06, 5.0343e-03, 2.3243e-05, 1.7248e-05, 1.2304e-06, 6.1334e-05,\n",
            "        8.4336e-05, 3.6035e-05, 6.5892e-04, 2.0360e-05, 7.7447e-04, 5.4153e-03,\n",
            "        4.3723e-05, 5.5176e-04, 1.9167e-06, 3.0835e-06, 2.4343e-07, 1.1052e-04,\n",
            "        1.1522e-03, 7.3413e-04, 4.4594e-04, 1.5313e-04, 6.9069e-09, 4.6682e-07,\n",
            "        1.2166e-07, 1.0459e-07, 2.4056e-03, 1.5748e-07, 7.6788e-07, 3.3023e-07,\n",
            "        1.4516e-06, 2.6013e-06, 4.9495e-05, 6.0371e-05, 4.3586e-07, 3.3963e-04,\n",
            "        3.2169e-07, 4.2155e-05, 8.9310e-06, 5.5330e-04, 7.2936e-06, 2.2602e-05,\n",
            "        7.9088e-05, 1.1336e-04, 8.5330e-06, 3.8269e-07, 1.2082e-07, 2.8349e-04,\n",
            "        1.0831e-04, 1.0149e-04, 1.1737e-02, 3.3807e-05, 7.6542e-06, 2.9472e-06,\n",
            "        1.4982e-06, 2.1154e-04, 5.1330e-04, 8.5980e-07, 8.9380e-07, 3.6165e-07,\n",
            "        9.7685e-08, 2.4098e-04, 7.6373e-07, 2.9925e-07, 5.1276e-08, 1.0748e-06,\n",
            "        5.7677e-04, 1.7652e-04, 8.0824e-04, 2.1856e-04, 2.6207e-08, 2.5663e-07,\n",
            "        1.2271e-07, 2.5335e-06, 1.1213e-06, 2.4767e-06, 2.0573e-06, 1.7364e-08,\n",
            "        5.8934e-06, 9.2883e-05, 4.6884e-06, 2.7863e-03, 4.0213e-03, 4.6539e-06,\n",
            "        4.7624e-05, 1.5051e-03, 4.5078e-07, 1.3551e-04, 1.8827e-06, 2.7964e-06,\n",
            "        3.6290e-07, 1.3719e-05, 1.6022e-05, 6.6549e-06, 2.4722e-07, 2.1508e-07,\n",
            "        4.6513e-07, 1.9354e-08, 6.4167e-05, 4.7115e-06, 4.1241e-06, 4.7385e-04,\n",
            "        4.6436e-05, 5.3423e-05, 3.0194e-07, 1.7965e-05, 2.3701e-05, 8.9210e-06,\n",
            "        7.6464e-05, 9.3206e-03, 9.8555e-06, 3.3905e-05, 2.4334e-06, 7.4379e-07,\n",
            "        5.5190e-06, 6.9688e-07, 1.1734e-04, 6.3010e-03, 1.3185e-07, 5.5969e-08,\n",
            "        5.5622e-06, 1.7117e-05, 1.7273e-05, 5.9117e-06, 5.0405e-05, 1.1105e-04,\n",
            "        1.9124e-04, 6.0962e-06, 5.0567e-04, 5.2169e-04, 1.1682e-03, 1.4882e-04,\n",
            "        7.1316e-04, 3.5217e-06, 1.2664e-05, 4.3828e-05, 9.0173e-06, 1.4655e-07,\n",
            "        2.3416e-07, 2.4934e-02, 1.9402e-07, 2.5813e-05, 7.9711e-07, 4.5327e-05,\n",
            "        6.3369e-05, 3.6917e-04, 2.2837e-06, 3.0924e-06, 6.7640e-05, 3.2854e-07,\n",
            "        3.2306e-04, 4.7035e-04, 2.8246e-04, 6.1313e-06, 1.1004e-04, 1.1183e-05,\n",
            "        1.6144e-06, 1.1555e-05, 1.8414e-06, 1.0967e-07, 1.1177e-03, 4.1990e-04,\n",
            "        6.2901e-07, 4.1162e-07, 9.1090e-05, 1.9491e-05, 4.4309e-04, 8.1395e-05,\n",
            "        1.1365e-07, 3.2202e-06, 1.7859e-08, 2.1779e-05, 3.0367e-05, 2.8863e-08,\n",
            "        1.7748e-04, 5.4863e-04, 5.7069e-05, 8.2479e-06, 6.3725e-07, 1.2079e-05,\n",
            "        2.9922e-08, 1.3099e-04, 5.3170e-06, 3.6501e-07, 3.3263e-05, 2.0476e-07,\n",
            "        1.9206e-03, 5.1861e-06, 5.8692e-05, 1.3469e-06, 2.0843e-05, 5.6579e-06,\n",
            "        2.6590e-08, 5.0691e-05, 3.0433e-07, 1.0198e-04, 1.0626e-04, 5.6691e-07,\n",
            "        3.1765e-06, 2.3341e-05, 2.7161e-08, 3.0999e-07, 1.7965e-05, 1.7449e-04,\n",
            "        5.0756e-06, 1.0820e-05, 5.1976e-07, 4.8869e-04, 8.5543e-04, 1.4165e-07,\n",
            "        9.8776e-03, 1.9883e-04, 5.1032e-05, 3.3089e-05, 4.7459e-05, 1.9941e-06,\n",
            "        6.4138e-06, 1.5985e-05, 1.9559e-04, 3.3335e-05, 5.6330e-05, 1.3053e-03,\n",
            "        8.6894e-05, 2.3355e-06, 2.7059e-07, 4.6086e-09, 2.0608e-08, 1.1233e-05,\n",
            "        1.8708e-05, 9.9960e-05, 3.0852e-03, 9.4585e-04, 8.0789e-06, 7.2718e-04,\n",
            "        8.7044e-05, 8.5633e-06, 1.2111e-05, 8.8749e-06, 1.8666e-07, 3.9344e-04,\n",
            "        2.3328e-03, 4.2618e-03, 6.8895e-04, 8.9040e-08, 3.2314e-07, 1.1041e-05,\n",
            "        6.7131e-04, 3.8815e-04, 1.3839e-05, 1.7810e-07, 1.7293e-05, 7.5820e-06,\n",
            "        3.3916e-06, 1.1623e-05, 4.3402e-07, 5.4847e-08, 1.0217e-04, 2.6606e-08,\n",
            "        9.7160e-06, 1.8080e-07, 1.1079e-05, 1.3546e-04, 4.4762e-05, 3.7187e-02,\n",
            "        3.1854e-05, 2.9653e-04, 1.5414e-03, 1.1194e-07, 1.0748e-06, 9.8712e-06,\n",
            "        1.0603e-05, 6.2014e-05, 2.0296e-05, 5.5847e-06, 2.9402e-07, 1.0237e-05,\n",
            "        9.2481e-06, 1.4217e-05, 8.0214e-06, 2.3190e-05, 3.4605e-06, 5.0414e-04,\n",
            "        6.5567e-06, 2.8621e-04, 6.7770e-07, 1.3645e-07, 2.1799e-06, 5.4707e-06,\n",
            "        1.0531e-05, 5.0461e-09, 4.1564e-07, 8.8530e-06, 5.2029e-04, 3.1287e-06,\n",
            "        3.8504e-07, 2.2482e-06, 1.5952e-05, 8.1284e-04, 2.6306e-05, 7.0903e-05,\n",
            "        3.2822e-06, 3.0842e-05, 1.0483e-04, 2.4004e-06, 7.2902e-08, 2.3379e-06,\n",
            "        7.1688e-05, 4.2182e-08, 1.1337e-03, 2.4060e-06, 6.9952e-06, 1.0405e-03,\n",
            "        2.2751e-07, 1.1833e-06, 3.5104e-06, 6.1344e-06, 6.5662e-05, 6.5060e-07,\n",
            "        1.9707e-02, 6.6071e-05, 2.8248e-05, 1.6301e-05, 5.4422e-06]))\n",
            "(MultiCategory __label__avocados, tensor([0., 0., 0., 0., 0., 0., 0., 0., 0., 0., 0., 0., 0., 0., 0., 0., 0., 0.,\n",
            "        0., 0., 0., 0., 1., 0., 0., 0., 0., 0., 0., 0., 0., 0., 0., 0., 0., 0.,\n",
            "        0., 0., 0., 0., 0., 0., 0., 0., 0., 0., 0., 0., 0., 0., 0., 0., 0., 0.,\n",
            "        0., 0., 0., 0., 0., 0., 0., 0., 0., 0., 0., 0., 0., 0., 0., 0., 0., 0.,\n",
            "        0., 0., 0., 0., 0., 0., 0., 0., 0., 0., 0., 0., 0., 0., 0., 0., 0., 0.,\n",
            "        0., 0., 0., 0., 0., 0., 0., 0., 0., 0., 0., 0., 0., 0., 0., 0., 0., 0.,\n",
            "        0., 0., 0., 0., 0., 0., 0., 0., 0., 0., 0., 0., 0., 0., 0., 0., 0., 0.,\n",
            "        0., 0., 0., 0., 0., 0., 0., 0., 0., 0., 0., 0., 0., 0., 0., 0., 0., 0.,\n",
            "        0., 0., 0., 0., 0., 0., 0., 0., 0., 0., 0., 0., 0., 0., 0., 0., 0., 0.,\n",
            "        0., 0., 0., 0., 0., 0., 0., 0., 0., 0., 0., 0., 0., 0., 0., 0., 0., 0.,\n",
            "        0., 0., 0., 0., 0., 0., 0., 0., 0., 0., 0., 0., 0., 0., 0., 0., 0., 0.,\n",
            "        0., 0., 0., 0., 0., 0., 0., 0., 0., 0., 0., 0., 0., 0., 0., 0., 0., 0.,\n",
            "        0., 0., 0., 0., 0., 0., 0., 0., 0., 0., 0., 0., 0., 0., 0., 0., 0., 0.,\n",
            "        0., 0., 0., 0., 0., 0., 0., 0., 0., 0., 0., 0., 0., 0., 0., 0., 0., 0.,\n",
            "        0., 0., 0., 0., 0., 0., 0., 0., 0., 0., 0., 0., 0., 0., 0., 0., 0., 0.,\n",
            "        0., 0., 0., 0., 0., 0., 0., 0., 0., 0., 0., 0., 0., 0., 0., 0., 0., 0.,\n",
            "        0., 0., 0., 0., 0., 0., 0., 0., 0., 0., 0., 0., 0., 0., 0., 0., 0., 0.,\n",
            "        0., 0., 0., 0., 0., 0., 0., 0., 0., 0., 0., 0., 0., 0., 0., 0., 0., 0.,\n",
            "        0., 0., 0., 0., 0., 0., 0., 0., 0., 0., 0., 0., 0., 0., 0., 0., 0., 0.,\n",
            "        0., 0., 0., 0., 0., 0., 0., 0., 0., 0., 0., 0., 0., 0., 0., 0., 0., 0.,\n",
            "        0., 0., 0., 0., 0., 0., 0., 0., 0., 0., 0., 0., 0., 0., 0., 0., 0., 0.,\n",
            "        0., 0., 0., 0., 0., 0., 0., 0., 0., 0., 0., 0., 0., 0., 0., 0., 0., 0.,\n",
            "        0., 0., 0., 0., 0., 0., 0., 0., 0., 0., 0., 0., 0., 0., 0., 0., 0., 0.,\n",
            "        0., 0., 0., 0., 0., 0., 0., 0., 0., 0., 0., 0., 0., 0., 0., 0., 0., 0.,\n",
            "        0., 0., 0., 0., 0., 0., 0., 0., 0., 0., 0., 0., 0., 0., 0., 0., 0., 0.,\n",
            "        0., 0., 0., 0., 0., 0., 0., 0., 0., 0., 0., 0., 0., 0., 0., 0., 0., 0.,\n",
            "        0., 0., 0., 0., 0., 0., 0., 0., 0., 0., 0., 0., 0., 0., 0., 0., 0., 0.,\n",
            "        0., 0., 0., 0., 0., 0., 0., 0., 0., 0., 0., 0., 0., 0., 0., 0., 0., 0.,\n",
            "        0., 0., 0., 0., 0., 0., 0., 0., 0., 0., 0., 0., 0., 0., 0., 0., 0., 0.,\n",
            "        0., 0., 0., 0., 0., 0., 0., 0., 0., 0., 0., 0., 0., 0., 0., 0., 0., 0.,\n",
            "        0., 0., 0., 0., 0., 0., 0., 0., 0., 0., 0., 0., 0., 0., 0., 0., 0., 0.,\n",
            "        0., 0., 0., 0., 0., 0., 0., 0., 0., 0., 0., 0., 0., 0., 0., 0., 0., 0.,\n",
            "        0., 0., 0., 0., 0., 0., 0., 0., 0., 0., 0., 0., 0., 0., 0., 0., 0., 0.,\n",
            "        0., 0., 0., 0., 0., 0., 0., 0., 0., 0., 0., 0., 0., 0., 0., 0., 0., 0.,\n",
            "        0., 0., 0., 0., 0., 0., 0., 0., 0., 0., 0., 0., 0., 0., 0., 0., 0., 0.,\n",
            "        0., 0., 0., 0., 0., 0., 0., 0., 0., 0., 0., 0., 0., 0., 0., 0., 0., 0.,\n",
            "        0., 0., 0., 0., 0., 0., 0., 0., 0., 0., 0., 0., 0., 0., 0., 0., 0., 0.,\n",
            "        0., 0., 0., 0., 0., 0., 0., 0., 0., 0., 0., 0., 0., 0., 0., 0., 0., 0.,\n",
            "        0., 0., 0., 0., 0., 0., 0., 0., 0., 0., 0., 0., 0., 0., 0., 0., 0., 0.,\n",
            "        0., 0., 0., 0., 0., 0., 0., 0., 0., 0., 0., 0., 0., 0., 0., 0., 0., 0.,\n",
            "        0., 0., 0., 0., 0., 0., 0., 0., 0., 0., 0.]), tensor([4.0457e-04, 2.0791e-06, 4.6281e-07, 6.9529e-05, 8.1603e-05, 1.1452e-06,\n",
            "        4.5062e-06, 2.0135e-08, 1.1238e-04, 4.0330e-07, 2.0296e-07, 2.5288e-05,\n",
            "        1.3675e-04, 4.2880e-07, 1.1110e-05, 4.1646e-09, 2.2796e-05, 9.2959e-04,\n",
            "        3.2296e-05, 2.5590e-03, 1.5585e-04, 9.4706e-06, 5.0078e-01, 7.8465e-08,\n",
            "        7.1734e-06, 4.4555e-05, 1.5293e-07, 1.6704e-02, 5.0564e-06, 7.7312e-06,\n",
            "        4.4845e-05, 3.0172e-03, 7.5056e-05, 5.4982e-06, 9.5190e-07, 4.7740e-05,\n",
            "        3.5403e-05, 2.3253e-06, 1.2564e-04, 1.2324e-07, 2.6900e-04, 5.7089e-08,\n",
            "        8.5287e-04, 2.8014e-05, 2.3576e-03, 8.3330e-03, 3.3967e-05, 6.4486e-08,\n",
            "        4.3026e-08, 1.9329e-04, 7.8599e-04, 8.1038e-07, 6.3895e-06, 6.5629e-04,\n",
            "        5.5595e-06, 1.2161e-05, 6.7029e-06, 2.3106e-05, 8.3074e-07, 2.0147e-04,\n",
            "        1.8797e-08, 5.9964e-05, 3.4822e-05, 5.5961e-07, 2.2393e-04, 3.9989e-07,\n",
            "        6.1848e-04, 1.2948e-05, 4.4856e-05, 6.7877e-05, 2.6486e-05, 1.1437e-04,\n",
            "        2.7213e-07, 8.4167e-04, 3.2889e-05, 4.0403e-06, 3.7534e-05, 2.1692e-05,\n",
            "        6.7074e-08, 2.4292e-05, 2.9992e-06, 4.6382e-07, 1.7994e-05, 1.1690e-03,\n",
            "        2.0643e-04, 1.3272e-03, 5.2915e-04, 1.0302e-04, 3.6071e-06, 3.8764e-04,\n",
            "        5.4736e-06, 2.4567e-07, 5.4990e-07, 1.5608e-06, 6.9450e-08, 2.3592e-07,\n",
            "        4.9487e-04, 4.6415e-06, 1.2104e-06, 1.2342e-03, 6.3473e-05, 2.6622e-09,\n",
            "        1.4618e-06, 1.0971e-06, 4.8348e-04, 1.3136e-08, 2.0553e-06, 9.8432e-06,\n",
            "        6.2964e-04, 1.2487e-05, 3.7478e-06, 1.1392e-03, 4.2831e-06, 3.6546e-07,\n",
            "        1.4393e-04, 1.7902e-03, 1.9072e-04, 1.7564e-05, 1.0584e-04, 1.2044e-05,\n",
            "        4.3806e-05, 5.5234e-05, 7.6843e-02, 5.9965e-07, 1.3575e-04, 1.6315e-02,\n",
            "        3.8975e-04, 1.5574e-05, 3.1611e-05, 3.7346e-07, 3.9629e-07, 2.3648e-08,\n",
            "        4.4211e-07, 1.5855e-03, 2.6219e-04, 1.8062e-03, 1.2739e-06, 9.7216e-09,\n",
            "        1.7503e-04, 2.8192e-06, 2.9143e-05, 2.7826e-04, 2.9789e-06, 9.7943e-10,\n",
            "        1.2910e-02, 1.0002e-03, 3.9830e-06, 6.3833e-07, 4.7822e-03, 3.5759e-05,\n",
            "        1.8227e-04, 1.0754e-04, 3.5372e-05, 2.5761e-05, 8.8282e-06, 1.0749e-05,\n",
            "        1.2998e-03, 6.8402e-04, 1.5877e-05, 1.3955e-04, 3.2183e-05, 6.9815e-08,\n",
            "        1.4219e-05, 3.2844e-06, 6.9626e-07, 3.9081e-07, 2.2246e-06, 4.0061e-07,\n",
            "        7.1141e-05, 7.6679e-06, 6.1731e-07, 1.7492e-05, 1.4127e-06, 5.6274e-07,\n",
            "        4.4681e-09, 1.4932e-07, 1.0677e-06, 8.8434e-06, 7.2931e-07, 7.8211e-05,\n",
            "        3.4562e-06, 8.9651e-05, 2.6838e-06, 1.4074e-04, 2.9515e-05, 4.7742e-04,\n",
            "        8.2586e-05, 6.5374e-05, 1.9428e-06, 1.2439e-04, 2.0472e-05, 8.6960e-05,\n",
            "        2.2417e-06, 1.4828e-05, 5.1309e-04, 8.5845e-07, 2.0972e-06, 4.2836e-07,\n",
            "        4.7145e-05, 1.8655e-03, 1.9855e-06, 2.5251e-04, 1.0863e-04, 1.3456e-03,\n",
            "        8.4451e-04, 1.1138e-05, 4.3630e-07, 3.1382e-08, 1.3803e-06, 1.3885e-06,\n",
            "        3.3617e-04, 1.8624e-04, 9.3320e-05, 2.4118e-07, 2.7746e-04, 8.5985e-05,\n",
            "        2.6450e-08, 3.8082e-06, 9.4128e-08, 3.2165e-07, 3.5877e-06, 5.3632e-08,\n",
            "        3.8742e-05, 2.5098e-05, 6.1592e-04, 2.0385e-06, 4.9671e-07, 8.0168e-05,\n",
            "        1.1223e-04, 2.6040e-03, 4.9855e-07, 1.7395e-07, 4.3394e-05, 1.1462e-04,\n",
            "        2.5241e-08, 1.8364e-04, 2.3177e-03, 1.6979e-05, 3.7363e-05, 8.8087e-06,\n",
            "        3.4198e-06, 6.5633e-05, 5.2606e-02, 4.1635e-07, 3.5720e-07, 1.0782e-04,\n",
            "        3.5596e-02, 5.8265e-07, 1.1630e-05, 3.4982e-04, 5.1891e-06, 1.1473e-08,\n",
            "        3.8348e-04, 1.8414e-07, 1.0340e-06, 5.6595e-06, 3.5823e-06, 4.6847e-08,\n",
            "        7.4090e-07, 1.2195e-04, 1.2469e-02, 8.8637e-03, 4.1304e-02, 7.4029e-03,\n",
            "        2.7866e-04, 1.7429e-07, 5.6064e-03, 5.0588e-04, 1.4857e-05, 1.0278e-08,\n",
            "        2.8907e-03, 3.8557e-07, 2.1554e-05, 2.6095e-05, 5.3832e-04, 3.0413e-06,\n",
            "        1.9001e-02, 3.2161e-05, 1.7576e-05, 1.4721e-03, 5.3718e-05, 2.1607e-07,\n",
            "        8.5194e-08, 1.5471e-05, 1.0484e-06, 4.3954e-05, 5.2211e-06, 4.3358e-06,\n",
            "        6.9728e-04, 7.1650e-06, 1.2452e-04, 9.5406e-08, 1.1514e-06, 7.7123e-07,\n",
            "        2.0503e-06, 3.6018e-05, 1.9228e-08, 7.8652e-08, 2.2211e-08, 6.3025e-06,\n",
            "        4.3114e-06, 6.8145e-06, 3.6698e-08, 3.9926e-05, 1.8458e-07, 6.8705e-05,\n",
            "        3.0565e-06, 1.1348e-06, 7.4529e-05, 9.1425e-04, 2.7664e-05, 9.6519e-04,\n",
            "        3.3723e-04, 9.5677e-04, 1.7363e-06, 5.0970e-06, 8.1692e-06, 2.6841e-07,\n",
            "        9.0208e-05, 2.4129e-03, 4.4388e-04, 4.2427e-06, 1.4485e-04, 8.7867e-04,\n",
            "        2.0242e-08, 9.9573e-08, 1.1998e-03, 1.1075e-07, 1.1398e-07, 5.9573e-04,\n",
            "        2.9522e-06, 4.5392e-06, 1.8013e-05, 9.0821e-05, 3.3311e-04, 3.0214e-07,\n",
            "        2.5810e-06, 1.0142e-05, 8.4158e-04, 4.2778e-06, 5.8628e-08, 1.7099e-05,\n",
            "        5.8069e-03, 1.9601e-04, 3.8331e-03, 3.5278e-05, 6.1499e-04, 1.8702e-05,\n",
            "        5.8635e-07, 2.9952e-05, 1.1794e-06, 2.9738e-04, 1.8608e-04, 5.0366e-06,\n",
            "        1.8110e-07, 3.1242e-06, 1.4899e-05, 1.8867e-04, 4.4474e-07, 3.7178e-05,\n",
            "        5.3711e-05, 1.7445e-05, 4.3024e-05, 4.0036e-06, 3.5428e-06, 1.0134e-03,\n",
            "        2.8602e-05, 9.2987e-07, 3.4070e-06, 8.1232e-06, 1.4234e-07, 8.2160e-07,\n",
            "        6.2062e-07, 1.0232e-04, 1.3576e-06, 3.3715e-05, 5.4831e-07, 1.3882e-05,\n",
            "        1.2298e-06, 7.5810e-04, 3.5752e-06, 1.5559e-06, 4.9762e-04, 3.6212e-05,\n",
            "        2.0986e-05, 1.5133e-06, 2.2737e-05, 1.8633e-04, 2.7521e-05, 4.0536e-06,\n",
            "        2.6303e-04, 3.7277e-07, 2.8770e-05, 2.0218e-07, 3.3413e-05, 2.2541e-05,\n",
            "        6.7329e-07, 7.9115e-04, 7.6774e-08, 6.4620e-07, 6.0777e-06, 1.9415e-08,\n",
            "        1.0024e-07, 4.4567e-06, 1.6852e-06, 1.3525e-07, 6.9642e-05, 3.2170e-04,\n",
            "        2.1762e-06, 7.2281e-03, 3.9003e-05, 3.5799e-05, 4.4571e-05, 1.2698e-05,\n",
            "        1.1003e-05, 1.8449e-06, 6.1101e-04, 1.8470e-04, 3.0375e-04, 6.0533e-04,\n",
            "        1.7935e-04, 9.6577e-06, 5.0664e-07, 2.0705e-07, 7.5400e-07, 1.9680e-06,\n",
            "        2.2923e-04, 1.4870e-04, 1.4996e-02, 2.6525e-04, 2.7367e-06, 3.4453e-06,\n",
            "        4.8434e-08, 8.5473e-06, 1.5865e-02, 7.3204e-02, 5.3256e-05, 2.4801e-06,\n",
            "        1.1368e-06, 1.1245e-05, 1.2047e-04, 1.1276e-06, 1.6566e-04, 1.0513e-03,\n",
            "        6.9648e-03, 1.2105e-07, 2.9859e-06, 2.7524e-03, 1.3761e-05, 3.8022e-04,\n",
            "        4.1925e-04, 2.4949e-05, 1.0976e-02, 1.8794e-03, 3.1874e-08, 1.1735e-04,\n",
            "        1.8863e-04, 5.9653e-06, 5.8972e-04, 1.0787e-06, 3.8246e-05, 1.4961e-05,\n",
            "        3.5361e-05, 1.6361e-04, 8.5917e-05, 1.0398e-05, 5.7536e-08, 1.5228e-06,\n",
            "        4.9000e-07, 5.1470e-07, 1.6083e-06, 9.3528e-07, 6.2535e-05, 5.1202e-06,\n",
            "        1.0453e-05, 4.1858e-06, 5.8875e-06, 3.8662e-04, 2.1222e-05, 1.4206e-05,\n",
            "        1.6008e-04, 2.5645e-06, 1.0539e-04, 1.4851e-04, 1.4771e-03, 3.6751e-06,\n",
            "        9.2675e-03, 1.3960e-05, 2.1109e-05, 1.3538e-05, 6.9681e-04, 2.9514e-06,\n",
            "        2.9897e-05, 3.9750e-04, 2.0001e-05, 1.6292e-06, 1.3569e-05, 1.9955e-05,\n",
            "        3.0662e-04, 4.4403e-06, 6.6087e-05, 8.3807e-06, 9.9078e-08, 4.7099e-08,\n",
            "        2.0146e-08, 2.0921e-08, 6.4069e-06, 1.2063e-08, 1.2585e-07, 1.1858e-04,\n",
            "        4.6285e-04, 5.5731e-04, 1.7788e-08, 2.3130e-06, 6.8869e-07, 7.2093e-04,\n",
            "        1.5848e-03, 1.7566e-06, 2.5042e-04, 5.8114e-08, 7.8312e-09, 1.4668e-07,\n",
            "        4.8212e-06, 6.5377e-05, 1.2235e-05, 2.9057e-04, 2.3903e-07, 6.2016e-05,\n",
            "        1.0747e-07, 1.4805e-04, 1.2966e-03, 5.5090e-07, 3.5853e-03, 6.0672e-04,\n",
            "        2.5462e-04, 3.5989e-06, 5.7538e-03, 1.4835e-04, 5.2658e-05, 3.2005e-03,\n",
            "        2.7527e-03, 1.7654e-06, 1.4744e-05, 2.1101e-04, 7.8450e-05, 4.7639e-07,\n",
            "        2.3308e-01, 4.2392e-05, 4.7241e-06, 4.8407e-06, 1.0364e-06, 2.1397e-04,\n",
            "        1.2501e-06, 4.4612e-07, 1.8112e-05, 7.0467e-06, 1.5286e-07, 3.5697e-07,\n",
            "        4.2207e-04, 4.3701e-07, 5.9711e-04, 1.0401e-05, 1.8322e-03, 6.6805e-03,\n",
            "        9.2047e-06, 1.6086e-04, 1.9243e-04, 5.7914e-06, 1.9469e-04, 1.6831e-04,\n",
            "        3.8029e-04, 4.6591e-06, 2.7451e-04, 5.5596e-05, 1.5580e-05, 3.2024e-04,\n",
            "        3.2511e-07, 1.5591e-05, 1.3645e-07, 6.3940e-06, 2.6009e-03, 6.1722e-06,\n",
            "        4.2715e-06, 1.0940e-03, 1.7457e-06, 5.6110e-03, 4.0532e-05, 2.3939e-08,\n",
            "        5.6037e-08, 1.5309e-05, 1.2434e-05, 1.0872e-04, 2.3222e-05, 3.9523e-05,\n",
            "        2.1864e-03, 6.0835e-05, 5.4610e-07, 1.6156e-05, 1.2683e-06, 4.7778e-05,\n",
            "        4.0310e-07, 1.5691e-06, 1.4834e-04, 2.3711e-05, 2.7843e-02, 5.6115e-06,\n",
            "        4.4026e-05, 3.9840e-04, 1.3388e-05, 5.1139e-06, 1.1152e-04, 2.2164e-05,\n",
            "        5.7483e-07, 5.2822e-06, 2.2752e-04, 4.3936e-05, 1.3884e-04, 9.7086e-09,\n",
            "        3.6700e-06, 3.9624e-07, 5.4913e-05, 6.1410e-04, 3.3025e-05, 3.5626e-06,\n",
            "        6.8257e-06, 1.9155e-05, 7.1047e-03, 2.9872e-03, 5.8152e-04, 3.2220e-03,\n",
            "        4.4650e-07, 2.0616e-06, 2.2209e-04, 4.6641e-05, 6.9463e-07, 6.6534e-07,\n",
            "        1.8297e-07, 3.1383e-05, 6.5631e-06, 4.5970e-04, 9.2589e-09, 1.2300e-03,\n",
            "        1.4091e-05, 1.4959e-05, 6.2667e-05, 1.0940e-04, 1.5824e-06, 2.0472e-02,\n",
            "        7.4724e-03, 4.8637e-02, 6.6775e-05, 6.5393e-07, 7.5091e-06, 1.3221e-03,\n",
            "        1.7001e-03, 5.9563e-04, 1.6499e-05, 2.9404e-06, 2.3028e-03, 1.8715e-06,\n",
            "        1.6837e-06, 9.4113e-06, 7.6061e-05, 7.3250e-06, 2.7770e-07, 2.7002e-06,\n",
            "        1.6696e-08, 9.0640e-06, 5.7837e-05, 1.5436e-05, 4.7272e-06, 4.9527e-04,\n",
            "        2.8991e-06, 4.0749e-05, 3.0968e-03, 3.5156e-06, 3.7813e-04, 8.2732e-05,\n",
            "        7.2957e-05, 7.0651e-06, 9.2588e-07, 1.4804e-08, 2.2506e-04, 1.9753e-05,\n",
            "        4.2785e-06, 6.4018e-04, 4.5979e-08, 8.5270e-08, 9.0830e-05, 3.9187e-06,\n",
            "        2.0696e-05, 1.7264e-06, 5.7331e-03, 4.6189e-07, 5.6058e-06, 2.1869e-04,\n",
            "        4.1179e-07, 3.0776e-07, 8.1255e-09, 1.5721e-05, 3.1431e-03, 3.2060e-05,\n",
            "        3.8693e-06, 5.2379e-06, 3.6422e-04, 3.7566e-02, 6.6272e-04, 2.4592e-05,\n",
            "        3.8170e-05, 1.1120e-02, 2.8686e-06, 3.9920e-06, 5.9470e-07, 4.4225e-07,\n",
            "        7.0921e-05, 1.5123e-04, 6.7419e-06, 1.0956e-06, 5.8849e-06, 5.7092e-05,\n",
            "        2.8501e-08, 1.4932e-08, 2.5753e-07, 8.3805e-05, 7.9635e-06, 2.0979e-06,\n",
            "        1.3483e-06, 3.0855e-05, 2.4033e-06, 7.9536e-07, 3.6378e-05]))\n"
          ],
          "name": "stdout"
        }
      ]
    },
    {
      "cell_type": "markdown",
      "metadata": {
        "id": "BgRSroymx2aW",
        "colab_type": "text"
      },
      "source": [
        "## Evaluate the results\n",
        "Based on: https://www.kaggle.com/nadjetba/text-to-meaning-with-multi-label-classification?scriptVersionId=12686831"
      ]
    },
    {
      "cell_type": "code",
      "metadata": {
        "id": "4ZW6Z54KmPXL",
        "colab_type": "code",
        "colab": {}
      },
      "source": [
        "# Predict on the validation dataset\n",
        "y_pred, y_true =  learn.get_preds()\n"
      ],
      "execution_count": 0,
      "outputs": []
    },
    {
      "cell_type": "code",
      "metadata": {
        "id": "m8uWkV70mPao",
        "colab_type": "code",
        "colab": {}
      },
      "source": [
        "from sklearn.metrics import precision_score, recall_score, accuracy_score, f1_score\n",
        "from sklearn.metrics import classification_report\n"
      ],
      "execution_count": 0,
      "outputs": []
    },
    {
      "cell_type": "code",
      "metadata": {
        "id": "RJNZFPmhyP4G",
        "colab_type": "code",
        "outputId": "6ea31d9a-31bf-4979-ff6f-c826933a8b9c",
        "colab": {
          "base_uri": "https://localhost:8080/",
          "height": 34
        }
      },
      "source": [
        "f1_score(y_true, y_pred>0.5, average='micro')\n"
      ],
      "execution_count": 0,
      "outputs": [
        {
          "output_type": "execute_result",
          "data": {
            "text/plain": [
              "0.43283727263884836"
            ]
          },
          "metadata": {
            "tags": []
          },
          "execution_count": 63
        }
      ]
    },
    {
      "cell_type": "code",
      "metadata": {
        "id": "QUI7_WQRyv4J",
        "colab_type": "code",
        "outputId": "08d0724c-e9a3-45c0-a82c-a83ed5f63caa",
        "colab": {
          "base_uri": "https://localhost:8080/",
          "height": 101
        }
      },
      "source": [
        "f1_score(y_true, y_pred>0.5, average='macro')"
      ],
      "execution_count": 0,
      "outputs": [
        {
          "output_type": "stream",
          "text": [
            "/usr/local/lib/python3.6/dist-packages/sklearn/metrics/classification.py:1143: UndefinedMetricWarning: F-score is ill-defined and being set to 0.0 in labels with no predicted samples.\n",
            "  'precision', 'predicted', average, warn_for)\n",
            "/usr/local/lib/python3.6/dist-packages/sklearn/metrics/classification.py:1145: UndefinedMetricWarning: F-score is ill-defined and being set to 0.0 in labels with no true samples.\n",
            "  'recall', 'true', average, warn_for)\n"
          ],
          "name": "stderr"
        },
        {
          "output_type": "execute_result",
          "data": {
            "text/plain": [
              "0.19443526528706617"
            ]
          },
          "metadata": {
            "tags": []
          },
          "execution_count": 64
        }
      ]
    },
    {
      "cell_type": "code",
      "metadata": {
        "id": "OBTIZbtXyP04",
        "colab_type": "code",
        "outputId": "63cd80a2-6e49-4634-8333-4f65abed9842",
        "colab": {
          "base_uri": "https://localhost:8080/",
          "height": 34
        }
      },
      "source": [
        "y_true = y_true.numpy()\n",
        "scores = y_pred.numpy()\n",
        "scores.shape, y_true.shape"
      ],
      "execution_count": 0,
      "outputs": [
        {
          "output_type": "execute_result",
          "data": {
            "text/plain": [
              "((3080, 731), (3080, 731))"
            ]
          },
          "metadata": {
            "tags": []
          },
          "execution_count": 65
        }
      ]
    },
    {
      "cell_type": "code",
      "metadata": {
        "id": "Xq1DCPsCycGp",
        "colab_type": "code",
        "outputId": "48d0e050-1f2d-47ab-f756-e9a962536abe",
        "colab": {
          "base_uri": "https://localhost:8080/",
          "height": 12586
        }
      },
      "source": [
        "metrics = classification_report(y_true, scores>0.5, target_names=data_clas.valid_ds.classes)\n",
        "print(metrics)"
      ],
      "execution_count": 0,
      "outputs": [
        {
          "output_type": "stream",
          "text": [
            "                                 precision    recall  f1-score   support\n",
            "\n",
            "               __label__acidity       0.00      0.00      0.00         6\n",
            "             __label__additives       0.00      0.00      0.00         2\n",
            "               __label__african       0.00      0.00      0.00         2\n",
            "                 __label__aging       0.00      0.00      0.00         0\n",
            "               __label__alcohol       0.86      0.33      0.48        18\n",
            "       __label__alcohol-content       0.00      0.00      0.00         0\n",
            "               __label__alfredo       0.00      0.00      0.00         1\n",
            "            __label__alkalinity       0.00      0.00      0.00         1\n",
            "               __label__allergy       0.00      0.00      0.00         9\n",
            "                __label__allium       0.00      0.00      0.00         0\n",
            "           __label__almond-milk       0.00      0.00      0.00         0\n",
            "               __label__almonds       1.00      0.33      0.50         6\n",
            "     __label__aluminum-cookware       0.00      0.00      0.00         1\n",
            "         __label__aluminum-foil       0.00      0.00      0.00         1\n",
            "      __label__american-cuisine       0.00      0.00      0.00         6\n",
            "                 __label__apple       0.00      0.00      0.00         1\n",
            "             __label__apple-pie       0.00      0.00      0.00         2\n",
            "                __label__apples       0.43      0.33      0.38         9\n",
            "            __label__artichokes       0.00      0.00      0.00         0\n",
            "         __label__asian-cuisine       0.50      0.03      0.05        38\n",
            "             __label__asparagus       0.00      0.00      0.00         5\n",
            "    __label__australian-cuisine       0.00      0.00      0.00         2\n",
            "              __label__avocados       0.67      0.50      0.57         4\n",
            "             __label__baby-food       0.00      0.00      0.00         1\n",
            "                 __label__bacon       0.92      0.75      0.83        16\n",
            "                __label__bagels       0.00      0.00      0.00         0\n",
            "      __label__baker-percentage       0.00      0.00      0.00         1\n",
            "                __label__baking       0.57      0.36      0.44       290\n",
            "         __label__baking-powder       0.83      0.62      0.71         8\n",
            "           __label__baking-soda       0.50      0.22      0.31         9\n",
            "        __label__balkan-cuisine       0.00      0.00      0.00         3\n",
            "               __label__bananas       0.80      0.44      0.57         9\n",
            "              __label__barbecue       0.64      0.33      0.44        21\n",
            "        __label__barbecue-sauce       0.00      0.00      0.00         4\n",
            "                __label__barley       0.00      0.00      0.00         3\n",
            "                __label__basics       0.00      0.00      0.00         6\n",
            "                 __label__basil       0.80      1.00      0.89         4\n",
            "               __label__basting       0.00      0.00      0.00         0\n",
            "                __label__batter       1.00      0.16      0.27        19\n",
            "              __label__bay-leaf       0.00      0.00      0.00         2\n",
            "                 __label__beans       0.76      0.52      0.62        25\n",
            "              __label__bechamel       0.00      0.00      0.00         3\n",
            "                  __label__beef       0.70      0.39      0.50        49\n",
            "                  __label__beer       0.50      0.38      0.43         8\n",
            "                 __label__beets       0.00      0.00      0.00         2\n",
            "          __label__bell-peppers       1.00      0.14      0.25         7\n",
            "             __label__beverages       0.00      0.00      0.00         5\n",
            "                  __label__biga       0.00      0.00      0.00         1\n",
            "              __label__biscuits       0.00      0.00      0.00         3\n",
            "             __label__blanching       0.00      0.00      0.00         0\n",
            "               __label__blender       0.33      0.20      0.25         5\n",
            "          __label__blind-baking       0.00      0.00      0.00         0\n",
            "             __label__blowtorch       0.00      0.00      0.00         0\n",
            "           __label__blueberries       1.00      0.20      0.33         5\n",
            "               __label__boiling       0.50      0.13      0.21        38\n",
            "                 __label__bones       0.00      0.00      0.00         4\n",
            "              __label__botulism       1.00      0.33      0.50         3\n",
            "              __label__bouillon       0.00      0.00      0.00         1\n",
            "              __label__braising       0.00      0.00      0.00         9\n",
            "                 __label__bread       0.84      0.54      0.66       159\n",
            "         __label__bread-pudding       0.00      0.00      0.00         0\n",
            "           __label__breadcrumbs       0.00      0.00      0.00         3\n",
            "             __label__breakfast       0.50      0.17      0.25         6\n",
            "                  __label__brie       0.00      0.00      0.00         2\n",
            "               __label__brining       0.81      0.59      0.68        22\n",
            "               __label__brisket       0.00      0.00      0.00         2\n",
            "              __label__broccoli       0.00      0.00      0.00         3\n",
            "               __label__broiler       0.00      0.00      0.00         8\n",
            "                 __label__broth       0.20      0.07      0.11        14\n",
            "           __label__brown-sugar       0.50      0.33      0.40         3\n",
            "              __label__brownies       1.00      0.88      0.93         8\n",
            "      __label__brussels-sprouts       1.00      0.50      0.67         2\n",
            "             __label__buckwheat       0.00      0.00      0.00         0\n",
            "        __label__budget-cooking       0.00      0.00      0.00         7\n",
            "          __label__bulk-cooking       0.00      0.00      0.00         5\n",
            "                 __label__burnt       0.00      0.00      0.00         4\n",
            "            __label__butchering       0.00      0.00      0.00         1\n",
            "                __label__butter       0.59      0.34      0.43        29\n",
            "            __label__buttermilk       0.00      0.00      0.00         2\n",
            "               __label__cabbage       0.00      0.00      0.00         7\n",
            "                __label__cactus       0.00      0.00      0.00         0\n",
            "              __label__caffeine       0.78      1.00      0.88         7\n",
            "         __label__cajun-cuisine       0.00      0.00      0.00         1\n",
            "                  __label__cake       0.66      0.59      0.62        68\n",
            "              __label__calories       1.00      0.50      0.67         2\n",
            "               __label__camping       0.00      0.00      0.00         4\n",
            "                 __label__candy       1.00      0.15      0.27        26\n",
            "               __label__canning       0.82      0.28      0.42        32\n",
            "               __label__caramel       0.67      0.20      0.31        10\n",
            "        __label__caramelization       0.00      0.00      0.00         9\n",
            "          __label__carbon-steel       1.00      0.50      0.67         4\n",
            "             __label__carbonara       0.00      0.00      0.00         2\n",
            "           __label__carbonation       0.50      0.33      0.40         3\n",
            "     __label__caribbean-cuisine       0.00      0.00      0.00         2\n",
            "                 __label__carob       0.00      0.00      0.00         1\n",
            "             __label__carpaccio       0.00      0.00      0.00         1\n",
            "               __label__carrots       0.75      0.38      0.50         8\n",
            "             __label__casserole       0.00      0.00      0.00         5\n",
            "             __label__cast-iron       0.73      0.67      0.70        24\n",
            "              __label__catering       0.00      0.00      0.00         2\n",
            "           __label__cauliflower       0.00      0.00      0.00         4\n",
            "           __label__cedar-plank       0.00      0.00      0.00         3\n",
            "                __label__celery       0.00      0.00      0.00         3\n",
            "               __label__ceramic       0.50      0.33      0.40         3\n",
            "               __label__ceviche       0.00      0.00      0.00         1\n",
            "                  __label__chai       0.00      0.00      0.00         4\n",
            "              __label__charcoal       1.00      0.33      0.50         3\n",
            "           __label__charcuterie       0.00      0.00      0.00         2\n",
            "                __label__cheese       0.82      0.70      0.76        60\n",
            "         __label__cheese-making       0.40      0.13      0.20        15\n",
            "            __label__cheesecake       1.00      0.43      0.60         7\n",
            "             __label__chemistry       0.00      0.00      0.00        12\n",
            "              __label__cherries       0.00      0.00      0.00         1\n",
            "             __label__chestnuts       0.00      0.00      0.00         1\n",
            "                  __label__chia       0.00      0.00      0.00         0\n",
            "               __label__chicken       0.70      0.63      0.66        91\n",
            "        __label__chicken-breast       0.00      0.00      0.00        18\n",
            "         __label__chicken-stock       0.50      0.12      0.20         8\n",
            "         __label__chicken-wings       0.00      0.00      0.00         4\n",
            "             __label__chickpeas       0.00      0.00      0.00         4\n",
            "              __label__children       0.00      0.00      0.00         2\n",
            "                 __label__chili       1.00      0.25      0.40         8\n",
            "         __label__chili-peppers       0.50      0.35      0.41        20\n",
            "              __label__chilling       0.00      0.00      0.00         0\n",
            "       __label__chinese-cuisine       0.20      0.05      0.07        22\n",
            "                 __label__chips       1.00      0.33      0.50         3\n",
            "             __label__chocolate       0.81      0.54      0.65        56\n",
            "    __label__chocolate-truffles       0.00      0.00      0.00         1\n",
            "              __label__chopping       0.00      0.00      0.00         1\n",
            "               __label__chorizo       0.00      0.00      0.00         2\n",
            "               __label__chutney       0.00      0.00      0.00         3\n",
            "              __label__cilantro       0.00      0.00      0.00         3\n",
            "              __label__cinnamon       0.50      0.33      0.40         3\n",
            "                __label__citrus       0.00      0.00      0.00         7\n",
            "        __label__classification       0.00      0.00      0.00         0\n",
            "              __label__cleaning       0.71      0.39      0.51        38\n",
            "              __label__clothing       0.00      0.00      0.00         1\n",
            "         __label__clotted-cream       1.00      1.00      1.00         1\n",
            "             __label__cocktails       1.00      0.14      0.25         7\n",
            "                 __label__cocoa       0.60      0.75      0.67         4\n",
            "               __label__coconut       1.00      0.71      0.83        14\n",
            "                   __label__cod       0.00      0.00      0.00         1\n",
            "                __label__coffee       0.80      0.90      0.84        39\n",
            "             __label__cold-brew       0.00      0.00      0.00         0\n",
            "                 __label__color       0.00      0.00      0.00         9\n",
            "              __label__coloring       0.00      0.00      0.00         8\n",
            "           __label__comparisons       0.00      0.00      0.00         1\n",
            "         __label__concentration       0.00      0.00      0.00         1\n",
            "            __label__condiments       0.00      0.00      0.00         5\n",
            "                __label__confit       0.00      0.00      0.00         1\n",
            "           __label__consistency       0.00      0.00      0.00         7\n",
            "            __label__containers       0.00      0.00      0.00         3\n",
            "            __label__convection       1.00      0.67      0.80         6\n",
            "     __label__convenience-foods       0.00      0.00      0.00         3\n",
            "            __label__conversion       0.00      0.00      0.00         8\n",
            "              __label__cookbook       0.00      0.00      0.00         6\n",
            "               __label__cookies       0.77      0.60      0.68        40\n",
            "          __label__cooking-myth       0.00      0.00      0.00         4\n",
            "        __label__cooking-safety       0.00      0.00      0.00         0\n",
            "          __label__cooking-time       0.33      0.05      0.08        42\n",
            "              __label__cookware       0.00      0.00      0.00        26\n",
            "       __label__copper-cookware       0.00      0.00      0.00         0\n",
            "             __label__coriander       0.00      0.00      0.00         1\n",
            "                  __label__corn       0.56      0.36      0.43        14\n",
            "           __label__corned-beef       0.40      0.67      0.50         3\n",
            "             __label__cornflake       0.00      0.00      0.00         0\n",
            "            __label__cornstarch       0.00      0.00      0.00         3\n",
            "                  __label__cost       0.00      0.00      0.00         0\n",
            "                  __label__crab       0.00      0.00      0.00         0\n",
            "              __label__crackers       0.00      0.00      0.00         0\n",
            "           __label__cranberries       0.00      0.00      0.00         1\n",
            "              __label__crawfish       0.00      0.00      0.00         0\n",
            "                 __label__cream       0.40      0.07      0.11        30\n",
            "          __label__cream-cheese       0.00      0.00      0.00         5\n",
            "        __label__creme-anglaise       0.00      0.00      0.00         0\n",
            "          __label__creme-brulee       0.40      0.50      0.44         4\n",
            "         __label__creme-fraiche       0.00      0.00      0.00         2\n",
            "                 __label__crepe       0.00      0.00      0.00         4\n",
            "                 __label__crock       0.00      0.00      0.00         1\n",
            "              __label__crockpot       0.64      0.50      0.56        14\n",
            "                 __label__crudo       0.00      0.00      0.00         0\n",
            "           __label__crumb-crust       0.00      0.00      0.00         2\n",
            "               __label__crumble       0.00      0.00      0.00         2\n",
            "                 __label__crust       0.56      0.29      0.38        17\n",
            "                 __label__cubes       0.00      0.00      0.00         0\n",
            "             __label__cucumbers       0.00      0.00      0.00         3\n",
            "         __label__culinary-uses       0.62      0.15      0.24        33\n",
            "   __label__cultural-difference       0.00      0.00      0.00         1\n",
            "         __label__cultured-food       0.00      0.00      0.00         1\n",
            "              __label__cupcakes       0.00      0.00      0.00        11\n",
            "                __label__curing       0.00      0.00      0.00         4\n",
            "                 __label__curry       0.77      0.53      0.62        19\n",
            "               __label__custard       0.00      0.00      0.00         8\n",
            "           __label__cut-of-meat       0.00      0.00      0.00         6\n",
            "               __label__cutting       0.50      0.17      0.25         6\n",
            "        __label__cutting-boards       1.00      1.00      1.00         4\n",
            "                 __label__dairy       0.00      0.00      0.00         7\n",
            "            __label__dairy-free       1.00      0.33      0.50         3\n",
            "                 __label__dashi       0.00      0.00      0.00         0\n",
            "            __label__decorating       0.50      0.17      0.25         6\n",
            "       __label__deep-dish-pizza       0.00      0.00      0.00         0\n",
            "           __label__deep-frying       0.71      0.46      0.56        26\n",
            "            __label__defrosting       1.00      0.17      0.29        12\n",
            "           __label__dehydrating       1.00      0.12      0.22         8\n",
            "               __label__dessert       0.00      0.00      0.00        18\n",
            "                __label__dicing       0.00      0.00      0.00         0\n",
            "   __label__dietary-restriction       0.00      0.00      0.00         1\n",
            "           __label__differences       0.00      0.00      0.00         0\n",
            "                   __label__dip       0.00      0.00      0.00         0\n",
            "              __label__disposal       0.00      0.00      0.00         0\n",
            "                 __label__dough       0.57      0.44      0.50        52\n",
            "             __label__doughnuts       0.00      0.00      0.00         3\n",
            "                __label__drinks       0.00      0.00      0.00        16\n",
            "             __label__dry-aging       0.00      0.00      0.00         4\n",
            "                __label__drying       1.00      0.12      0.22         8\n",
            "                  __label__duck       0.80      0.67      0.73         6\n",
            "        __label__dulce-de-leche       0.00      0.00      0.00         1\n",
            "             __label__dumplings       1.00      0.20      0.33         5\n",
            "                __label__durian       0.00      0.00      0.00         1\n",
            "            __label__dutch-oven       0.75      0.33      0.46         9\n",
            "            __label__efficiency       0.00      0.00      0.00         4\n",
            "           __label__egg-noodles       0.00      0.00      0.00         2\n",
            "            __label__egg-whites       0.67      0.29      0.40         7\n",
            "              __label__eggplant       1.00      0.17      0.29        12\n",
            "                  __label__eggs       0.77      0.61      0.68        70\n",
            "          __label__elderberries       0.00      0.00      0.00         2\n",
            "       __label__electric-stoves       1.00      0.33      0.50        12\n",
            "              __label__emulsion       0.00      0.00      0.00         7\n",
            "       __label__english-cuisine       0.00      0.00      0.00         1\n",
            "             __label__equipment       0.54      0.17      0.25       156\n",
            "              __label__espresso       1.00      0.67      0.80         9\n",
            "       __label__evaporated-milk       1.00      0.25      0.40         4\n",
            "          __label__experimental       0.00      0.00      0.00         2\n",
            "              __label__extracts       0.00      0.00      0.00         3\n",
            "                   __label__faq       0.00      0.00      0.00         1\n",
            "                  __label__fats       0.75      0.33      0.46        18\n",
            "          __label__fermentation       0.25      0.09      0.13        23\n",
            "                  __label__feta       0.00      0.00      0.00         0\n",
            "               __label__filling       0.00      0.00      0.00         3\n",
            "             __label__filtering       0.00      0.00      0.00         1\n",
            "       __label__finnish-cuisine       0.00      0.00      0.00         0\n",
            "                  __label__fire       0.00      0.00      0.00         2\n",
            "                  __label__fish       0.79      0.49      0.60        39\n",
            "                __label__flambe       0.00      0.00      0.00         1\n",
            "                  __label__flan       0.00      0.00      0.00         2\n",
            "             __label__flatbread       0.00      0.00      0.00         6\n",
            "                __label__flavor       0.46      0.16      0.24        68\n",
            "           __label__flavor-base       0.00      0.00      0.00         0\n",
            "      __label__flavour-pairings       0.00      0.00      0.00         1\n",
            "                  __label__flax       0.00      0.00      0.00         0\n",
            "                 __label__flour       0.64      0.36      0.46        50\n",
            "        __label__flour-tortilla       0.00      0.00      0.00         1\n",
            "               __label__flowers       0.00      0.00      0.00         0\n",
            "                  __label__foam       0.00      0.00      0.00         2\n",
            "              __label__focaccia       0.00      0.00      0.00         4\n",
            "          __label__foil-cooking       0.00      0.00      0.00         0\n",
            "               __label__fondant       0.00      0.00      0.00         3\n",
            "                __label__fondue       0.00      0.00      0.00         0\n",
            "          __label__food-history       0.00      0.00      0.00         4\n",
            "   __label__food-identification       0.43      0.20      0.27        15\n",
            "     __label__food-preservation       0.00      0.00      0.00        49\n",
            "       __label__food-processing       0.00      0.00      0.00         9\n",
            "           __label__food-safety       0.66      0.27      0.39       267\n",
            "          __label__food-science       0.00      0.00      0.00        53\n",
            "        __label__food-transport       0.00      0.00      0.00         4\n",
            "            __label__free-range       0.00      0.00      0.00         0\n",
            "              __label__freezing       0.61      0.42      0.50        73\n",
            "        __label__french-cuisine       0.00      0.00      0.00         6\n",
            "          __label__french-fries       0.40      0.50      0.44         4\n",
            "          __label__french-press       0.00      0.00      0.00         0\n",
            "                 __label__fresh       1.00      0.06      0.12        16\n",
            "            __label__fried-eggs       0.00      0.00      0.00         1\n",
            "              __label__frittata       0.00      0.00      0.00         0\n",
            "              __label__frosting       0.00      0.00      0.00         8\n",
            "                __label__frozen       0.00      0.00      0.00        14\n",
            "         __label__frozen-yogurt       0.00      0.00      0.00         1\n",
            "                 __label__fruit       0.53      0.13      0.21        61\n",
            "         __label__fruit-leather       0.00      0.00      0.00         1\n",
            "                 __label__fryer       0.00      0.00      0.00         1\n",
            "                __label__frying       0.39      0.18      0.24        51\n",
            "            __label__frying-pan       1.00      0.08      0.15        12\n",
            "                 __label__fudge       0.67      0.50      0.57         4\n",
            "                __label__gammon       0.00      0.00      0.00         3\n",
            "               __label__ganache       1.00      0.75      0.86         4\n",
            "      __label__garbage-disposal       0.00      0.00      0.00         1\n",
            "                __label__garlic       0.90      0.90      0.90        20\n",
            "                   __label__gas       0.67      0.50      0.57        12\n",
            "              __label__gazpacho       0.00      0.00      0.00         0\n",
            "               __label__gelatin       0.89      0.53      0.67        15\n",
            "        __label__gelling-agents       0.00      0.00      0.00         4\n",
            "        __label__german-cuisine       0.00      0.00      0.00         3\n",
            "                  __label__ghee       0.00      0.00      0.00         0\n",
            "                __label__ginger       0.88      1.00      0.93         7\n",
            "           __label__gingerbread       0.00      0.00      0.00         1\n",
            "                 __label__glass       0.00      0.00      0.00         5\n",
            "                 __label__glaze       0.00      0.00      0.00         2\n",
            "         __label__glucose-syrup       0.00      0.00      0.00         5\n",
            "           __label__gluten-free       1.00      0.50      0.67        14\n",
            "               __label__gnocchi       1.00      0.75      0.86         4\n",
            "                  __label__goat       0.00      0.00      0.00         0\n",
            "                 __label__goose       0.00      0.00      0.00         2\n",
            "                 __label__grade       0.00      0.00      0.00         1\n",
            "       __label__graham-crackers       0.00      0.00      0.00         1\n",
            "                __label__grains       0.00      0.00      0.00         6\n",
            "               __label__granola       0.00      0.00      0.00         2\n",
            "                __label__grapes       0.00      0.00      0.00         0\n",
            "               __label__grating       0.00      0.00      0.00         1\n",
            "                 __label__gravy       0.67      0.40      0.50         5\n",
            "         __label__greek-cuisine       0.00      0.00      0.00         2\n",
            "                __label__greens       0.00      0.00      0.00         6\n",
            "               __label__griddle       0.00      0.00      0.00         0\n",
            "              __label__grilling       0.56      0.41      0.47        34\n",
            "              __label__grinding       0.00      0.00      0.00         4\n",
            "           __label__ground-beef       0.00      0.00      0.00         8\n",
            "                 __label__guava       0.00      0.00      0.00         0\n",
            "                 __label__gumbo       0.00      0.00      0.00         1\n",
            "               __label__haddock       0.00      0.00      0.00         0\n",
            "         __label__half-and-half       0.00      0.00      0.00         0\n",
            "                   __label__ham       0.67      0.22      0.33         9\n",
            "            __label__hamburgers       0.67      0.36      0.47        11\n",
            "          __label__hand-blender       0.00      0.00      0.00         2\n",
            "      __label__hard-boiled-eggs       0.00      0.00      0.00         5\n",
            "                  __label__heat       0.00      0.00      0.00         7\n",
            "                 __label__herbs       0.20      0.04      0.07        25\n",
            "          __label__hibiscus-tea       0.00      0.00      0.00         1\n",
            "         __label__high-altitude       0.00      0.00      0.00         1\n",
            "               __label__history       0.00      0.00      0.00         4\n",
            "           __label__hollandaise       0.00      0.00      0.00         1\n",
            "                __label__hominy       0.00      0.00      0.00         3\n",
            "                 __label__honey       0.86      0.60      0.71        10\n",
            "             __label__honeycomb       0.00      0.00      0.00         3\n",
            "         __label__hot-chocolate       0.00      0.00      0.00         1\n",
            "               __label__hot-dog       1.00      1.00      1.00         1\n",
            "             __label__hot-sauce       0.00      0.00      0.00         7\n",
            "                __label__hummus       0.00      0.00      0.00         2\n",
            "     __label__hungarian-cuisine       0.00      0.00      0.00         2\n",
            "             __label__ice-cream       0.92      0.67      0.77        18\n",
            "                 __label__icing       1.00      0.20      0.33        15\n",
            "        __label__indian-cuisine       0.92      0.29      0.44        38\n",
            "    __label__indonesian-cuisine       0.00      0.00      0.00         1\n",
            "             __label__induction       0.75      0.60      0.67         5\n",
            "              __label__infusion       0.00      0.00      0.00         6\n",
            "  __label__ingredient-selection       0.00      0.00      0.00        20\n",
            "       __label__italian-cuisine       0.00      0.00      0.00        20\n",
            "              __label__jalapeno       0.00      0.00      0.00         2\n",
            "                   __label__jam       1.00      0.73      0.85        15\n",
            "      __label__japanese-cuisine       0.50      0.04      0.08        23\n",
            "                 __label__jelly       0.00      0.00      0.00         3\n",
            "                  __label__jerk       0.00      0.00      0.00         1\n",
            "                 __label__jerky       1.00      0.50      0.67         4\n",
            "        __label__jewish-cuisine       0.00      0.00      0.00         1\n",
            "                 __label__juice       0.57      0.31      0.40        13\n",
            "               __label__juicing       0.00      0.00      0.00         3\n",
            "                  __label__kale       0.00      0.00      0.00         1\n",
            "              __label__kangaroo       0.00      0.00      0.00         0\n",
            "                 __label__kebab       0.00      0.00      0.00         1\n",
            "                 __label__kefir       1.00      1.00      1.00         1\n",
            "               __label__ketchup       0.00      0.00      0.00         4\n",
            "                __label__kettle       0.00      0.00      0.00         0\n",
            "                __label__kimchi       0.75      0.60      0.67         5\n",
            "               __label__kitchen       0.00      0.00      0.00         2\n",
            "        __label__kitchen-safety       0.00      0.00      0.00         4\n",
            "             __label__kiwifruit       0.00      0.00      0.00         1\n",
            "              __label__kneading       1.00      0.20      0.33         5\n",
            "          __label__knife-safety       0.00      0.00      0.00         1\n",
            "          __label__knife-skills       0.60      0.25      0.35        12\n",
            "                __label__knives       0.81      1.00      0.90        13\n",
            "              __label__kohlrabi       0.00      0.00      0.00         1\n",
            "              __label__kombucha       0.00      0.00      0.00         2\n",
            "        __label__korean-cuisine       0.00      0.00      0.00         5\n",
            "                __label__kosher       0.00      0.00      0.00         6\n",
            "           __label__kosher-salt       1.00      1.00      1.00         1\n",
            "                  __label__lamb       1.00      0.36      0.53        11\n",
            "              __label__language       0.33      0.03      0.06        30\n",
            "               __label__lasagna       0.00      0.00      0.00         6\n",
            "              __label__learning       0.00      0.00      0.00         3\n",
            "             __label__leavening       0.00      0.00      0.00         5\n",
            "                 __label__leeks       0.00      0.00      0.00         1\n",
            "               __label__legumes       0.00      0.00      0.00         0\n",
            "                 __label__lemon       0.50      0.18      0.27        11\n",
            "           __label__lemon-juice       0.50      0.25      0.33         4\n",
            "              __label__lemonade       0.00      0.00      0.00         1\n",
            "               __label__lentils       1.00      0.83      0.91         6\n",
            "               __label__lettuce       1.00      1.00      1.00         1\n",
            "                  __label__lime       0.00      0.00      0.00         3\n",
            "               __label__liqueur       0.00      0.00      0.00         1\n",
            "                 __label__liver       0.00      0.00      0.00         2\n",
            "               __label__lobster       0.00      0.00      0.00         1\n",
            "              __label__low-carb       1.00      0.33      0.50         3\n",
            "               __label__low-fat       0.00      0.00      0.00         5\n",
            "              __label__macarons       0.00      0.00      0.00         1\n",
            "              __label__maillard       1.00      1.00      1.00         1\n",
            "           __label__maintenance       0.00      0.00      0.00         7\n",
            "                  __label__malt       0.00      0.00      0.00         1\n",
            "                 __label__mango       1.00      0.40      0.57         5\n",
            "           __label__maple-syrup       0.67      1.00      0.80         2\n",
            "             __label__margarine       0.00      0.00      0.00         2\n",
            "              __label__marinade       0.85      0.50      0.63        22\n",
            "              __label__marinara       0.00      0.00      0.00         1\n",
            "                __label__marrow       0.00      0.00      0.00         0\n",
            "           __label__marshmallow       0.00      0.00      0.00         2\n",
            "                  __label__masa       0.00      0.00      0.00         2\n",
            "            __label__mascarpone       0.00      0.00      0.00         2\n",
            "                  __label__mash       0.00      0.00      0.00         1\n",
            "          __label__mass-cooking       0.00      0.00      0.00         1\n",
            "                  __label__mate       0.00      0.00      0.00         0\n",
            "            __label__mayonnaise       0.83      0.71      0.77         7\n",
            "          __label__measurements       0.67      0.12      0.21        16\n",
            "      __label__measuring-scales       0.00      0.00      0.00         0\n",
            "                  __label__meat       0.55      0.33      0.41        85\n",
            "             __label__meatballs       1.00      0.20      0.33         5\n",
            "              __label__meatloaf       0.00      0.00      0.00         3\n",
            "                 __label__melon       0.00      0.00      0.00         5\n",
            "               __label__melting       0.00      0.00      0.00         6\n",
            "     __label__melting-chocolate       0.00      0.00      0.00         6\n",
            "         __label__melting-sugar       0.00      0.00      0.00         3\n",
            "         __label__menu-planning       0.00      0.00      0.00         1\n",
            "              __label__meringue       1.00      0.33      0.50         6\n",
            "       __label__mexican-cuisine       0.67      0.09      0.15        23\n",
            "             __label__microwave       0.90      0.56      0.69        34\n",
            "__label__middle-eastern-cuisine       0.00      0.00      0.00         6\n",
            "                  __label__milk       0.69      0.31      0.43        35\n",
            "               __label__milling       0.00      0.00      0.00         1\n",
            "            __label__minestrone       0.00      0.00      0.00         0\n",
            "                  __label__mint       1.00      0.33      0.50         6\n",
            "              __label__mistakes       0.00      0.00      0.00         1\n",
            "                __label__mixing       0.00      0.00      0.00        11\n",
            "              __label__moisture       0.00      0.00      0.00         7\n",
            "                  __label__mold       0.75      0.27      0.40        11\n",
            "  __label__molecular-gastronomy       0.00      0.00      0.00         8\n",
            "                __label__mortar       1.00      1.00      1.00         1\n",
            "                __label__mousse       1.00      0.50      0.67         2\n",
            "            __label__mozzarella       1.00      0.67      0.80         6\n",
            "                   __label__msg       0.00      0.00      0.00         1\n",
            "               __label__muffins       1.00      0.75      0.86         8\n",
            "             __label__mushrooms       0.86      0.86      0.86        14\n",
            "               __label__mussels       0.00      0.00      0.00         2\n",
            "               __label__mustard       1.00      0.11      0.20         9\n",
            "                __label__mutton       0.00      0.00      0.00         2\n",
            "      __label__neapolitan-pizza       0.00      0.00      0.00         1\n",
            "             __label__non-stick       1.00      0.25      0.40        12\n",
            "               __label__noodles       0.82      0.53      0.64        17\n",
            "           __label__nut-butters       0.00      0.00      0.00         1\n",
            "  __label__nutrient-composition       0.33      0.05      0.08        21\n",
            "                  __label__nuts       0.56      0.38      0.45        13\n",
            "                  __label__oats       1.00      0.17      0.29        12\n",
            "                 __label__offal       0.00      0.00      0.00         2\n",
            "                   __label__oil       0.55      0.56      0.56        48\n",
            "                  __label__okra       0.00      0.00      0.00         2\n",
            "                 __label__olive       0.00      0.00      0.00         1\n",
            "             __label__olive-oil       0.75      0.21      0.33        14\n",
            "              __label__omelette       0.00      0.00      0.00         5\n",
            "                __label__onions       0.83      0.77      0.80        31\n",
            "               __label__oranges       1.00      0.62      0.77         8\n",
            "               __label__oregano       0.00      0.00      0.00         2\n",
            "               __label__organic       0.00      0.00      0.00         4\n",
            "          __label__organization       0.00      0.00      0.00         3\n",
            "       __label__outdoor-cooking       0.00      0.00      0.00         1\n",
            "                  __label__oven       0.74      0.35      0.48        71\n",
            "                __label__oxtail       0.00      0.00      0.00         1\n",
            "             __label__packaging       0.00      0.00      0.00         4\n",
            "                __label__paella       0.00      0.00      0.00         2\n",
            "               __label__pairing       0.00      0.00      0.00         3\n",
            "                   __label__pan       0.29      0.10      0.15        20\n",
            "              __label__pancakes       1.00      0.33      0.50         9\n",
            "              __label__pancetta       0.00      0.00      0.00         0\n",
            "                __label__paneer       1.00      0.75      0.86         4\n",
            "                __label__pantry       0.00      0.00      0.00         2\n",
            "               __label__paprika       0.00      0.00      0.00         1\n",
            "             __label__parchment       0.00      0.00      0.00         2\n",
            "              __label__parmesan       0.00      0.00      0.00         1\n",
            "               __label__parsley       0.00      0.00      0.00         3\n",
            "               __label__parsnip       0.00      0.00      0.00         0\n",
            "              __label__passover       0.00      0.00      0.00         0\n",
            "                 __label__pasta       0.88      0.47      0.61        47\n",
            "        __label__pasteurization       0.00      0.00      0.00         3\n",
            "                __label__pastry       1.00      0.18      0.30        17\n",
            "                  __label__pate       0.00      0.00      0.00         1\n",
            "               __label__peaches       0.00      0.00      0.00         8\n",
            "         __label__peanut-butter       0.00      0.00      0.00         4\n",
            "               __label__peanuts       0.50      0.50      0.50         4\n",
            "                __label__pectin       0.00      0.00      0.00         6\n",
            "                  __label__peel       0.00      0.00      0.00         1\n",
            "               __label__peeling       1.00      0.11      0.20         9\n",
            "                __label__pepper       0.00      0.00      0.00         6\n",
            "                __label__pestle       0.00      0.00      0.00         0\n",
            "              __label__pickling       0.89      0.38      0.53        21\n",
            "                   __label__pie       0.77      0.57      0.65        30\n",
            "             __label__pineapple       0.40      0.50      0.44         4\n",
            "                  __label__pita       0.00      0.00      0.00         2\n",
            "                 __label__pizza       0.86      0.82      0.84        39\n",
            "           __label__pizza-stone       0.86      0.86      0.86         7\n",
            "               __label__plating       0.00      0.00      0.00         3\n",
            "__label__please-remove-this-tag       0.00      0.00      0.00         6\n",
            "                 __label__plums       0.00      0.00      0.00         3\n",
            "              __label__poaching       1.00      0.40      0.57         5\n",
            "               __label__polenta       1.00      0.67      0.80         3\n",
            "        __label__polish-cuisine       0.00      0.00      0.00         0\n",
            "           __label__pomegranate       0.00      0.00      0.00         1\n",
            "             __label__pop-rocks       0.00      0.00      0.00         1\n",
            "               __label__popcorn       1.00      0.80      0.89         5\n",
            "                  __label__pork       0.58      0.34      0.43        44\n",
            "            __label__pork-belly       0.00      0.00      0.00         2\n",
            "            __label__pork-chops       0.00      0.00      0.00         2\n",
            "         __label__pork-shoulder       0.00      0.00      0.00         2\n",
            "              __label__porridge       0.00      0.00      0.00         0\n",
            "                   __label__pot       0.50      0.11      0.18         9\n",
            "               __label__pot-pie       0.00      0.00      0.00         0\n",
            "             __label__pot-roast       0.00      0.00      0.00         5\n",
            "              __label__potatoes       0.86      0.79      0.82        38\n",
            "               __label__poultry       0.00      0.00      0.00         2\n",
            "          __label__presentation       0.00      0.00      0.00         6\n",
            "       __label__pressure-canner       0.00      0.00      0.00         3\n",
            "       __label__pressure-cooker       0.88      0.58      0.70        12\n",
            "              __label__pretzels       0.00      0.00      0.00         2\n",
            "               __label__produce       0.00      0.00      0.00         3\n",
            "          __label__professional       0.00      0.00      0.00         2\n",
            "              __label__proofing       0.00      0.00      0.00         2\n",
            "         __label__propane-grill       0.00      0.00      0.00         1\n",
            "               __label__pudding       0.00      0.00      0.00         5\n",
            "           __label__puff-pastry       0.67      0.67      0.67         6\n",
            "                __label__pulses       0.00      0.00      0.00         2\n",
            "               __label__pumpkin       0.33      0.25      0.29         4\n",
            "                 __label__puree       0.00      0.00      0.00         1\n",
            "                __label__quiche       0.00      0.00      0.00         4\n",
            "            __label__quickbread       0.00      0.00      0.00         4\n",
            "                __label__quinoa       1.00      0.50      0.67         4\n",
            "                __label__rabbit       0.00      0.00      0.00         0\n",
            "                 __label__ramen       1.00      1.00      1.00         1\n",
            "           __label__raspberries       0.00      0.00      0.00         3\n",
            "                 __label__ratio       0.00      0.00      0.00         2\n",
            "               __label__ravioli       0.00      0.00      0.00         1\n",
            "                   __label__raw       0.00      0.00      0.00         7\n",
            "              __label__raw-meat       1.00      0.18      0.31        11\n",
            "        __label__recipe-scaling       0.00      0.00      0.00        11\n",
            "             __label__reduction       0.00      0.00      0.00         4\n",
            "          __label__refrigerator       0.38      0.08      0.13        39\n",
            "             __label__reheating       0.83      0.23      0.36        22\n",
            "             __label__resources       1.00      0.08      0.15        12\n",
            "            __label__restaurant       0.00      0.00      0.00         5\n",
            "    __label__restaurant-mimicry       0.00      0.00      0.00        15\n",
            "               __label__rhubarb       0.00      0.00      0.00         0\n",
            "                  __label__ribs       0.00      0.00      0.00         6\n",
            "                  __label__rice       0.79      0.77      0.78        43\n",
            "           __label__rice-cooker       0.83      0.62      0.71         8\n",
            "             __label__rice-wine       0.00      0.00      0.00         0\n",
            "                  __label__ripe       0.50      0.11      0.18         9\n",
            "                __label__rising       0.00      0.00      0.00         7\n",
            "               __label__risotto       1.00      0.33      0.50         6\n",
            "                 __label__roast       0.00      0.00      0.00        13\n",
            "            __label__roast-beef       0.00      0.00      0.00         4\n",
            "              __label__roasting       0.27      0.11      0.16        27\n",
            "               __label__rolling       0.00      0.00      0.00         0\n",
            "                 __label__rolls       0.00      0.00      0.00         1\n",
            "      __label__romanian-cuisine       0.00      0.00      0.00         1\n",
            "                  __label__root       0.00      0.00      0.00         1\n",
            "                  __label__roux       1.00      0.50      0.67         8\n",
            "                   __label__rum       0.00      0.00      0.00         2\n",
            "       __label__russian-cuisine       0.00      0.00      0.00         3\n",
            "                   __label__rye       1.00      0.50      0.67         2\n",
            "                __label__safety       0.00      0.00      0.00         4\n",
            "               __label__saffron       0.00      0.00      0.00         3\n",
            "                 __label__salad       0.36      0.45      0.40        11\n",
            "        __label__salad-dressing       0.80      0.50      0.62         8\n",
            "                __label__salami       0.00      0.00      0.00         1\n",
            "                __label__salmon       0.77      0.91      0.83        11\n",
            "            __label__salmonella       0.00      0.00      0.00         2\n",
            "                 __label__salsa       1.00      0.50      0.67         4\n",
            "                  __label__salt       0.68      0.45      0.54        42\n",
            "              __label__sandwich       0.33      0.33      0.33         6\n",
            "              __label__sardines       0.00      0.00      0.00         0\n",
            "               __label__sashimi       0.00      0.00      0.00         2\n",
            "                 __label__sauce       0.82      0.57      0.68        80\n",
            "            __label__sauerkraut       0.80      0.67      0.73         6\n",
            "              __label__sausages       0.67      0.67      0.67         9\n",
            "              __label__sauteing       0.00      0.00      0.00         9\n",
            "              __label__scallops       1.00      0.25      0.40         4\n",
            "               __label__science       0.00      0.00      0.00         0\n",
            "      __label__scottish-cuisine       0.00      0.00      0.00         1\n",
            "        __label__scrambled-eggs       1.00      1.00      1.00         1\n",
            "               __label__seafood       0.00      0.00      0.00        12\n",
            "               __label__searing       0.00      0.00      0.00         0\n",
            "              __label__seasonal       0.00      0.00      0.00         0\n",
            "             __label__seasoning       0.00      0.00      0.00        14\n",
            "        __label__seasoning-pans       0.75      0.60      0.67         5\n",
            "                 __label__seeds       0.00      0.00      0.00         7\n",
            "                __label__seitan       0.00      0.00      0.00         0\n",
            "            __label__separating       0.00      0.00      0.00         0\n",
            "       __label__serbian-cuisine       0.00      0.00      0.00         2\n",
            "               __label__serving       1.00      0.33      0.50         3\n",
            "    __label__serving-suggestion       0.00      0.00      0.00         2\n",
            "              __label__shallots       0.00      0.00      0.00         0\n",
            "            __label__sharpening       0.00      0.00      0.00         0\n",
            "             __label__shellfish       0.00      0.00      0.00         5\n",
            "              __label__shopping       0.00      0.00      0.00        10\n",
            "             __label__shortcuts       0.00      0.00      0.00         0\n",
            "            __label__shortening       0.00      0.00      0.00         4\n",
            "                __label__shrimp       1.00      0.50      0.67         6\n",
            "               __label__sifting       0.00      0.00      0.00         2\n",
            "                __label__silver       0.00      0.00      0.00         0\n",
            "               __label__skewers       0.00      0.00      0.00         1\n",
            "               __label__skillet       0.00      0.00      0.00         2\n",
            "                  __label__skin       0.00      0.00      0.00         5\n",
            "          __label__slow-cooking       0.57      0.39      0.46        31\n",
            "                 __label__smell       0.67      0.25      0.36         8\n",
            "          __label__smoke-flavor       0.00      0.00      0.00         1\n",
            "               __label__smoking       0.83      0.36      0.50        14\n",
            "              __label__smoothie       0.00      0.00      0.00         1\n",
            "                __label__snacks       0.00      0.00      0.00         1\n",
            "                 __label__snail       0.00      0.00      0.00         1\n",
            "               __label__soaking       0.00      0.00      0.00         2\n",
            "                  __label__soda       0.00      0.00      0.00         6\n",
            "                __label__sodium       0.00      0.00      0.00         1\n",
            "              __label__software       0.00      0.00      0.00         2\n",
            "                __label__sorbet       1.00      0.25      0.40         4\n",
            "               __label__souffle       1.00      0.50      0.67         2\n",
            "                  __label__soup       0.76      0.57      0.65        54\n",
            "            __label__sour-cream       1.00      0.50      0.67         2\n",
            "             __label__sourdough       0.88      0.64      0.74        22\n",
            "     __label__sourdough-starter       0.00      0.00      0.00         5\n",
            "             __label__sous-vide       0.85      0.81      0.83        21\n",
            "                   __label__soy       0.40      0.33      0.36         6\n",
            "               __label__soymilk       0.67      0.40      0.50         5\n",
            "             __label__spaghetti       0.50      0.38      0.43         8\n",
            "       __label__spanish-cuisine       0.33      0.17      0.22         6\n",
            "        __label__spherification       0.00      0.00      0.00         3\n",
            "                __label__spices       0.81      0.30      0.43        44\n",
            "             __label__spicy-hot       0.67      0.33      0.44        12\n",
            "               __label__spinach       0.75      0.50      0.60         6\n",
            "              __label__spoilage       0.00      0.00      0.00         8\n",
            "           __label__sponge-cake       0.67      0.50      0.57         4\n",
            "             __label__sprinkles       0.00      0.00      0.00         1\n",
            "             __label__sprouting       0.00      0.00      0.00         1\n",
            "                __label__squash       0.83      0.83      0.83         6\n",
            "                 __label__squid       0.00      0.00      0.00         0\n",
            "       __label__stainless-steel       0.00      0.00      0.00         5\n",
            "           __label__stand-mixer       1.00      0.67      0.80         3\n",
            "                __label__starch       0.00      0.00      0.00         4\n",
            "               __label__starter       0.00      0.00      0.00         9\n",
            "                 __label__steak       0.89      0.60      0.71        42\n",
            "       __label__steamed-pudding       0.00      0.00      0.00         1\n",
            "              __label__steaming       1.00      0.17      0.29        12\n",
            "                 __label__stews       1.00      0.10      0.18        10\n",
            "           __label__sticky-rice       0.00      0.00      0.00         2\n",
            "              __label__stir-fry       1.00      0.29      0.44         7\n",
            "                 __label__stock       0.67      0.50      0.57        20\n",
            "             __label__stoneware       0.00      0.00      0.00         3\n",
            "               __label__storage       0.00      0.00      0.00        27\n",
            "      __label__storage-lifetime       0.56      0.15      0.24        65\n",
            "        __label__storage-method       0.54      0.22      0.31       102\n",
            "                 __label__stove       0.43      0.19      0.26        16\n",
            "             __label__straining       0.00      0.00      0.00         0\n",
            "          __label__strawberries       0.75      1.00      0.86         3\n",
            "              __label__stuffing       0.00      0.00      0.00         2\n",
            "         __label__substitutions       0.65      0.44      0.53       169\n",
            "                 __label__sugar       0.73      0.46      0.57        41\n",
            "            __label__sugar-free       0.00      0.00      0.00         1\n",
            "             __label__sunchokes       0.00      0.00      0.00         1\n",
            "                 __label__sushi       1.00      0.62      0.77        16\n",
            "        __label__sweet-potatoes       0.00      0.00      0.00         4\n",
            "            __label__swiss-roll       0.00      0.00      0.00         0\n",
            "                 __label__syrup       0.50      0.08      0.13        13\n",
            "                 __label__taffy       0.00      0.00      0.00         0\n",
            "                __label__tahini       0.00      0.00      0.00         1\n",
            "               __label__tamales       0.00      0.00      0.00         3\n",
            "              __label__tamarind       0.00      0.00      0.00         1\n",
            "                  __label__tart       0.00      0.00      0.00         1\n",
            "               __label__tartare       0.00      0.00      0.00         0\n",
            "               __label__tasting       0.00      0.00      0.00         1\n",
            "                   __label__tea       0.97      0.78      0.87        37\n",
            "                __label__teflon       0.00      0.00      0.00         2\n",
            "           __label__temperature       0.68      0.23      0.34        57\n",
            "             __label__tempering       0.00      0.00      0.00         2\n",
            "           __label__tenderizing       1.00      0.25      0.40         4\n",
            "               __label__texture       0.00      0.00      0.00        20\n",
            "                  __label__thai       0.00      0.00      0.00         1\n",
            "          __label__thai-cuisine       0.50      0.40      0.44         5\n",
            "          __label__thanksgiving       0.00      0.00      0.00         3\n",
            "               __label__thawing       0.00      0.00      0.00         6\n",
            "           __label__thermometer       1.00      0.50      0.67         6\n",
            "            __label__thickening       0.00      0.00      0.00        16\n",
            "             __label__thickness       0.00      0.00      0.00         1\n",
            "               __label__tilapia       0.00      0.00      0.00         0\n",
            "                __label__timing       0.00      0.00      0.00         5\n",
            "               __label__toaster       0.00      0.00      0.00         2\n",
            "              __label__toasting       0.00      0.00      0.00         2\n",
            "                __label__toffee       0.00      0.00      0.00         1\n",
            "                  __label__tofu       1.00      0.77      0.87        13\n",
            "              __label__tomatoes       0.80      0.62      0.70        32\n",
            "              __label__tortilla       0.00      0.00      0.00         6\n",
            "        __label__tortilla-chips       0.00      0.00      0.00         1\n",
            "           __label__traditional       0.00      0.00      0.00         2\n",
            "              __label__truffles       0.00      0.00      0.00         2\n",
            "               __label__tumeric       0.00      0.00      0.00         1\n",
            "                  __label__tuna       1.00      0.67      0.80         3\n",
            "                __label__turkey       0.92      0.69      0.79        16\n",
            "       __label__turkish-cuisine       0.00      0.00      0.00         3\n",
            "              __label__tzatziki       0.00      0.00      0.00         1\n",
            "                   __label__uht       0.00      0.00      0.00         3\n",
            "              __label__untagged       0.00      0.00      0.00         1\n",
            "              __label__utensils       0.00      0.00      0.00        13\n",
            "                __label__vacuum       0.25      0.25      0.25         4\n",
            "               __label__vanilla       0.67      0.67      0.67         9\n",
            "                  __label__veal       0.00      0.00      0.00         6\n",
            "                 __label__vegan       0.67      0.14      0.24        14\n",
            "            __label__vegetables       0.56      0.28      0.38        64\n",
            "            __label__vegetarian       0.86      0.32      0.46        19\n",
            "               __label__venison       0.00      0.00      0.00         2\n",
            "    __label__vietnamese-cuisine       0.00      0.00      0.00         3\n",
            "               __label__vinegar       0.70      0.44      0.54        16\n",
            "    __label__vital-wheat-gluten       0.00      0.00      0.00         2\n",
            "              __label__vitamins       0.00      0.00      0.00         2\n",
            "            __label__vocabulary       0.00      0.00      0.00         0\n",
            "                 __label__vodka       0.00      0.00      0.00         6\n",
            "                __label__waffle       1.00      0.67      0.80         3\n",
            "                __label__wasabi       0.00      0.00      0.00         0\n",
            "                 __label__water       0.50      0.10      0.16        21\n",
            "            __label__watermelon       0.00      0.00      0.00         3\n",
            "              __label__websites       0.00      0.00      0.00         0\n",
            "                 __label__wheat       1.00      0.12      0.22         8\n",
            "         __label__whipped-cream       0.80      0.50      0.62         8\n",
            "               __label__whipper       0.75      0.50      0.60         6\n",
            "               __label__whiskey       0.00      0.00      0.00         3\n",
            "                  __label__wine       0.71      0.62      0.67        16\n",
            "                   __label__wok       0.57      0.50      0.53         8\n",
            "                  __label__wood       0.00      0.00      0.00         1\n",
            "                 __label__yeast       0.88      0.48      0.62        29\n",
            "                __label__yogurt       0.89      0.64      0.74        25\n",
            "                  __label__yolk       0.00      0.00      0.00         0\n",
            "    __label__yorkshire-puddings       0.00      0.00      0.00         3\n",
            "              __label__zucchini       1.00      0.67      0.80         3\n",
            "\n",
            "                      micro avg       0.70      0.31      0.43      7081\n",
            "                      macro avg       0.28      0.16      0.19      7081\n",
            "                   weighted avg       0.55      0.31      0.38      7081\n",
            "                    samples avg       0.53      0.35      0.39      7081\n",
            "\n"
          ],
          "name": "stdout"
        },
        {
          "output_type": "stream",
          "text": [
            "/usr/local/lib/python3.6/dist-packages/sklearn/metrics/classification.py:1143: UndefinedMetricWarning: Precision and F-score are ill-defined and being set to 0.0 in labels with no predicted samples.\n",
            "  'precision', 'predicted', average, warn_for)\n",
            "/usr/local/lib/python3.6/dist-packages/sklearn/metrics/classification.py:1145: UndefinedMetricWarning: Recall and F-score are ill-defined and being set to 0.0 in labels with no true samples.\n",
            "  'recall', 'true', average, warn_for)\n",
            "/usr/local/lib/python3.6/dist-packages/sklearn/metrics/classification.py:1143: UndefinedMetricWarning: Precision and F-score are ill-defined and being set to 0.0 in samples with no predicted labels.\n",
            "  'precision', 'predicted', average, warn_for)\n",
            "/usr/local/lib/python3.6/dist-packages/sklearn/metrics/classification.py:1145: UndefinedMetricWarning: Recall and F-score are ill-defined and being set to 0.0 in samples with no true labels.\n",
            "  'recall', 'true', average, warn_for)\n"
          ],
          "name": "stderr"
        }
      ]
    }
  ]
}