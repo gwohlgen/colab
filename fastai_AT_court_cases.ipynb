{
  "nbformat": 4,
  "nbformat_minor": 0,
  "metadata": {
    "colab": {
      "name": "fastai-AT-court-cases.ipynb",
      "version": "0.3.2",
      "provenance": [],
      "toc_visible": true,
      "include_colab_link": true
    },
    "kernelspec": {
      "name": "python3",
      "display_name": "Python 3"
    },
    "accelerator": "GPU"
  },
  "cells": [
    {
      "cell_type": "markdown",
      "metadata": {
        "id": "view-in-github",
        "colab_type": "text"
      },
      "source": [
        "<a href=\"https://colab.research.google.com/github/gwohlgen/colab/blob/master/fastai_AT_court_cases.ipynb\" target=\"_parent\"><img src=\"https://colab.research.google.com/assets/colab-badge.svg\" alt=\"Open In Colab\"/></a>"
      ]
    },
    {
      "cell_type": "markdown",
      "metadata": {
        "id": "SI5R3SNMMrUW",
        "colab_type": "text"
      },
      "source": [
        "First test of using **FastAI** with the **Austrian court cases dataset**.\n",
        "This dataset is: **single-label, multi-class, German language**.\n",
        "What is done:\n",
        "\n",
        "\n",
        "1.   Create DataBunch\n",
        "2.   Create data_lm .. data to train the language model\n",
        "3.   Finetune the AWD_LSTM with the data_lm .. this takes a long time\n",
        "4.   Train a classifier with the encoder part of the trained language model and the classification dataset\n",
        "\n",
        "\n",
        "\n",
        "\n",
        "\n",
        "\n"
      ]
    },
    {
      "cell_type": "code",
      "metadata": {
        "id": "ebvIkc1wZu_G",
        "colab_type": "code",
        "colab": {}
      },
      "source": [
        "# init\n",
        "\n",
        "%reload_ext autoreload\n",
        "%autoreload 2\n",
        "%matplotlib inline\n",
        "\n",
        "from fastai.text import *\n"
      ],
      "execution_count": 0,
      "outputs": []
    },
    {
      "cell_type": "code",
      "metadata": {
        "id": "YcT6Cj_oaGeP",
        "colab_type": "code",
        "colab": {
          "base_uri": "https://localhost:8080/",
          "height": 255
        },
        "outputId": "d0f27e79-8aa3-47af-a8f8-fa2f5da88387"
      },
      "source": [
        "# get the data\n",
        "!wget https://aic.ai.wu.ac.at/~wohlg/at_court_cases.csv.zip\n",
        "!unzip at_court_cases.csv.zip\n",
        "!ls\n",
        "!mkdir models"
      ],
      "execution_count": 2,
      "outputs": [
        {
          "output_type": "stream",
          "text": [
            "--2019-06-02 09:01:32--  https://aic.ai.wu.ac.at/~wohlg/at_court_cases.csv.zip\n",
            "Resolving aic.ai.wu.ac.at (aic.ai.wu.ac.at)... 137.208.107.25\n",
            "Connecting to aic.ai.wu.ac.at (aic.ai.wu.ac.at)|137.208.107.25|:443... connected.\n",
            "HTTP request sent, awaiting response... 200 OK\n",
            "Length: 29973287 (29M) [application/zip]\n",
            "Saving to: ‘at_court_cases.csv.zip’\n",
            "\n",
            "at_court_cases.csv. 100%[===================>]  28.58M  6.53MB/s    in 5.4s    \n",
            "\n",
            "2019-06-02 09:01:39 (5.28 MB/s) - ‘at_court_cases.csv.zip’ saved [29973287/29973287]\n",
            "\n",
            "Archive:  at_court_cases.csv.zip\n",
            "  inflating: at_court_cases.csv      \n",
            "at_court_cases.csv  at_court_cases.csv.zip  sample_data\n"
          ],
          "name": "stdout"
        }
      ]
    },
    {
      "cell_type": "code",
      "metadata": {
        "id": "XiaqOuASaGn2",
        "colab_type": "code",
        "outputId": "c1624c9d-899e-4e2c-cbed-2fa78853bdee",
        "colab": {
          "base_uri": "https://localhost:8080/",
          "height": 173
        }
      },
      "source": [
        "from pathlib import Path\n",
        "p = Path('at_court_cases.csv')\n",
        "\n",
        "df = pd.read_csv('at_court_cases.csv')\n",
        "print(df.head())\n",
        "print(df['text'][1])"
      ],
      "execution_count": 3,
      "outputs": [
        {
          "output_type": "stream",
          "text": [
            "                            label                                               text\n",
            "0            __label__strafrecht     Gericht OGH Entscheidungsdatum 13.11.2013 Ge...\n",
            "1  __label__zivilverfahrensrecht     Gericht OGH Entscheidungsdatum 10.05.2011 Ge...\n",
            "2            __label__strafrecht     Gericht OGH Entscheidungsdatum 12.08.2014 Ge...\n",
            "3  __label__zivilverfahrensrecht     Gericht OGH Entscheidungsdatum 20.12.2010 Ge...\n",
            "4            __label__strafrecht     Gericht OGH Entscheidungsdatum 14.03.2018 Ge...\n",
            "  Gericht OGH Entscheidungsdatum 10.05.2011 Geschäftszahl 4Ob67/11y Kopf Der Oberste Gerichtshof hat als Revisionsgericht durch die Senatspräsidentin Dr. Schenk als Vorsitzende und die Hofräte Dr. Vogel, Dr. Jensik, Dr. Musger und Dr. Schwarzenbacher als weitere Richter in der Rechtssache der klagenden Partei ***** Rechtsanwaltskammer, *****, vertreten durch Dr. Bertram Grass und Mag. Christoph Dorner, Rechtsanwälte in Bregenz, gegen die beklagte Partei Arbeiterkammer *****, vertreten durch Forcher-Mayr, Kantner & Ruetz Rechtsanwälte Partnerschaft in Innsbruck, wegen Unterlassung und Urteilsveröffentlichung (Streitwert 35.000 EUR), im Verfahren über die außerordentliche Revision der klagenden Partei gegen das Urteil des Oberlandesgerichts Innsbruck vom 10. März 2011, GZ 2 R 6/11s-20, mit welchem das Urteil des Landesgerichts Feldkirch vom 23. Oktober 2010, GZ 9 Cg 69/09w-13, bestätigt wurde, den Beschluss gefasst: Spruch Die Akten werden dem Berufungsgericht mit dem Auftrag übermittelt, (a) den Bewertungsausspruch dahin zu ergänzen, dass das von der Revision betroffene Teilbegehren gesondert bewertet wird, und (b) gegebenenfalls eine Entscheidung nach § 508 Abs 3 ZPO zu treffen. Text Begründung: Die klagende Rechtsanwaltskammer erhob zwei Unterlassungsbegehren: Einerseits wandte sie sich gegen die Behauptung der beklagten Landes-Arbeiterkammer, die „erste und noch immer einzige Anbieterin für Konsumentenschutz“ im betroffenen Bundesland zu sein; andererseits beanstandete sie, dass die Beklagte in den Rechtsanwaltsvorbehalt (§ 8 Abs 1 und 2 RAO) eingreife, indem sie auch Nichtmitglieder in Fragen des Konsumentenschutzes rechtlich berate und in deren Namen Schreiben an Dritte verfasse. Weiters begehrte die Klägerin die Ermächtigung zur Urteilsveröffentlichung. Das Erstgericht gab dem ersten Unterlassungsbegehren (unrichtige Alleinstellungsbehauptung) statt und ermächtigte die Klägerin insofern zur Urteilsveröffentlichung. Das zweite Unterlassungsbegehren (Eingriff in den Rechtsanwaltsvorbehalt) wies es ab. Das von beiden Seiten angerufene Berufungsgericht bestätigte diese Entscheidung. Es sprach aus, dass der Wert des Entscheidungsgegenstands 30.000 EUR übersteige und die ordentliche Revision nicht zulässig sei. Gegen diese Entscheidung richtet sich die als außerordentlich bezeichnete Revision der Klägerin, die eine stattgebende Entscheidung auch über das zweite Unterlassungsbegehren und eine entsprechende Veröffentlichungsermächtigung anstrebt. Rechtliche Beurteilung Die Akten sind dem Berufungsgericht zur Ergänzung seines Bewertungsausspruchs und zur allfälligen Entscheidung nach § 508 Abs 3 ZPO zu übermitteln. 1. Werden in einer Klage mehrere Forderungen geltend gemacht, dann bilden sie nur dann einen einheitlichen Streitgegenstand - und damit einen einheitlichen Entscheidungsgegenstand des Berufungsgerichts -, wenn die Voraussetzungen des § 55 Abs 1 JN vorliegen; sonst sind sie getrennt zu behandeln (RIS-Justiz RS0053096, RS0037838, RS0042349). 2. Ein tatsächlicher Zusammenhang liegt vor, wenn die Ansprüche aus demselben Klagesachverhalt abgeleitet werden können, wenn also das für einen Anspruch erforderliche Sachvorbringen ausreicht, um auch über den anderen Anspruch ohne ergänzendes weiteres Sachvorbringen entscheiden zu können (RIS-Justiz RS0042766). Ein rechtlicher Zusammenhang liegt etwa dann vor, wenn die Ansprüche aus demselben Vertrag oder derselben Rechtsnorm abgeleitet werden, nicht aber wenn die Ansprüche ein unterschiedliches rechtliches Schicksal haben können (17 Ob 22/10z; 4 Ob 79/10m; vgl RIS-Justiz RS0037899). Ob die Voraussetzungen für eine Zusammenrechnung gegeben sind, ist nach den Klagebehauptungen (Antragsbehauptungen) zu beurteilen (RIS-Justiz RS0042741). 3. Im vorliegenden Fall stützt sich die Klägerin auf zwei Wettbewerbsverstöße der Beklagten. Sie behauptet einerseits eine irreführende Geschäftspraktik iSd § 2 UWG (unrichtige Alleinstellungsbehauptung) und andererseits eine sonstige unlautere Handlung iSd § 1 Abs 1 Z 1 UWG (Rechtsbruch durch Eingriff in den Rechtsanwaltsvorbehalt). Daraus leitet sie zwei voneinander getrennte Unterlassungsansprüche ab. Diese sind auf unterschiedliche Sachverhalte gestützt, ein rechtlicher oder tatsächlicher Zusammenhang ist nicht erkennbar (vgl zu ähnlichen Konstellationen im Lauterkeitsrecht zuletzt 17 Ob 22/10z und 4 Ob 79/10m). Die Ansprüche sind daher nach § 55 Abs 1 JN nicht zusammenzurechnen. Damit hat das Berufungsgericht über von einander getrennte Gegenstände entschieden, die gesondert zu bewerten sind. In diese Bewertung ist jeweils der anteilige Wert des Veröffentlichungsbegehrens einzubeziehen, da dieses Begehren in sachlichem und rechtlichem Zusammenhang mit dem jeweiligen Unterlassungsanspruch steht. 4. Sollte das Berufungsgericht entscheiden, dass der Wert des Entscheidungsgegenstands beim in dritter Instanz allein strittigen (zweiten) Unterlassungsbegehren (Eingriff in den Rechtsanwaltsvorbehalt), unter Einbeziehung des anteiligen Werts des Veröffentlichungsbegehrens, 5.000 EUR nicht übersteigt, wäre die Revision jedenfalls unzulässig. Sollte es zum Ergebnis kommen, dass dieser Wert zwar 5.000 EUR, nicht aber 30.000 EUR übersteigt, wird es weiters zu prüfen haben, ob es die diesbezüglichen Ausführungen der Zulassungsbeschwerde als Antrag nach § 508 Abs 1 ZPO deutet. In diesem Fall wird es über die nachträgliche Zulassung der Revision zu entscheiden haben, sonst wird insofern ein Verbesserungsverfahren einzuleiten sein. Nur die Bewertung des Entscheidungsgegenstands mit mehr als 30.000 EUR müsste zur unmittelbaren Vorlage der außerordentlichen Revision an den Obersten Gerichtshof führen.\n",
            "\n"
          ],
          "name": "stdout"
        }
      ]
    },
    {
      "cell_type": "code",
      "metadata": {
        "id": "N649hc9dAFuU",
        "colab_type": "code",
        "colab": {
          "base_uri": "https://localhost:8080/",
          "height": 153
        },
        "outputId": "0ff57135-62c8-43a6-c366-54364844674c"
      },
      "source": [
        "!ls -ltar\n"
      ],
      "execution_count": 4,
      "outputs": [
        {
          "output_type": "stream",
          "text": [
            "total 125308\n",
            "-rw-rw-r-- 1 root root 98318395 May 12 08:59 at_court_cases.csv\n",
            "-rw-r--r-- 1 root root 29973287 May 12 09:06 at_court_cases.csv.zip\n",
            "drwxr-xr-x 1 root root     4096 May 24 16:08 sample_data\n",
            "drwxr-xr-x 1 root root     4096 May 30 16:09 .config\n",
            "drwxr-xr-x 1 root root     4096 Jun  2 08:59 ..\n",
            "drwxr-xr-x 2 root root     4096 Jun  2 09:01 models\n",
            "drwxr-xr-x 1 root root     4096 Jun  2 09:01 .\n"
          ],
          "name": "stdout"
        }
      ]
    },
    {
      "cell_type": "code",
      "metadata": {
        "id": "StMIYREXaGuh",
        "colab_type": "code",
        "colab": {}
      },
      "source": [
        "data_lm = TextDataBunch.from_csv(Path('.'), 'at_court_cases.csv')"
      ],
      "execution_count": 0,
      "outputs": []
    },
    {
      "cell_type": "code",
      "metadata": {
        "id": "QsOKlcOIaGyO",
        "colab_type": "code",
        "colab": {}
      },
      "source": [
        "data_lm.save()\n",
        "#!ls\n"
      ],
      "execution_count": 0,
      "outputs": []
    },
    {
      "cell_type": "code",
      "metadata": {
        "id": "FlEn2Tf8VVtF",
        "colab_type": "code",
        "outputId": "42f1c2fc-6625-4db3-89c9-1e161862cf50",
        "colab": {
          "base_uri": "https://localhost:8080/",
          "height": 289
        }
      },
      "source": [
        "path = Path('.')\n",
        "data = TextClasDataBunch.from_csv(path, 'at_court_cases.csv')\n",
        "data.show_batch()"
      ],
      "execution_count": 7,
      "outputs": [
        {
          "output_type": "display_data",
          "data": {
            "text/html": [
              "<table border=\"1\" class=\"dataframe\">\n",
              "  <thead>\n",
              "    <tr style=\"text-align: right;\">\n",
              "      <th>text</th>\n",
              "      <th>target</th>\n",
              "    </tr>\n",
              "  </thead>\n",
              "  <tbody>\n",
              "    <tr>\n",
              "      <td>xxbos xxmaj gericht xxup ogh xxmaj entscheidungsdatum xxunk xxmaj geschäftszahl 14os143 / 09z xxmaj kopf xxmaj der xxmaj oberste xxmaj gerichtshof hat am 23 .   xxmaj dezember   2010 durch den xxmaj hofrat des xxmaj obersten xxmaj gerichtshofs xxmaj dr.   xxmaj lässig als xxmaj vorsitzenden , die xxmaj hofrätin des xxmaj obersten xxmaj gerichtshofs xxmaj mag .   xxmaj hetlinger , den xxmaj hofrat des xxmaj obersten xxmaj</td>\n",
              "      <td>__label__strafrecht</td>\n",
              "    </tr>\n",
              "    <tr>\n",
              "      <td>xxbos xxmaj gericht xxup ogh xxmaj entscheidungsdatum 14.01.2015 xxmaj geschäftszahl 15os52 / 14 g ( 15os53 / 14d ) xxmaj kopf xxmaj der xxmaj oberste xxmaj gerichtshof hat am 14 .   xxmaj jänner   2015 durch den xxmaj senatspräsidenten des xxmaj obersten xxmaj gerichtshofs xxmaj prof .   xxmaj dr.   xxmaj danek als xxmaj vorsitzenden , den xxmaj hofrat des xxmaj obersten xxmaj gerichtshofs xxmaj mag .</td>\n",
              "      <td>__label__strafrecht</td>\n",
              "    </tr>\n",
              "    <tr>\n",
              "      <td>xxbos xxmaj gericht xxup ogh xxmaj entscheidungsdatum xxunk xxmaj geschäftszahl xxunk / 10 g xxmaj kopf xxmaj der xxmaj oberste xxmaj gerichtshof hat als xxmaj revisionsgericht durch die xxmaj senatspräsidentin des xxmaj obersten xxmaj gerichtshofs xxmaj dr.   xxmaj huber als xxmaj vorsitzende und die xxmaj hofräte des xxmaj obersten xxmaj gerichtshofs xxmaj dr.   xxmaj schaumüller , xxmaj dr.   xxmaj hoch , xxmaj dr.   xxmaj kalivoda und</td>\n",
              "      <td>__label__konsumentenschutz</td>\n",
              "    </tr>\n",
              "    <tr>\n",
              "      <td>xxbos xxmaj gericht xxup ogh xxmaj entscheidungsdatum 06.12.2016 xxmaj geschäftszahl 17os14 / 16 m xxmaj kopf xxmaj der xxmaj oberste xxmaj gerichtshof hat am 6 .   xxmaj dezember   2016 durch den xxmaj präsidenten des xxmaj obersten xxmaj gerichtshofs xxmaj hon .- xxmaj prof .   xxmaj dr.   xxmaj ratz als xxmaj vorsitzenden , die xxmaj senatspräsidenten des xxmaj obersten xxmaj gerichtshofs xxmaj prof .   xxmaj dr.</td>\n",
              "      <td>__label__strafrecht</td>\n",
              "    </tr>\n",
              "    <tr>\n",
              "      <td>xxbos xxmaj gericht xxup ogh xxmaj entscheidungsdatum 19.03.2015 xxmaj geschäftszahl xxunk / 14b xxmaj kopf xxmaj der xxmaj oberste xxmaj gerichtshof hat durch den xxmaj senatspräsidenten xxmaj hon .- xxmaj prof .   xxmaj dr.   xxmaj sailer als xxmaj vorsitzenden sowie die xxmaj hofräte xxmaj univ .- xxmaj prof .   xxmaj dr.   xxmaj bydlinski , xxmaj mag .   xxmaj wurzer , xxmaj mag .   xxmaj</td>\n",
              "      <td>__label__zivilverfahrensrecht</td>\n",
              "    </tr>\n",
              "  </tbody>\n",
              "</table>"
            ],
            "text/plain": [
              "<IPython.core.display.HTML object>"
            ]
          },
          "metadata": {
            "tags": []
          }
        }
      ]
    },
    {
      "cell_type": "code",
      "metadata": {
        "id": "tB1OBcs8VV97",
        "colab_type": "code",
        "outputId": "de17041a-dd02-4f97-c0d0-709910585802",
        "colab": {
          "base_uri": "https://localhost:8080/",
          "height": 3417
        }
      },
      "source": [
        "data.vocab.itos[:200]"
      ],
      "execution_count": 8,
      "outputs": [
        {
          "output_type": "execute_result",
          "data": {
            "text/plain": [
              "['xxunk',\n",
              " 'xxpad',\n",
              " 'xxbos',\n",
              " 'xxeos',\n",
              " 'xxfld',\n",
              " 'xxmaj',\n",
              " 'xxup',\n",
              " 'xxrep',\n",
              " 'xxwrep',\n",
              " '\\xa0',\n",
              " ',',\n",
              " '.',\n",
              " 'der',\n",
              " 'die',\n",
              " 'des',\n",
              " 'und',\n",
              " ')',\n",
              " '(',\n",
              " 'in',\n",
              " '§',\n",
              " '/',\n",
              " '-',\n",
              " '5',\n",
              " 'den',\n",
              " 'nicht',\n",
              " 'zu',\n",
              " 'i',\n",
              " 'm',\n",
              " '*',\n",
              " 'das',\n",
              " 'abs',\n",
              " '1',\n",
              " 'von',\n",
              " 'dem',\n",
              " 'auf',\n",
              " 'mit',\n",
              " 'nach',\n",
              " 'als',\n",
              " ';',\n",
              " 'ist',\n",
              " 'für',\n",
              " 'eine',\n",
              " 'dass',\n",
              " 'auch',\n",
              " 'durch',\n",
              " ':',\n",
              " '2',\n",
              " 'einer',\n",
              " 'vom',\n",
              " 'zur',\n",
              " 'sich',\n",
              " '„',\n",
              " '“',\n",
              " 'z',\n",
              " 'dr.',\n",
              " 'ein',\n",
              " 'über',\n",
              " 'aus',\n",
              " 'gegen',\n",
              " 'an',\n",
              " 'sei',\n",
              " 'oder',\n",
              " '3',\n",
              " 'stpo',\n",
              " 'hat',\n",
              " 'ob',\n",
              " 'bei',\n",
              " 'es',\n",
              " 'justiz',\n",
              " 'werden',\n",
              " 'ris',\n",
              " 'sie',\n",
              " 'er',\n",
              " 'eines',\n",
              " 'am',\n",
              " '4',\n",
              " 'nur',\n",
              " 'wird',\n",
              " 'fall',\n",
              " 's',\n",
              " 'ogh',\n",
              " 'stgb',\n",
              " 'wurde',\n",
              " 'zum',\n",
              " 'rz',\n",
              " 'einen',\n",
              " 'vgl',\n",
              " 'beklagten',\n",
              " 'sowie',\n",
              " 'partei',\n",
              " 'obersten',\n",
              " 'einem',\n",
              " 'angeklagten',\n",
              " 'entscheidung',\n",
              " 'diese',\n",
              " 'habe',\n",
              " 'wenn',\n",
              " '\\xa0 ',\n",
              " '10',\n",
              " 'keine',\n",
              " 'urteil',\n",
              " 'unter',\n",
              " 'gerichtshofs',\n",
              " '9',\n",
              " 'daher',\n",
              " 'wegen',\n",
              " 'vor',\n",
              " '6',\n",
              " 'klägerin',\n",
              " 'dieser',\n",
              " 'war',\n",
              " 'mag',\n",
              " 'eur',\n",
              " 'on',\n",
              " 'kläger',\n",
              " 'beklagte',\n",
              " ']',\n",
              " 'aber',\n",
              " '[',\n",
              " 'beschluss',\n",
              " 'us',\n",
              " 'gemäß',\n",
              " 'sind',\n",
              " 'gerichtshof',\n",
              " 'wie',\n",
              " 'bis',\n",
              " 'gericht',\n",
              " 'weil',\n",
              " 'a',\n",
              " 'wien',\n",
              " '11',\n",
              " '12',\n",
              " '7',\n",
              " 'beurteilung',\n",
              " 'kann',\n",
              " 'revision',\n",
              " 'nichtigkeitsbeschwerde',\n",
              " 'te',\n",
              " '8',\n",
              " 'zpo',\n",
              " 'b',\n",
              " 'um',\n",
              " 'berufung',\n",
              " 'erstgericht',\n",
              " 'oberste',\n",
              " 'f',\n",
              " 'noch',\n",
              " 'gz',\n",
              " 'bereits',\n",
              " 'berufungsgericht',\n",
              " '15',\n",
              " 'geschäftszahl',\n",
              " 'entscheidungsdatum',\n",
              " '\\n ',\n",
              " 'art',\n",
              " '2011',\n",
              " 'seiner',\n",
              " 'diesem',\n",
              " 'rechtliche',\n",
              " 'sein',\n",
              " 'ohne',\n",
              " '2010',\n",
              " 'hier',\n",
              " 'verfahren',\n",
              " 'weitere',\n",
              " 'zweiter',\n",
              " 'damit',\n",
              " 'landesgerichts',\n",
              " 'worden',\n",
              " 'euro',\n",
              " '14',\n",
              " 'ab',\n",
              " '281',\n",
              " 'feststellungen',\n",
              " 'ihm',\n",
              " '2012',\n",
              " 'spruch',\n",
              " '13',\n",
              " 'haben',\n",
              " '–',\n",
              " 'kopf',\n",
              " 'sondern',\n",
              " 'g',\n",
              " 'vertreten',\n",
              " 'folge',\n",
              " 'lit',\n",
              " 'recht',\n",
              " 'gmbh',\n",
              " 'ihr',\n",
              " 'vorsitzenden',\n",
              " 'dann',\n",
              " 'erster',\n",
              " 'satz',\n",
              " '2009',\n",
              " '2013',\n",
              " 'deren',\n",
              " 'begründung',\n",
              " 'ihrer',\n",
              " 'dieses',\n",
              " 'zwischen']"
            ]
          },
          "metadata": {
            "tags": []
          },
          "execution_count": 8
        }
      ]
    },
    {
      "cell_type": "code",
      "metadata": {
        "id": "__POeKuUVWA5",
        "colab_type": "code",
        "outputId": "d7629609-6fe5-4e13-e154-e40ca0d00885",
        "colab": {
          "base_uri": "https://localhost:8080/",
          "height": 71
        }
      },
      "source": [
        "data.train_ds[0][0]"
      ],
      "execution_count": 9,
      "outputs": [
        {
          "output_type": "execute_result",
          "data": {
            "text/plain": [
              "Text xxbos xxmaj gericht xxup ogh xxmaj entscheidungsdatum 27.02.2012 xxmaj geschäftszahl 9oba158 / 11 t xxmaj kopf xxmaj der xxmaj oberste xxmaj gerichtshof hat als xxmaj revisionsgericht in xxmaj arbeits- und xxmaj sozialrechtssachen durch den xxmaj vizepräsidenten des xxmaj obersten xxmaj gerichtshofs xxmaj dr.   xxmaj rohrer als xxmaj vorsitzenden und die xxmaj hofräte des xxmaj obersten xxmaj gerichtshofs xxmaj dr.   xxmaj hopf und xxmaj hon .- xxmaj prof .   xxmaj dr.   xxmaj kuras sowie die fachkundigen xxmaj laienrichter xxup kr   xxmaj mag .   xxmaj paul xxmaj kunsky und xxmaj dr.   xxmaj klaus xxmaj mayr als weitere xxmaj richter in der xxmaj arbeitsrechtssache der klagenden xxmaj partei xxmaj josef z xxrep 5 * , vertreten durch xxmaj klein , xxmaj wuntschek & xxmaj partner xxmaj rechtsanwälte gmbh in xxmaj graz , wider die beklagte xxmaj partei h xxrep 5 * , vertreten durch xxmaj dr.   xxmaj thomas xxmaj stampfer , xxmaj dr.   xxmaj christoph xxmaj orgler xxmaj rechtsanwälte in xxmaj graz , wegen xxunk   xxup eur   brutto   sa , über die xxmaj revision der klagenden xxmaj partei ( xxmaj revisionsinteresse xxunk   xxup eur   sa ) gegen das xxmaj urteil des xxmaj oberlandesgerichts xxmaj graz als xxmaj berufungsgericht in xxmaj arbeits- und xxmaj sozialrechtssachen vom 6 .   xxmaj oktober   2011 , xxup gz   6   xxmaj ra   61 / xxunk , mit dem infolge xxmaj berufung der klagenden xxmaj parteien das xxmaj urteil des xxmaj landesgerichts für xxmaj zivilrechtssachen xxmaj graz als xxmaj arbeits- und xxmaj sozialgericht vom 20 .   xxmaj mai   2011 , xxup gz   33   xxmaj cga   47 / xxunk , bestätigt wurde , in nichtöffentlicher xxmaj sitzung den xxmaj beschluss gefasst : xxmaj spruch xxmaj die xxmaj revision der klagenden xxmaj partei wird zurückgewiesen . xxmaj die klagende xxmaj partei ist schuldig , der beklagten xxmaj partei die mit 744,43   xxup eur ( darin enthalten 124,07   xxup eur an ust ) bestimmten xxmaj kosten der xxmaj revisionsbeantwortung binnen 14   xxmaj tagen zu ersetzen . xxmaj text xxmaj begründung : xxmaj der xxmaj kläger war von 1 .   9 .   1969 bis 29 .   2 .   2000 bei der xxmaj beklagten als xxmaj kraftfahrer beschäftigt . xxmaj auf das xxmaj arbeitsverhältnis der xxmaj streitteile war der xxmaj kollektivvertrag ( xxup kv ) für die xxmaj dienstnehmer der xxmaj grazer xxmaj verkehrsbetriebe anzuwenden . xxmaj danach hat der xxmaj kläger xxmaj anspruch auf eine xxmaj zusatzpension auf deren xxmaj höhe die gesetzliche xxmaj pension anzurechnen ist . xxmaj strittig ist i m xxmaj revisionsverfahren nur noch die xxmaj berechnung dieser anzurechnenden xxmaj pension . xxmaj mit seiner xxmaj klage begehrt der xxmaj kläger nach mehrfacher xxmaj ausdehnung zusammengefasst die xxmaj differenz zwischen der ihm von der xxmaj beklagten tatsächlich monatlich bezahlten xxmaj zusatzpension von xxunk   xxup eur 14 mal jährlich und der seiner xxmaj berechnung nach zustehenden xxmaj zusatzpension . xxmaj die xxmaj beklagte wendet zusammengefasst ein , dass entgegen dem xxmaj ansatz der xxmaj berechnung des xxmaj klägers nur die bei der xxmaj beklagten erworbenen xxmaj beitragsmonate zu berücksichtigen sind . xxmaj die von ihr tatsächlich bezahlte xxmaj zuschusspension sei zutreffend errechnet . xxmaj das xxmaj erstgericht gab dem xxmaj klagebegehren teilweise i m xxmaj ausmaß von xxunk   xxup eur   sa statt , wies es aber i m xxmaj übrigen , also xxunk   xxup eur ab . xxmaj es legte der anzurechnenden xxmaj sozialversicherungspension die bei der xxmaj beklagten erworbenen 366   xxmaj beitragsmonate zugrunde . xxmaj es errechnete daraus unter xxmaj zugrundelegung der xxunk xxup asvg - xxmaj novelle einen xxmaj steigerungsprozentsatz von xxunk   % und eine anzurechnende xxup asvg - xxmaj pension von xxunk   xxup eur monatlich ( xxunk ) . xxmaj diese sei höher als die nach dem xxup kv berechnete xxmaj leistung , sodass nur der von der xxmaj beklagten zuerkannte pauschale xxmaj ergänzungsbetrag zustehe . xxmaj das xxmaj berufungsgericht bestätigte die xxmaj abweisung . xxmaj es hielt der ausschließlich gegen die xxmaj berechnung der anzurechnenden xxup asvg - xxmaj pension gerichteten xxmaj berufung entgegen , dass das xxmaj erstgericht diese richtig berechnet habe . xxmaj es sei davon auszugehen , dass der xxup kv zeitlich kongruente xxmaj leistungen gegenüber stellen wolle . xxmaj die xxmaj dauer des xxmaj dienstverhältnisses sei sowohl bei der xxmaj berechnung des xxmaj ruhegeldes nach dem xxup kv als auch jener der anzurechnenden xxup asvg - xxmaj leistung zugrunde zu legen . xxmaj da in diesem xxmaj dienstverhältnis nur 366   xxmaj beitragsmonate erworben wurden , komme die xxmaj begrenzung des §   261 xxmaj abs   6 xxup asvg ( xxmaj steigerungsbetrag höchstens 80   % ) ohnehin nicht zur xxmaj anwendung . xxmaj die anzurechnende xxup asvg - xxmaj leistung sei zum xxmaj pensionsstichtag 1 .   3 .   2000 zu errechnen . xxmaj dabei sei nach §   563 xxmaj abs   19 xxup asvg auch ein xxmaj günstigkeitsvergleich zwischen der xxunk und der xxunk xxup asvg - xxmaj novelle vorzunehmen . i m xxmaj hinblick auf die den xxmaj einzelfall übersteigende xxmaj bedeutung der xxmaj frage der xxmaj auslegung des xxmaj kollektivvertrags zur xxmaj berechnung des xxmaj xxunk erklärte das xxmaj berufungsgericht die ordentliche xxmaj revision als zulässig . xxmaj gegen dieses xxmaj urteil richtet sich die xxmaj revision des xxmaj klägers aus dem xxmaj revisionsgrund der unrichtigen rechtlichen xxmaj beurteilung xxmaj die xxmaj beklagte beantragt , die xxmaj revision als unzulässig zurückzuweisen , hilfsweise , ihr nicht xxmaj folge zu geben . xxmaj rechtliche xxmaj beurteilung xxmaj die gegen dieses xxmaj urteil erhobene xxmaj revision des xxmaj klägers ist entgegen dem den xxmaj obersten xxmaj gerichtshof nicht bindenden xxmaj ausspruch des xxmaj berufungsgerichts ( §   508a xxmaj abs   1 xxup zpo ) mangels xxmaj darstellung einer erheblichen xxmaj rechtsfrage isd §   502 xxmaj abs   1 xxup zpo nicht zulässig . xxmaj gemäß §   510 xxmaj abs   3 xxup zpo kann sich der xxmaj oberste xxmaj gerichtshof auf eine kurze xxmaj ausführung der xxmaj zurückweisungsgründe beschränken . xxmaj allgemein ist bei der xxmaj auslegung eines xxmaj kollektivvertrags der xxmaj wortsinn , aber auch die sich daraus ergebende xxmaj absicht der xxmaj kollektivvertragsparteien zu berücksichtigen ( xxup ris - xxmaj justiz xxup rs0010089 mwn ) . xxmaj den xxmaj kollektivvertragsparteien kann grundsätzlich unterstellt werden , dass sie eine vernünftige , zweckentsprechend praktisch durchführbare xxmaj regelung treffen wollten , die einen gerechten xxmaj ausgleich der sozialen und wirtschaftlichen xxmaj interessen herbeiführen soll , sodass jene xxmaj auslegung zu wählen ist , die diesen xxmaj anforderungen am ehesten entspricht ( xxup ris - xxmaj justiz xxup rs0008828 mwn , ebenso xxup ris - xxmaj justiz xxup rs0008897 mwn ) .                xxmaj die xxmaj pensionseinrichtung der xxmaj beklagten hat gemäß §   208 xxup kv den xxmaj zweck , für den xxmaj fall des xxmaj alters , der xxmaj invalidität ( xxmaj berufsunfähigkeit ) und des xxmaj todes nach xxmaj maßgabe der xxmaj bestimmungen der § §   220 bis 239 xxup kv xxmaj leistungen zu gewähren , wenn und solange gleichartige xxmaj leistungen von den xxmaj trägern der gesetzlichen xxmaj sozialversicherung nach den darüber bestehenden xxmaj vorschriften nicht oder nicht in demselben xxmaj ausmaß gebühren . xxmaj die xxmaj argumentation des xxmaj klägers läuft nun darauf hinaus , dass unabhängig davon , wo die xxmaj versicherungszeiten erworben wurden , diese bei der xxmaj berechnung der anzurechnenden xxup asvg - xxmaj pension zu berücksichtigen seien , woraus sich i m xxmaj hinblick auf die xxmaj beschränkung mit 80   % ( §   261 xxmaj abs   6 xxup asvg ) eine eingeschränkte xxmaj berücksichtigung der xxmaj versicherungsmonate ergebe . xxmaj der anzurechnende xxmaj betrag der so errechneten xxup asvg - xxmaj leistung sei nur aliquot i m xxmaj verhältnis der bei der xxmaj beklagten erworbenen xxmaj zeiten anzurechnen . §   213 xxup kv lautet auszugsweise ( xxmaj xxunk durch den xxmaj senat ) : „ [ ... ] ( 3 )   xxmaj die xxmaj pensionseinrichtung ergänzt die xxmaj leistungen der gesetzlichen xxmaj sozialversicherung für den gleichen xxmaj zeitraum und die gleiche xxmaj art der xxmaj leistung bis zu der in   § §   220 bis 239 festgesetzten xxmaj höhe . [ ... ] ( 4 )   [ ... ] ( 5 )   xxmaj gemäß xxmaj abs   ( 3 ) und ( 4 ) werden daher die xxmaj leistungen der xxmaj pensionseinrichtung   nach § §   220 bis 239 gekürzt um a )   jene xxmaj leistungen , die sich jeweils bei xxmaj anwendung der xxmaj vorschriften der gesetzlichen xxmaj sozialversicherung einschließlich der § §   227 bis 299 xxup asvg , und unter der xxmaj annahme der xxmaj erfüllung aller gesetzlichen xxmaj voraussetzungen für deren xxmaj zuerkennung ergeben würden , wenn bei der xxmaj berechnung aa )   der xxmaj zeitraum einschließlich der neutralen xxmaj zeiten nach dem xxup asvg zugrundegelegt wird , der zwischen dem xxmaj tag des xxmaj eintritts in den xxmaj dienst der xxmaj verkehrsbetriebe und dem xxmaj tag der xxmaj beendigung des xxmaj dienstverhältnisses liegt , und bb ) [ ... ] “ xxmaj damit haben die xxmaj parteien des xxmaj kollektivvertrags schon bei einer wörtlichen xxmaj auslegung klar auf die jeweils konkret bei der xxmaj beklagten erworbenen xxmaj dienstzeiten abgestellt . xxmaj diese steht aber dem xxmaj ansatz der xxmaj klägers , der seiner xxmaj argumentation auch die weiteren xxmaj dienstzeiten zugrundelegt entgegen und wurde auch bereits in der xxmaj entscheidung des xxmaj obersten xxmaj gerichtshofs zu 9   oba   82 / 11s so gesehen ( vgl i m xxmaj ergebnis auch schon 9   oba   129 / 08y ) . xxmaj soweit der xxmaj kläger der xxmaj berechnung nach dem xxup asvg nur die xxmaj fassung in der xxunk xxup asvg - xxmaj novelle xxunk will , übergeht er die xxmaj argumentation des xxmaj berufungsgerichts , das auf §   563 xxmaj abs   19 xxup asvg verwiesen hat , der einen xxmaj günstigkeitsvergleich vorsieht . xxmaj warum diese xxmaj übergangsbestimmung nicht anzuwenden sein sollte , führt der xxmaj kläger , dessen xxmaj berechnung für die anzurechnende xxup asvg - xxmaj leistung diesen xxmaj günstigkeitsvergleich nicht vornimmt , nicht aus . xxmaj die xxmaj revision war daher zurückzuweisen . xxmaj die xxmaj kostenentscheidung gründet sich auf §   2 xxup asgg , § §   50 und 41 xxup zpo . xxmaj die xxmaj beklagte hat auf die xxmaj unzulässigkeit der xxmaj revision hingewiesen . \n",
              " "
            ]
          },
          "metadata": {
            "tags": []
          },
          "execution_count": 9
        }
      ]
    },
    {
      "cell_type": "code",
      "metadata": {
        "id": "LL7smcIxVWEE",
        "colab_type": "code",
        "outputId": "ac70aefc-7931-4700-c8e7-49cb37e26e50",
        "colab": {
          "base_uri": "https://localhost:8080/",
          "height": 34
        }
      },
      "source": [
        "data.train_ds[0][0].data[:10]\n"
      ],
      "execution_count": 0,
      "outputs": [
        {
          "output_type": "execute_result",
          "data": {
            "text/plain": [
              "array([    2,     5,   126,     6,    80,     5,   153, 14691,     5,   152])"
            ]
          },
          "metadata": {
            "tags": []
          },
          "execution_count": 11
        }
      ]
    },
    {
      "cell_type": "code",
      "metadata": {
        "id": "AAitbiDAVWHK",
        "colab_type": "code",
        "colab": {}
      },
      "source": [
        "#data = (TextList.from_csv(path, 'at_court_cases.csv', cols='text')\n",
        "#                .split_from_df(col=2)\n",
        "#                .label_from_df(cols=0)\n",
        "#                .databunch())"
      ],
      "execution_count": 0,
      "outputs": []
    },
    {
      "cell_type": "markdown",
      "metadata": {
        "id": "XvxqaQTRXYGA",
        "colab_type": "text"
      },
      "source": [
        "# I think everything above was just to play around -- we can just start here!!\n"
      ]
    },
    {
      "cell_type": "code",
      "metadata": {
        "id": "1B8ZK6VYa5rv",
        "colab_type": "code",
        "colab": {}
      },
      "source": [
        "import pandas as pd"
      ],
      "execution_count": 0,
      "outputs": []
    },
    {
      "cell_type": "code",
      "metadata": {
        "id": "Ct9_wGHUa53g",
        "colab_type": "code",
        "outputId": "4c9e01c5-9cb3-43f6-af52-9dbd610d3ee1",
        "colab": {
          "base_uri": "https://localhost:8080/",
          "height": 1258
        }
      },
      "source": [
        "df = pd.read_csv('at_court_cases.csv')\n",
        "print(df.label)\n",
        "df.head()"
      ],
      "execution_count": 11,
      "outputs": [
        {
          "output_type": "stream",
          "text": [
            "0                  __label__strafrecht \n",
            "1        __label__zivilverfahrensrecht \n",
            "2                  __label__strafrecht \n",
            "3        __label__zivilverfahrensrecht \n",
            "4                  __label__strafrecht \n",
            "5                __label__arbeitsrecht \n",
            "6                  __label__strafrecht \n",
            "7                __label__arbeitsrecht \n",
            "8        __label__zivilverfahrensrecht \n",
            "9                  __label__strafrecht \n",
            "10               __label__arbeitsrecht \n",
            "11       __label__zivilverfahrensrecht \n",
            "12              __label__familienrecht \n",
            "13               __label__handelsrecht \n",
            "14       __label__zivilverfahrensrecht \n",
            "15       __label__zivilverfahrensrecht \n",
            "16                 __label__strafrecht \n",
            "17                __label__sozialrecht \n",
            "18       __label__zivilverfahrensrecht \n",
            "19               __label__arbeitsrecht \n",
            "20                 __label__strafrecht \n",
            "21                __label__sozialrecht \n",
            "22                       __label__auto \n",
            "23       __label__zivilverfahrensrecht \n",
            "24               __label__arbeitsrecht \n",
            "25                 __label__strafrecht \n",
            "26                 __label__strafrecht \n",
            "27                       __label__auto \n",
            "28                 __label__strafrecht \n",
            "29       __label__zivilverfahrensrecht \n",
            "                      ...              \n",
            "12490              __label__strafrecht \n",
            "12491            __label__arbeitsrecht \n",
            "12492      __label__gesellschaftsrecht \n",
            "12493                    __label__auto \n",
            "12494              __label__strafrecht \n",
            "12495           __label__familienrecht \n",
            "12496              __label__strafrecht \n",
            "12497                    __label__auto \n",
            "12498              __label__strafrecht \n",
            "12499            __label__arbeitnehmer \n",
            "12500              __label__strafrecht \n",
            "12501              __label__strafrecht \n",
            "12502              __label__strafrecht \n",
            "12503              __label__strafrecht \n",
            "12504             __label__arbeitgeber \n",
            "12505                    __label__auto \n",
            "12506              __label__strafrecht \n",
            "12507             __label__arbeitgeber \n",
            "12508            __label__arbeitsrecht \n",
            "12509              __label__strafrecht \n",
            "12510                    __label__auto \n",
            "12511            __label__arbeitnehmer \n",
            "12512            __label__arbeitsrecht \n",
            "12513             __label__arbeitgeber \n",
            "12514              __label__strafrecht \n",
            "12515      __label__gesellschaftsrecht \n",
            "12516    __label__zivilverfahrensrecht \n",
            "12517             __label__sozialrecht \n",
            "12518            __label__arbeitnehmer \n",
            "12519                    __label__auto \n",
            "Name: label, Length: 12520, dtype: object\n"
          ],
          "name": "stdout"
        },
        {
          "output_type": "execute_result",
          "data": {
            "text/html": [
              "<div>\n",
              "<style scoped>\n",
              "    .dataframe tbody tr th:only-of-type {\n",
              "        vertical-align: middle;\n",
              "    }\n",
              "\n",
              "    .dataframe tbody tr th {\n",
              "        vertical-align: top;\n",
              "    }\n",
              "\n",
              "    .dataframe thead th {\n",
              "        text-align: right;\n",
              "    }\n",
              "</style>\n",
              "<table border=\"1\" class=\"dataframe\">\n",
              "  <thead>\n",
              "    <tr style=\"text-align: right;\">\n",
              "      <th></th>\n",
              "      <th>label</th>\n",
              "      <th>text</th>\n",
              "    </tr>\n",
              "  </thead>\n",
              "  <tbody>\n",
              "    <tr>\n",
              "      <th>0</th>\n",
              "      <td>__label__strafrecht</td>\n",
              "      <td>Gericht OGH Entscheidungsdatum 13.11.2013 Ge...</td>\n",
              "    </tr>\n",
              "    <tr>\n",
              "      <th>1</th>\n",
              "      <td>__label__zivilverfahrensrecht</td>\n",
              "      <td>Gericht OGH Entscheidungsdatum 10.05.2011 Ge...</td>\n",
              "    </tr>\n",
              "    <tr>\n",
              "      <th>2</th>\n",
              "      <td>__label__strafrecht</td>\n",
              "      <td>Gericht OGH Entscheidungsdatum 12.08.2014 Ge...</td>\n",
              "    </tr>\n",
              "    <tr>\n",
              "      <th>3</th>\n",
              "      <td>__label__zivilverfahrensrecht</td>\n",
              "      <td>Gericht OGH Entscheidungsdatum 20.12.2010 Ge...</td>\n",
              "    </tr>\n",
              "    <tr>\n",
              "      <th>4</th>\n",
              "      <td>__label__strafrecht</td>\n",
              "      <td>Gericht OGH Entscheidungsdatum 14.03.2018 Ge...</td>\n",
              "    </tr>\n",
              "  </tbody>\n",
              "</table>\n",
              "</div>"
            ],
            "text/plain": [
              "                            label                                               text\n",
              "0            __label__strafrecht     Gericht OGH Entscheidungsdatum 13.11.2013 Ge...\n",
              "1  __label__zivilverfahrensrecht     Gericht OGH Entscheidungsdatum 10.05.2011 Ge...\n",
              "2            __label__strafrecht     Gericht OGH Entscheidungsdatum 12.08.2014 Ge...\n",
              "3  __label__zivilverfahrensrecht     Gericht OGH Entscheidungsdatum 20.12.2010 Ge...\n",
              "4            __label__strafrecht     Gericht OGH Entscheidungsdatum 14.03.2018 Ge..."
            ]
          },
          "metadata": {
            "tags": []
          },
          "execution_count": 11
        }
      ]
    },
    {
      "cell_type": "code",
      "metadata": {
        "id": "fiewiWYfMUbL",
        "colab_type": "code",
        "outputId": "591de5f1-3474-4901-9e75-a6ace4c2cdfc",
        "colab": {
          "base_uri": "https://localhost:8080/",
          "height": 329
        }
      },
      "source": [
        "print(df.groupby('label').nunique())\n",
        "print(\"\\n Number of classes:\", df.label.nunique())"
      ],
      "execution_count": 0,
      "outputs": [
        {
          "output_type": "stream",
          "text": [
            "                                label  text\n",
            "label                                      \n",
            "__label__angestellter               1    35\n",
            "__label__arbeitgeber                1   618\n",
            "__label__arbeitnehmer               1   659\n",
            "__label__arbeitsrecht               1  1273\n",
            "__label__auto                       1  1778\n",
            "__label__familienrecht              1   466\n",
            "__label__gesellschaftsrecht         1   312\n",
            "__label__handelsrecht               1   312\n",
            "__label__konsumentenschutz          1   146\n",
            "__label__schadenersatz              1   179\n",
            "__label__sozialrecht                1   747\n",
            "__label__strafrecht                 1  4536\n",
            "__label__urheberrecht               1    74\n",
            "__label__zivilverfahrensrecht       1  1346\n",
            "\n",
            " Number of classes: 14\n"
          ],
          "name": "stdout"
        }
      ]
    },
    {
      "cell_type": "code",
      "metadata": {
        "id": "S-cTAqhka6B9",
        "colab_type": "code",
        "outputId": "d9039ec1-8c72-4ee1-cddd-8e5fded1257b",
        "colab": {
          "base_uri": "https://localhost:8080/",
          "height": 139
        }
      },
      "source": [
        "df_text = df[['text']].copy()\n",
        "print(df_text.head())\n",
        "print(df_text.columns)"
      ],
      "execution_count": 0,
      "outputs": [
        {
          "output_type": "stream",
          "text": [
            "                                                text\n",
            "0    Gericht OGH Entscheidungsdatum 13.11.2013 Ge...\n",
            "1    Gericht OGH Entscheidungsdatum 10.05.2011 Ge...\n",
            "2    Gericht OGH Entscheidungsdatum 12.08.2014 Ge...\n",
            "3    Gericht OGH Entscheidungsdatum 20.12.2010 Ge...\n",
            "4    Gericht OGH Entscheidungsdatum 14.03.2018 Ge...\n",
            "Index(['text'], dtype='object')\n"
          ],
          "name": "stdout"
        }
      ]
    },
    {
      "cell_type": "code",
      "metadata": {
        "id": "V5uhH_-xWpp-",
        "colab_type": "code",
        "outputId": "0d5f9b66-bb35-43cf-df6a-45aa76f5b224",
        "colab": {
          "base_uri": "https://localhost:8080/",
          "height": 69
        }
      },
      "source": [
        "%%time\n",
        "\n",
        "bs=48\n",
        "data_lm = (TextList.from_df(df_text)\n",
        "           #Inputs: all the text files in path\n",
        "            # .filter_by_folder(include=['.']) \n",
        "           #We may have other temp folders that contain text files so we only keep what's in train and test\n",
        "            .split_by_rand_pct(0.1)\n",
        "           #We randomly split and keep 10% (10,000 reviews) for validation\n",
        "            .label_for_lm()           \n",
        "           #We want to do a language model so we label accordingly\n",
        "            .databunch(bs=bs))\n",
        "data_lm.save('data_lm.pkl')\n",
        "print('done')"
      ],
      "execution_count": 0,
      "outputs": [
        {
          "output_type": "stream",
          "text": [
            "done\n",
            "CPU times: user 15.9 s, sys: 2.81 s, total: 18.7 s\n",
            "Wall time: 3min 26s\n"
          ],
          "name": "stdout"
        }
      ]
    },
    {
      "cell_type": "code",
      "metadata": {
        "id": "c-5E5Z1QYttW",
        "colab_type": "code",
        "colab": {}
      },
      "source": [
        "path = Path('.')\n",
        "data_lm = load_data(path, 'data_lm.pkl', bs=bs)"
      ],
      "execution_count": 0,
      "outputs": []
    },
    {
      "cell_type": "code",
      "metadata": {
        "id": "cR0kfvvcYtwN",
        "colab_type": "code",
        "outputId": "41477018-b215-4f69-b553-f75696c1aebd",
        "colab": {
          "base_uri": "https://localhost:8080/",
          "height": 341
        }
      },
      "source": [
        "data_lm.show_batch()"
      ],
      "execution_count": 0,
      "outputs": [
        {
          "output_type": "display_data",
          "data": {
            "text/html": [
              "<table border=\"1\" class=\"dataframe\">\n",
              "  <thead>\n",
              "    <tr style=\"text-align: right;\">\n",
              "      <th>idx</th>\n",
              "      <th>text</th>\n",
              "    </tr>\n",
              "  </thead>\n",
              "  <tbody>\n",
              "    <tr>\n",
              "      <td>0</td>\n",
              "      <td>gerichtshofs xxmaj dr.   xxmaj bachner - xxmaj foregger , xxmaj dr.   xxmaj michel - xxmaj kwapinski und xxmaj mag .   xxmaj fürnkranz als weitere xxmaj richter in xxmaj gegenwart der xxmaj richteramtsanwärterin mmag .   xxmaj vasak als xxmaj schriftführerin in der xxmaj strafsache gegen xxmaj xxunk a xxrep 5 * wegen des xxmaj verbrechens des xxmaj suchtgifthandels nach §   28a xxmaj abs   1 zweiter</td>\n",
              "    </tr>\n",
              "    <tr>\n",
              "      <td>1</td>\n",
              "      <td>6 / xxunk , nach xxmaj anhörung der xxmaj generalprokuratur in nichtöffentlicher xxmaj sitzung zu xxmaj recht erkannt : xxmaj spruch    xxmaj die xxmaj nichtigkeitsbeschwerde wird zurückgewiesen . xxmaj aus deren xxmaj anlass wird das angefochtene xxmaj urteil aufgehoben und die xxmaj sache zu neuer xxmaj verhandlung und xxmaj entscheidung an das xxmaj landesgericht xxmaj innsbruck verwiesen . xxmaj mit seiner xxmaj berufung wird der xxmaj angeklagte</td>\n",
              "    </tr>\n",
              "    <tr>\n",
              "      <td>2</td>\n",
              "      <td>weitere xxmaj fragen wurden nicht gestellt . xxmaj rechtliche xxmaj beurteilung xxmaj gegen xxmaj punkt   2 . / des xxmaj schuldspruchs richtet sich die auf z   6 und 8 des §   345 xxmaj abs   1 stpo gestützte xxmaj nichtigkeitsbeschwerde des xxmaj angeklagten , der keine xxmaj berechtigung zukommt . xxmaj unter xxmaj hinweis auf die xxmaj ausführungen des xxmaj sachverständigen , wonach der xxmaj affekt mit</td>\n",
              "    </tr>\n",
              "    <tr>\n",
              "      <td>3</td>\n",
              "      <td>2010 , in eventu ab 1 .   1 .   2011 . 2 .   xxmaj die xxup vo ( xxup ewg ) xxmaj nr   1408 / 71 wurde mit dem xxmaj beginn der xxmaj anwendung der xxup vo ( xxup eg ) xxmaj nr   883 / 2004 am 1 .   5 .   2010 grundsätzlich aufgehoben . xxmaj sie blieb jedoch gemäß xxmaj art</td>\n",
              "    </tr>\n",
              "    <tr>\n",
              "      <td>4</td>\n",
              "      <td>nicht verfügen durfte , mit dem xxmaj vorsatz unterdrückt , zu verhindern , dass sie i m xxmaj rechtsverkehr zum xxmaj beweis eines xxmaj rechtes , eines xxmaj rechtsverhältnisses oder einer xxmaj tatsache gebraucht werden , und zwar mehrere durch die unter xxmaj punkt   xxup i.   xxup b.   1 .   d. angeführte xxmaj tat erlangte xxmaj urkunden ; xxup iii .   am 5 .</td>\n",
              "    </tr>\n",
              "  </tbody>\n",
              "</table>"
            ],
            "text/plain": [
              "<IPython.core.display.HTML object>"
            ]
          },
          "metadata": {
            "tags": []
          }
        }
      ]
    },
    {
      "cell_type": "markdown",
      "metadata": {
        "id": "TQpEShANOzi5",
        "colab_type": "text"
      },
      "source": [
        "## Create a learner from a pretrained model / architecture\n",
        "Default: AWD_LSTM (which includes a pretrained Wikidata103 model (for English))\n",
        "\n",
        "TODO: try TransformerXL"
      ]
    },
    {
      "cell_type": "code",
      "metadata": {
        "id": "tUBtDtABZmpD",
        "colab_type": "code",
        "colab": {}
      },
      "source": [
        "learn = language_model_learner(data_lm, AWD_LSTM, drop_mult=0.3)\n",
        "#learn = language_model_learner(data_lm, TransformerXL, pretrained=False) # ?? , drop_mult=0.3)"
      ],
      "execution_count": 0,
      "outputs": []
    },
    {
      "cell_type": "code",
      "metadata": {
        "id": "CsrmrimRZmsL",
        "colab_type": "code",
        "outputId": "f4fc62f3-4a97-4d82-fede-ef954455040f",
        "colab": {
          "base_uri": "https://localhost:8080/",
          "height": 69
        }
      },
      "source": [
        "%%time\n",
        "\n",
        "learn.lr_find()"
      ],
      "execution_count": 0,
      "outputs": [
        {
          "output_type": "display_data",
          "data": {
            "text/html": [
              ""
            ],
            "text/plain": [
              "<IPython.core.display.HTML object>"
            ]
          },
          "metadata": {
            "tags": []
          }
        },
        {
          "output_type": "stream",
          "text": [
            "LR Finder is complete, type {learner_name}.recorder.plot() to see the graph.\n",
            "CPU times: user 15.9 s, sys: 12.8 s, total: 28.7 s\n",
            "Wall time: 30.5 s\n"
          ],
          "name": "stdout"
        }
      ]
    },
    {
      "cell_type": "code",
      "metadata": {
        "id": "IMu32xgxZmvZ",
        "colab_type": "code",
        "outputId": "22c04657-4436-48b6-c1de-04621e108c50",
        "colab": {
          "base_uri": "https://localhost:8080/",
          "height": 283
        }
      },
      "source": [
        "learn.recorder.plot(skip_end=15)"
      ],
      "execution_count": 0,
      "outputs": [
        {
          "output_type": "display_data",
          "data": {
            "image/png": "[encoded data removed]",
            "text/plain": [
              "<Figure size 432x288 with 1 Axes>"
            ]
          },
          "metadata": {
            "tags": []
          }
        }
      ]
    },
    {
      "cell_type": "code",
      "metadata": {
        "id": "yYVsfD0qZmyx",
        "colab_type": "code",
        "outputId": "07b72460-c23b-49bc-af3d-351698ae14b3",
        "colab": {
          "base_uri": "https://localhost:8080/",
          "height": 114
        }
      },
      "source": [
        "learn.fit_one_cycle(1, 1e-1, moms=(0.8,0.7))"
      ],
      "execution_count": 0,
      "outputs": [
        {
          "output_type": "display_data",
          "data": {
            "text/html": [
              "<table border=\"1\" class=\"dataframe\">\n",
              "  <thead>\n",
              "    <tr style=\"text-align: left;\">\n",
              "      <th>epoch</th>\n",
              "      <th>train_loss</th>\n",
              "      <th>valid_loss</th>\n",
              "      <th>accuracy</th>\n",
              "      <th>time</th>\n",
              "    </tr>\n",
              "  </thead>\n",
              "  <tbody>\n",
              "    <tr>\n",
              "      <td>0</td>\n",
              "      <td>3.652426</td>\n",
              "      <td>3.207759</td>\n",
              "      <td>0.463898</td>\n",
              "      <td>33:16</td>\n",
              "    </tr>\n",
              "  </tbody>\n",
              "</table>"
            ],
            "text/plain": [
              "<IPython.core.display.HTML object>"
            ]
          },
          "metadata": {
            "tags": []
          }
        },
        {
          "output_type": "stream",
          "text": [
            "CPU times: user 18min 23s, sys: 14min 27s, total: 32min 51s\n",
            "Wall time: 33min 16s\n"
          ],
          "name": "stdout"
        }
      ]
    },
    {
      "cell_type": "code",
      "metadata": {
        "id": "Myt0qe1WZm2G",
        "colab_type": "code",
        "colab": {}
      },
      "source": [
        "learn.save('fit_head')"
      ],
      "execution_count": 0,
      "outputs": []
    },
    {
      "cell_type": "code",
      "metadata": {
        "id": "l0VSF9EAAkap",
        "colab_type": "code",
        "outputId": "696d23f8-749e-4584-b500-67f1e155516e",
        "colab": {
          "base_uri": "https://localhost:8080/",
          "height": 34
        }
      },
      "source": [
        "## continue here -- check that fit_head is in models\n",
        "!mv fit_head.pth models\n",
        "!ls models"
      ],
      "execution_count": 0,
      "outputs": [
        {
          "output_type": "stream",
          "text": [
            "fit_head.pth\n"
          ],
          "name": "stdout"
        }
      ]
    },
    {
      "cell_type": "code",
      "metadata": {
        "id": "CN3-uvaiZm5l",
        "colab_type": "code",
        "colab": {}
      },
      "source": [
        "learn.load('fit_head');"
      ],
      "execution_count": 0,
      "outputs": []
    },
    {
      "cell_type": "code",
      "metadata": {
        "id": "zUk4mzXT0t4k",
        "colab_type": "code",
        "colab": {}
      },
      "source": [
        "#!du -sh *\n",
        "#from google.colab import files\n",
        "#files.download('data_lm.pkl')\n",
        "#files.download('data_save.pkl')\n",
        "#files.download('models/fit_head.pth')\n"
      ],
      "execution_count": 0,
      "outputs": []
    },
    {
      "cell_type": "code",
      "metadata": {
        "id": "f8TaD2DjZm9j",
        "colab_type": "code",
        "colab": {}
      },
      "source": [
        "learn.unfreeze()"
      ],
      "execution_count": 0,
      "outputs": []
    },
    {
      "cell_type": "code",
      "metadata": {
        "id": "vmwu1gS6jLI3",
        "colab_type": "code",
        "outputId": "56c1ab9c-763c-4025-f886-a1e30882d4ee",
        "colab": {
          "base_uri": "https://localhost:8080/",
          "height": 141
        }
      },
      "source": [
        "epochs = 3 # orig: 10\n",
        "learn.fit_one_cycle(epochs, 2e-2, moms=(0.8,0.7))"
      ],
      "execution_count": 0,
      "outputs": [
        {
          "output_type": "display_data",
          "data": {
            "text/html": [
              "<table border=\"1\" class=\"dataframe\">\n",
              "  <thead>\n",
              "    <tr style=\"text-align: left;\">\n",
              "      <th>epoch</th>\n",
              "      <th>train_loss</th>\n",
              "      <th>valid_loss</th>\n",
              "      <th>accuracy</th>\n",
              "      <th>time</th>\n",
              "    </tr>\n",
              "  </thead>\n",
              "  <tbody>\n",
              "    <tr>\n",
              "      <td>0</td>\n",
              "      <td>2.652942</td>\n",
              "      <td>2.743430</td>\n",
              "      <td>0.512871</td>\n",
              "      <td>1:07:06</td>\n",
              "    </tr>\n",
              "    <tr>\n",
              "      <td>1</td>\n",
              "      <td>2.477582</td>\n",
              "      <td>2.439667</td>\n",
              "      <td>0.546296</td>\n",
              "      <td>1:07:03</td>\n",
              "    </tr>\n",
              "    <tr>\n",
              "      <td>2</td>\n",
              "      <td>2.291646</td>\n",
              "      <td>2.243375</td>\n",
              "      <td>0.572476</td>\n",
              "      <td>1:07:07</td>\n",
              "    </tr>\n",
              "  </tbody>\n",
              "</table>"
            ],
            "text/plain": [
              "<IPython.core.display.HTML object>"
            ]
          },
          "metadata": {
            "tags": []
          }
        }
      ]
    },
    {
      "cell_type": "code",
      "metadata": {
        "id": "xZSt8E15jLMG",
        "colab_type": "code",
        "colab": {}
      },
      "source": [
        "learn.save('fine_tuned')"
      ],
      "execution_count": 0,
      "outputs": []
    },
    {
      "cell_type": "code",
      "metadata": {
        "id": "y8Ce6YpUjLPQ",
        "colab_type": "code",
        "outputId": "a220580d-4045-4b2c-8a40-8f921374f906",
        "colab": {
          "base_uri": "https://localhost:8080/",
          "height": 71
        }
      },
      "source": [
        "\n",
        "learn.load('fine_tuned');"
      ],
      "execution_count": 0,
      "outputs": [
        {
          "output_type": "stream",
          "text": [
            "/usr/local/lib/python3.6/dist-packages/fastai/basic_train.py:327: UserWarning: Wasn't able to properly load the optimizer state again.\n",
            "  except: warn(\"Wasn't able to properly load the optimizer state again.\")\n"
          ],
          "name": "stderr"
        }
      ]
    },
    {
      "cell_type": "code",
      "metadata": {
        "id": "mAqKUvkP9LH8",
        "colab_type": "code",
        "colab": {}
      },
      "source": [
        "\n",
        "#from google.colab import files\n",
        "#files.download('models/fine_tuned.pth')"
      ],
      "execution_count": 0,
      "outputs": []
    },
    {
      "cell_type": "code",
      "metadata": {
        "id": "s-n0VSRajLSs",
        "colab_type": "code",
        "outputId": "6b377d0c-07a7-497f-8555-aff4199405e9",
        "colab": {
          "base_uri": "https://localhost:8080/",
          "height": 71
        }
      },
      "source": [
        "# test lang model\n",
        "TEXT = \"Der Angeklagte stahl den Wagen am\"\n",
        "N_WORDS = 40\n",
        "N_SENTENCES = 2\n",
        "print(\"\\n\".join(learn.predict(TEXT, N_WORDS, temperature=0.75) for _ in range(N_SENTENCES)))\n"
      ],
      "execution_count": 0,
      "outputs": [
        {
          "output_type": "stream",
          "text": [
            "Der Angeklagte stahl den Wagen am 1 .   März   2010 in Wiener Neustadt , sowie für den Fall , dass sie seit der A   2011 mit dem Pkw „ n ***** “““““ nochnochnochnochnoch nichtnichtnichtnichtnicht ininininin\n",
            "Der Angeklagte stahl den Wagen am 24 . März 2004 mit Ablauf der Rekursfrist am 13 . Dezember 2008 in Wien durch einen August nach Österreich durch den Arzt Dr.   Richard s *****\n"
          ],
          "name": "stdout"
        }
      ]
    },
    {
      "cell_type": "code",
      "metadata": {
        "id": "tumpLk48jLVy",
        "colab_type": "code",
        "colab": {}
      },
      "source": [
        "learn.save_encoder('fine_tuned_enc')"
      ],
      "execution_count": 0,
      "outputs": []
    },
    {
      "cell_type": "code",
      "metadata": {
        "id": "JNb2nOjh83Zi",
        "colab_type": "code",
        "colab": {}
      },
      "source": [
        "\n",
        "!ls -l model\n",
        "print('let us grab the encoder!')"
      ],
      "execution_count": 0,
      "outputs": []
    },
    {
      "cell_type": "code",
      "metadata": {
        "id": "_RLVSPKWjLZO",
        "colab_type": "code",
        "colab": {}
      },
      "source": [
        "data_clas = (TextList.from_csv(Path('.'), 'at_court_cases.csv', vocab=data_lm.vocab, cols='text')\n",
        "             #grab all the text files in path\n",
        "             #wohlg: .split_by_folder(valid='test')\n",
        "             .split_by_rand_pct()\n",
        "             #split by train and valid folder (that only keeps 'train' and 'test' so no need to filter)             \n",
        "             #wohlg: .label_from_folder(classes=['neg', 'pos'])\n",
        "             .label_from_df(cols='label')\n",
        "             #label them all with their folders\n",
        "             .databunch(bs=bs))\n",
        "\n",
        "data_clas.save('data_clas.pkl')"
      ],
      "execution_count": 0,
      "outputs": []
    },
    {
      "cell_type": "code",
      "metadata": {
        "id": "lLq_pAhSjLe2",
        "colab_type": "code",
        "colab": {}
      },
      "source": [
        "data_clas = load_data(path, 'data_clas.pkl', bs=bs)"
      ],
      "execution_count": 0,
      "outputs": []
    },
    {
      "cell_type": "code",
      "metadata": {
        "id": "bIC3m4atjLcQ",
        "colab_type": "code",
        "outputId": "83d87fa1-2a33-47f9-cd7c-9f7c3c5581a5",
        "colab": {
          "base_uri": "https://localhost:8080/",
          "height": 443
        }
      },
      "source": [
        "data_clas.show_batch()\n",
        "#data_clas.label_list\n",
        "\n",
        "\n"
      ],
      "execution_count": 0,
      "outputs": [
        {
          "output_type": "display_data",
          "data": {
            "text/html": [
              "<table border=\"1\" class=\"dataframe\">\n",
              "  <thead>\n",
              "    <tr style=\"text-align: right;\">\n",
              "      <th>text</th>\n",
              "      <th>target</th>\n",
              "    </tr>\n",
              "  </thead>\n",
              "  <tbody>\n",
              "    <tr>\n",
              "      <td>xxbos xxmaj gericht xxup ogh xxmaj entscheidungsdatum xxunk xxmaj geschäftszahl xxunk / 09z xxmaj kopf xxmaj der xxmaj oberste xxmaj gerichtshof hat am 23 .   xxmaj dezember   2010 durch den xxmaj hofrat des xxmaj obersten xxmaj gerichtshofs xxmaj dr.   xxmaj lässig als xxmaj vorsitzenden , die xxmaj hofrätin des xxmaj obersten xxmaj gerichtshofs xxmaj mag .   xxmaj hetlinger , den xxmaj hofrat des xxmaj obersten xxmaj</td>\n",
              "      <td>__label__strafrecht</td>\n",
              "    </tr>\n",
              "    <tr>\n",
              "      <td>xxbos xxmaj gericht xxup ogh xxmaj entscheidungsdatum 14.01.2015 xxmaj geschäftszahl 15os52 / 14 g ( 15os53 / 14d ) xxmaj kopf xxmaj der xxmaj oberste xxmaj gerichtshof hat am 14 .   xxmaj jänner   2015 durch den xxmaj senatspräsidenten des xxmaj obersten xxmaj gerichtshofs xxmaj prof .   xxmaj dr.   xxmaj danek als xxmaj vorsitzenden , den xxmaj hofrat des xxmaj obersten xxmaj gerichtshofs xxmaj mag .</td>\n",
              "      <td>__label__strafrecht</td>\n",
              "    </tr>\n",
              "    <tr>\n",
              "      <td>xxbos xxmaj gericht xxup ogh xxmaj entscheidungsdatum xxunk xxmaj geschäftszahl xxunk / 09z xxmaj kopf xxmaj der xxmaj oberste xxmaj gerichtshof hat am 22 .   xxmaj dezember   2010 durch den xxmaj hofrat des xxmaj obersten xxmaj gerichtshofs xxmaj dr.   xxmaj lässig als xxmaj vorsitzenden , die xxmaj hofrätin des xxmaj obersten xxmaj gerichtshofs xxmaj mag .   xxmaj hetlinger , den xxmaj hofrat des xxmaj obersten xxmaj</td>\n",
              "      <td>__label__strafrecht</td>\n",
              "    </tr>\n",
              "    <tr>\n",
              "      <td>xxbos xxmaj gericht xxup ogh xxmaj rechtssatznummer xxup xxunk xxmaj entscheidungsdatum xxunk xxmaj geschäftszahl xxmaj xxunk / 53 ; xxunk / 55 ; 6ob179 / 59 ; xxunk / 59 ; xxunk / 61 ; 6ob204 / 61 ; xxunk / 62 ; 8ob33 / 63 ; xxunk / 63 ; 6ob28 / 64 ; xxunk / 64 ; xxunk / 65 ; 8ob219 / 65 ; xxunk / 65</td>\n",
              "      <td>__label__auto</td>\n",
              "    </tr>\n",
              "    <tr>\n",
              "      <td>xxbos xxmaj gericht xxup ogh xxmaj entscheidungsdatum 22.05.2013 xxmaj geschäftszahl xxunk / 13f xxmaj kopf xxmaj der xxmaj oberste xxmaj gerichtshof hat am 22 .   xxmaj mai   2013 durch den xxmaj senatspräsidenten des xxmaj obersten xxmaj gerichtshofs xxmaj dr.   xxmaj danek als xxmaj vorsitzenden , den xxmaj hofrat des xxmaj obersten xxmaj gerichtshofs xxmaj mag .   xxmaj lendl und die xxmaj hofrätinnen des xxmaj obersten xxmaj</td>\n",
              "      <td>__label__strafrecht</td>\n",
              "    </tr>\n",
              "  </tbody>\n",
              "</table>"
            ],
            "text/plain": [
              "<IPython.core.display.HTML object>"
            ]
          },
          "metadata": {
            "tags": []
          }
        }
      ]
    },
    {
      "cell_type": "code",
      "metadata": {
        "id": "_QH55kC5qNLG",
        "colab_type": "code",
        "colab": {}
      },
      "source": [
        "################ check if all ok .. data_clas ...\n",
        "!mv fine_tuned_enc.pth models"
      ],
      "execution_count": 0,
      "outputs": []
    },
    {
      "cell_type": "code",
      "metadata": {
        "id": "cyWs6u1vl6mX",
        "colab_type": "code",
        "colab": {}
      },
      "source": [
        "learn = text_classifier_learner(data_clas, AWD_LSTM, drop_mult=0.5)\n",
        "learn.load_encoder('fine_tuned_enc')"
      ],
      "execution_count": 0,
      "outputs": []
    },
    {
      "cell_type": "code",
      "metadata": {
        "id": "X5sGGcAUl6ps",
        "colab_type": "code",
        "colab": {}
      },
      "source": [
        "\n",
        "learn.lr_find()"
      ],
      "execution_count": 0,
      "outputs": []
    },
    {
      "cell_type": "code",
      "metadata": {
        "id": "4TaL4rGml6tD",
        "colab_type": "code",
        "colab": {}
      },
      "source": [
        "\n",
        "learn.recorder.plot()"
      ],
      "execution_count": 0,
      "outputs": []
    },
    {
      "cell_type": "code",
      "metadata": {
        "id": "BrPh0yRdl6zX",
        "colab_type": "code",
        "outputId": "5abd19ec-5eae-4e17-baa9-877b7ea0a80c",
        "colab": {
          "base_uri": "https://localhost:8080/",
          "height": 110
        }
      },
      "source": [
        "#learn.fit_one_cycle(1, 2e-2, moms=(0.8,0.7))\n",
        "learn.fit_one_cycle(2, 2e-2, moms=(0.8,0.7))"
      ],
      "execution_count": 0,
      "outputs": [
        {
          "output_type": "display_data",
          "data": {
            "text/html": [
              "<table border=\"1\" class=\"dataframe\">\n",
              "  <thead>\n",
              "    <tr style=\"text-align: left;\">\n",
              "      <th>epoch</th>\n",
              "      <th>train_loss</th>\n",
              "      <th>valid_loss</th>\n",
              "      <th>accuracy</th>\n",
              "      <th>time</th>\n",
              "    </tr>\n",
              "  </thead>\n",
              "  <tbody>\n",
              "    <tr>\n",
              "      <td>0</td>\n",
              "      <td>1.045188</td>\n",
              "      <td>0.834832</td>\n",
              "      <td>0.730032</td>\n",
              "      <td>11:18</td>\n",
              "    </tr>\n",
              "    <tr>\n",
              "      <td>1</td>\n",
              "      <td>0.909289</td>\n",
              "      <td>0.767916</td>\n",
              "      <td>0.744010</td>\n",
              "      <td>10:58</td>\n",
              "    </tr>\n",
              "  </tbody>\n",
              "</table>"
            ],
            "text/plain": [
              "<IPython.core.display.HTML object>"
            ]
          },
          "metadata": {
            "tags": []
          }
        }
      ]
    },
    {
      "cell_type": "code",
      "metadata": {
        "id": "Go03WwP9l62p",
        "colab_type": "code",
        "colab": {}
      },
      "source": [
        "learn.save('first')"
      ],
      "execution_count": 0,
      "outputs": []
    },
    {
      "cell_type": "code",
      "metadata": {
        "id": "Nim2xtSDl65f",
        "colab_type": "code",
        "colab": {}
      },
      "source": [
        "learn.load('first');"
      ],
      "execution_count": 0,
      "outputs": []
    },
    {
      "cell_type": "code",
      "metadata": {
        "id": "TdYFyLlkl69M",
        "colab_type": "code",
        "outputId": "1aa38929-d6fd-428c-cee8-9f318160818c",
        "colab": {
          "base_uri": "https://localhost:8080/",
          "height": 79
        }
      },
      "source": [
        "learn.freeze_to(-2)\n",
        "learn.fit_one_cycle(1, slice(2e-2/(2.6**4),2e-2), moms=(0.8,0.7))\n",
        "#learn.fit_one_cycle(1, slice(5e-1/(2.6**4),5e-1), moms=(0.8,0.7))\n",
        "#learn.fit_one_cycle(1, slice(5e-3/(2.6**4),5e-3), moms=(0.8,0.7))"
      ],
      "execution_count": 0,
      "outputs": [
        {
          "output_type": "display_data",
          "data": {
            "text/html": [
              "<table border=\"1\" class=\"dataframe\">\n",
              "  <thead>\n",
              "    <tr style=\"text-align: left;\">\n",
              "      <th>epoch</th>\n",
              "      <th>train_loss</th>\n",
              "      <th>valid_loss</th>\n",
              "      <th>accuracy</th>\n",
              "      <th>time</th>\n",
              "    </tr>\n",
              "  </thead>\n",
              "  <tbody>\n",
              "    <tr>\n",
              "      <td>0</td>\n",
              "      <td>0.697234</td>\n",
              "      <td>0.511395</td>\n",
              "      <td>0.809105</td>\n",
              "      <td>12:02</td>\n",
              "    </tr>\n",
              "  </tbody>\n",
              "</table>"
            ],
            "text/plain": [
              "<IPython.core.display.HTML object>"
            ]
          },
          "metadata": {
            "tags": []
          }
        }
      ]
    },
    {
      "cell_type": "code",
      "metadata": {
        "id": "kzbQqXfll7CT",
        "colab_type": "code",
        "colab": {}
      },
      "source": [
        "learn.save('second')"
      ],
      "execution_count": 0,
      "outputs": []
    },
    {
      "cell_type": "code",
      "metadata": {
        "id": "AvF4OP0Ml7AY",
        "colab_type": "code",
        "colab": {}
      },
      "source": [
        "learn.load('second');"
      ],
      "execution_count": 0,
      "outputs": []
    },
    {
      "cell_type": "code",
      "metadata": {
        "id": "wIdm-jGQl6wV",
        "colab_type": "code",
        "outputId": "ed2c0809-ce47-4c4b-b0e7-510ce4246ed7",
        "colab": {
          "base_uri": "https://localhost:8080/",
          "height": 172
        }
      },
      "source": [
        "\n",
        "learn.freeze_to(-3)\n",
        "#learn.fit_one_cycle(1, slice(5e-3/(2.6**4),5e-3), moms=(0.8,0.7))\n",
        "learn.fit_one_cycle(4, slice(2e-3/(2.6**4),2e-3), moms=(0.8,0.7))\n",
        "#learn.fit_one_cycle(1, slice(1e-4/(2.6**4),1e-4), moms=(0.8,0.7))"
      ],
      "execution_count": 0,
      "outputs": [
        {
          "output_type": "display_data",
          "data": {
            "text/html": [
              "<table border=\"1\" class=\"dataframe\">\n",
              "  <thead>\n",
              "    <tr style=\"text-align: left;\">\n",
              "      <th>epoch</th>\n",
              "      <th>train_loss</th>\n",
              "      <th>valid_loss</th>\n",
              "      <th>accuracy</th>\n",
              "      <th>time</th>\n",
              "    </tr>\n",
              "  </thead>\n",
              "  <tbody>\n",
              "    <tr>\n",
              "      <td>0</td>\n",
              "      <td>0.592018</td>\n",
              "      <td>0.492199</td>\n",
              "      <td>0.816294</td>\n",
              "      <td>14:30</td>\n",
              "    </tr>\n",
              "    <tr>\n",
              "      <td>1</td>\n",
              "      <td>0.572953</td>\n",
              "      <td>0.469279</td>\n",
              "      <td>0.829473</td>\n",
              "      <td>16:33</td>\n",
              "    </tr>\n",
              "    <tr>\n",
              "      <td>2</td>\n",
              "      <td>0.541776</td>\n",
              "      <td>0.476001</td>\n",
              "      <td>0.818690</td>\n",
              "      <td>13:56</td>\n",
              "    </tr>\n",
              "    <tr>\n",
              "      <td>3</td>\n",
              "      <td>0.539216</td>\n",
              "      <td>0.468713</td>\n",
              "      <td>0.823083</td>\n",
              "      <td>14:08</td>\n",
              "    </tr>\n",
              "  </tbody>\n",
              "</table>"
            ],
            "text/plain": [
              "<IPython.core.display.HTML object>"
            ]
          },
          "metadata": {
            "tags": []
          }
        }
      ]
    },
    {
      "cell_type": "code",
      "metadata": {
        "id": "RE0TtGjRmPKC",
        "colab_type": "code",
        "colab": {}
      },
      "source": [
        "learn.save('third')"
      ],
      "execution_count": 0,
      "outputs": []
    },
    {
      "cell_type": "code",
      "metadata": {
        "id": "LC6BWsAnmPNY",
        "colab_type": "code",
        "outputId": "4117e21c-af2c-443e-8925-8d843ef612f6",
        "colab": {
          "base_uri": "https://localhost:8080/",
          "height": 71
        }
      },
      "source": [
        "learn.load('third');"
      ],
      "execution_count": 0,
      "outputs": [
        {
          "output_type": "stream",
          "text": [
            "/usr/local/lib/python3.6/dist-packages/fastai/basic_train.py:327: UserWarning: Wasn't able to properly load the optimizer state again.\n",
            "  except: warn(\"Wasn't able to properly load the optimizer state again.\")\n"
          ],
          "name": "stderr"
        }
      ]
    },
    {
      "cell_type": "code",
      "metadata": {
        "id": "GUKluTG6mPQo",
        "colab_type": "code",
        "outputId": "9438796b-e1ac-46f8-e074-e0a12bba8f1b",
        "colab": {
          "base_uri": "https://localhost:8080/",
          "height": 204
        }
      },
      "source": [
        "learn.unfreeze()\n",
        "learn.fit_one_cycle(4, slice(2e-3/(2.6**4),2e-3), moms=(0.8,0.7))\n",
        "#learn.fit_one_cycle(2, slice(3e-4/(2.6**4),3e-4), moms=(0.8,0.7))\n",
        "\n"
      ],
      "execution_count": 0,
      "outputs": [
        {
          "output_type": "display_data",
          "data": {
            "text/html": [
              "\n",
              "    <div>\n",
              "        <style>\n",
              "            /* Turns off some styling */\n",
              "            progress {\n",
              "                /* gets rid of default border in Firefox and Opera. */\n",
              "                border: none;\n",
              "                /* Needs to be in here for Safari polyfill so background images work as expected. */\n",
              "                background-size: auto;\n",
              "            }\n",
              "            .progress-bar-interrupted, .progress-bar-interrupted::-webkit-progress-bar {\n",
              "                background: #F44336;\n",
              "            }\n",
              "        </style>\n",
              "      <progress value='3' class='' max='4', style='width:300px; height:20px; vertical-align: middle;'></progress>\n",
              "      75.00% [3/4 51:35<17:11]\n",
              "    </div>\n",
              "    \n",
              "<table border=\"1\" class=\"dataframe\">\n",
              "  <thead>\n",
              "    <tr style=\"text-align: left;\">\n",
              "      <th>epoch</th>\n",
              "      <th>train_loss</th>\n",
              "      <th>valid_loss</th>\n",
              "      <th>accuracy</th>\n",
              "      <th>time</th>\n",
              "    </tr>\n",
              "  </thead>\n",
              "  <tbody>\n",
              "    <tr>\n",
              "      <td>0</td>\n",
              "      <td>0.553947</td>\n",
              "      <td>0.472038</td>\n",
              "      <td>0.820288</td>\n",
              "      <td>18:25</td>\n",
              "    </tr>\n",
              "    <tr>\n",
              "      <td>1</td>\n",
              "      <td>0.489642</td>\n",
              "      <td>0.469652</td>\n",
              "      <td>0.823482</td>\n",
              "      <td>16:29</td>\n",
              "    </tr>\n",
              "    <tr>\n",
              "      <td>2</td>\n",
              "      <td>0.536177</td>\n",
              "      <td>0.449290</td>\n",
              "      <td>0.825080</td>\n",
              "      <td>16:40</td>\n",
              "    </tr>\n",
              "  </tbody>\n",
              "</table><p>\n",
              "\n",
              "    <div>\n",
              "        <style>\n",
              "            /* Turns off some styling */\n",
              "            progress {\n",
              "                /* gets rid of default border in Firefox and Opera. */\n",
              "                border: none;\n",
              "                /* Needs to be in here for Safari polyfill so background images work as expected. */\n",
              "                background-size: auto;\n",
              "            }\n",
              "            .progress-bar-interrupted, .progress-bar-interrupted::-webkit-progress-bar {\n",
              "                background: #F44336;\n",
              "            }\n",
              "        </style>\n",
              "      <progress value='118' class='' max='208', style='width:300px; height:20px; vertical-align: middle;'></progress>\n",
              "      56.73% [118/208 08:23<06:24 0.4977]\n",
              "    </div>\n",
              "    "
            ],
            "text/plain": [
              "<IPython.core.display.HTML object>"
            ]
          },
          "metadata": {
            "tags": []
          }
        }
      ]
    },
    {
      "cell_type": "code",
      "metadata": {
        "id": "cePfsjvbmPT-",
        "colab_type": "code",
        "colab": {}
      },
      "source": [
        "print(learn.predict(\"Romania and Bulgaria aim in particular to liberalise trade in products covered by the common organisation of the market concerned!\"))\n",
        "print(learn.predict(\"Standing Committee on Seeds and Propagating Material for Agriculture\"))\n"
      ],
      "execution_count": 0,
      "outputs": []
    }
  ]
}