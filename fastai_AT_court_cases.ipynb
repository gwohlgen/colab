{
  "nbformat": 4,
  "nbformat_minor": 0,
  "metadata": {
    "colab": {
      "name": "fastai-AT-court-cases.ipynb",
      "version": "0.3.2",
      "provenance": [],
      "include_colab_link": true
    },
    "kernelspec": {
      "name": "python3",
      "display_name": "Python 3"
    },
    "accelerator": "GPU"
  },
  "cells": [
    {
      "cell_type": "markdown",
      "metadata": {
        "id": "view-in-github",
        "colab_type": "text"
      },
      "source": [
        "<a href=\"https://colab.research.google.com/github/gwohlgen/colab/blob/master/fastai_AT_court_cases.ipynb\" target=\"_parent\"><img src=\"https://colab.research.google.com/assets/colab-badge.svg\" alt=\"Open In Colab\"/></a>"
      ]
    },
    {
      "cell_type": "markdown",
      "metadata": {
        "id": "SI5R3SNMMrUW",
        "colab_type": "text"
      },
      "source": [
        "First test of using **FastAI** with the **Austrian court cases dataset**.\n",
        "This dataset is: **single-label, multi-class, German language**.\n",
        "What is done:\n",
        "\n",
        "\n",
        "1.   Create DataBunch\n",
        "2.   Create data_lm .. data to train the language model\n",
        "3.   Finetune the AWD_LSTM with the data_lm .. this takes a long time\n",
        "4.   Train a classifier with the encoder part of the trained language model and the classification dataset\n",
        "\n",
        "\n",
        "\n",
        "\n",
        "\n",
        "\n"
      ]
    },
    {
      "cell_type": "code",
      "metadata": {
        "id": "ebvIkc1wZu_G",
        "colab_type": "code",
        "colab": {}
      },
      "source": [
        "# init\n",
        "\n",
        "%reload_ext autoreload\n",
        "%autoreload 2\n",
        "%matplotlib inline\n",
        "\n",
        "from fastai.text import *\n"
      ],
      "execution_count": 0,
      "outputs": []
    },
    {
      "cell_type": "code",
      "metadata": {
        "id": "YcT6Cj_oaGeP",
        "colab_type": "code",
        "colab": {}
      },
      "source": [
        "# get the data\n",
        "!wget https://aic.ai.wu.ac.at/~wohlg/at_court_cases.csv.zip\n",
        "!unzip at_court_cases.csv.zip\n",
        "!ls\n",
        "!mkdir models"
      ],
      "execution_count": 0,
      "outputs": []
    },
    {
      "cell_type": "code",
      "metadata": {
        "id": "XiaqOuASaGn2",
        "colab_type": "code",
        "outputId": "2e4fa321-612f-44c3-ab2a-bd000c07691b",
        "colab": {
          "base_uri": "https://localhost:8080/",
          "height": 176
        }
      },
      "source": [
        "from pathlib import Path\n",
        "p = Path('at_court_cases.csv')\n",
        "\n",
        "df = pd.read_csv('at_court_cases.csv')\n",
        "print(df.head())\n",
        "print(df['text'][1])"
      ],
      "execution_count": 0,
      "outputs": [
        {
          "output_type": "stream",
          "text": [
            "                            label                                               text\n",
            "0            __label__strafrecht     Gericht OGH Entscheidungsdatum 13.11.2013 Ge...\n",
            "1  __label__zivilverfahrensrecht     Gericht OGH Entscheidungsdatum 10.05.2011 Ge...\n",
            "2            __label__strafrecht     Gericht OGH Entscheidungsdatum 12.08.2014 Ge...\n",
            "3  __label__zivilverfahrensrecht     Gericht OGH Entscheidungsdatum 20.12.2010 Ge...\n",
            "4            __label__strafrecht     Gericht OGH Entscheidungsdatum 14.03.2018 Ge...\n",
            "  Gericht OGH Entscheidungsdatum 10.05.2011 Geschäftszahl 4Ob67/11y Kopf Der Oberste Gerichtshof hat als Revisionsgericht durch die Senatspräsidentin Dr. Schenk als Vorsitzende und die Hofräte Dr. Vogel, Dr. Jensik, Dr. Musger und Dr. Schwarzenbacher als weitere Richter in der Rechtssache der klagenden Partei ***** Rechtsanwaltskammer, *****, vertreten durch Dr. Bertram Grass und Mag. Christoph Dorner, Rechtsanwälte in Bregenz, gegen die beklagte Partei Arbeiterkammer *****, vertreten durch Forcher-Mayr, Kantner & Ruetz Rechtsanwälte Partnerschaft in Innsbruck, wegen Unterlassung und Urteilsveröffentlichung (Streitwert 35.000 EUR), im Verfahren über die außerordentliche Revision der klagenden Partei gegen das Urteil des Oberlandesgerichts Innsbruck vom 10. März 2011, GZ 2 R 6/11s-20, mit welchem das Urteil des Landesgerichts Feldkirch vom 23. Oktober 2010, GZ 9 Cg 69/09w-13, bestätigt wurde, den Beschluss gefasst: Spruch Die Akten werden dem Berufungsgericht mit dem Auftrag übermittelt, (a) den Bewertungsausspruch dahin zu ergänzen, dass das von der Revision betroffene Teilbegehren gesondert bewertet wird, und (b) gegebenenfalls eine Entscheidung nach § 508 Abs 3 ZPO zu treffen. Text Begründung: Die klagende Rechtsanwaltskammer erhob zwei Unterlassungsbegehren: Einerseits wandte sie sich gegen die Behauptung der beklagten Landes-Arbeiterkammer, die „erste und noch immer einzige Anbieterin für Konsumentenschutz“ im betroffenen Bundesland zu sein; andererseits beanstandete sie, dass die Beklagte in den Rechtsanwaltsvorbehalt (§ 8 Abs 1 und 2 RAO) eingreife, indem sie auch Nichtmitglieder in Fragen des Konsumentenschutzes rechtlich berate und in deren Namen Schreiben an Dritte verfasse. Weiters begehrte die Klägerin die Ermächtigung zur Urteilsveröffentlichung. Das Erstgericht gab dem ersten Unterlassungsbegehren (unrichtige Alleinstellungsbehauptung) statt und ermächtigte die Klägerin insofern zur Urteilsveröffentlichung. Das zweite Unterlassungsbegehren (Eingriff in den Rechtsanwaltsvorbehalt) wies es ab. Das von beiden Seiten angerufene Berufungsgericht bestätigte diese Entscheidung. Es sprach aus, dass der Wert des Entscheidungsgegenstands 30.000 EUR übersteige und die ordentliche Revision nicht zulässig sei. Gegen diese Entscheidung richtet sich die als außerordentlich bezeichnete Revision der Klägerin, die eine stattgebende Entscheidung auch über das zweite Unterlassungsbegehren und eine entsprechende Veröffentlichungsermächtigung anstrebt. Rechtliche Beurteilung Die Akten sind dem Berufungsgericht zur Ergänzung seines Bewertungsausspruchs und zur allfälligen Entscheidung nach § 508 Abs 3 ZPO zu übermitteln. 1. Werden in einer Klage mehrere Forderungen geltend gemacht, dann bilden sie nur dann einen einheitlichen Streitgegenstand - und damit einen einheitlichen Entscheidungsgegenstand des Berufungsgerichts -, wenn die Voraussetzungen des § 55 Abs 1 JN vorliegen; sonst sind sie getrennt zu behandeln (RIS-Justiz RS0053096, RS0037838, RS0042349). 2. Ein tatsächlicher Zusammenhang liegt vor, wenn die Ansprüche aus demselben Klagesachverhalt abgeleitet werden können, wenn also das für einen Anspruch erforderliche Sachvorbringen ausreicht, um auch über den anderen Anspruch ohne ergänzendes weiteres Sachvorbringen entscheiden zu können (RIS-Justiz RS0042766). Ein rechtlicher Zusammenhang liegt etwa dann vor, wenn die Ansprüche aus demselben Vertrag oder derselben Rechtsnorm abgeleitet werden, nicht aber wenn die Ansprüche ein unterschiedliches rechtliches Schicksal haben können (17 Ob 22/10z; 4 Ob 79/10m; vgl RIS-Justiz RS0037899). Ob die Voraussetzungen für eine Zusammenrechnung gegeben sind, ist nach den Klagebehauptungen (Antragsbehauptungen) zu beurteilen (RIS-Justiz RS0042741). 3. Im vorliegenden Fall stützt sich die Klägerin auf zwei Wettbewerbsverstöße der Beklagten. Sie behauptet einerseits eine irreführende Geschäftspraktik iSd § 2 UWG (unrichtige Alleinstellungsbehauptung) und andererseits eine sonstige unlautere Handlung iSd § 1 Abs 1 Z 1 UWG (Rechtsbruch durch Eingriff in den Rechtsanwaltsvorbehalt). Daraus leitet sie zwei voneinander getrennte Unterlassungsansprüche ab. Diese sind auf unterschiedliche Sachverhalte gestützt, ein rechtlicher oder tatsächlicher Zusammenhang ist nicht erkennbar (vgl zu ähnlichen Konstellationen im Lauterkeitsrecht zuletzt 17 Ob 22/10z und 4 Ob 79/10m). Die Ansprüche sind daher nach § 55 Abs 1 JN nicht zusammenzurechnen. Damit hat das Berufungsgericht über von einander getrennte Gegenstände entschieden, die gesondert zu bewerten sind. In diese Bewertung ist jeweils der anteilige Wert des Veröffentlichungsbegehrens einzubeziehen, da dieses Begehren in sachlichem und rechtlichem Zusammenhang mit dem jeweiligen Unterlassungsanspruch steht. 4. Sollte das Berufungsgericht entscheiden, dass der Wert des Entscheidungsgegenstands beim in dritter Instanz allein strittigen (zweiten) Unterlassungsbegehren (Eingriff in den Rechtsanwaltsvorbehalt), unter Einbeziehung des anteiligen Werts des Veröffentlichungsbegehrens, 5.000 EUR nicht übersteigt, wäre die Revision jedenfalls unzulässig. Sollte es zum Ergebnis kommen, dass dieser Wert zwar 5.000 EUR, nicht aber 30.000 EUR übersteigt, wird es weiters zu prüfen haben, ob es die diesbezüglichen Ausführungen der Zulassungsbeschwerde als Antrag nach § 508 Abs 1 ZPO deutet. In diesem Fall wird es über die nachträgliche Zulassung der Revision zu entscheiden haben, sonst wird insofern ein Verbesserungsverfahren einzuleiten sein. Nur die Bewertung des Entscheidungsgegenstands mit mehr als 30.000 EUR müsste zur unmittelbaren Vorlage der außerordentlichen Revision an den Obersten Gerichtshof führen.\n",
            "\n"
          ],
          "name": "stdout"
        }
      ]
    },
    {
      "cell_type": "code",
      "metadata": {
        "id": "N649hc9dAFuU",
        "colab_type": "code",
        "colab": {}
      },
      "source": [
        "!ls -ltar\n"
      ],
      "execution_count": 0,
      "outputs": []
    },
    {
      "cell_type": "code",
      "metadata": {
        "id": "StMIYREXaGuh",
        "colab_type": "code",
        "outputId": "e9c7b287-cbcc-46b7-a365-68ed19307bcc",
        "colab": {
          "base_uri": "https://localhost:8080/",
          "height": 311
        }
      },
      "source": [
        "data_lm = TextDataBunch.from_csv(Path('.'), 'at_court_cases.csv')"
      ],
      "execution_count": 0,
      "outputs": [
        {
          "output_type": "error",
          "ename": "KeyboardInterrupt",
          "evalue": "ignored",
          "traceback": [
            "\u001b[0;31m---------------------------------------------------------------------------\u001b[0m",
            "\u001b[0;31mKeyboardInterrupt\u001b[0m                         Traceback (most recent call last)",
            "\u001b[0;32m<ipython-input-5-858bf9799fe9>\u001b[0m in \u001b[0;36m<module>\u001b[0;34m()\u001b[0m\n\u001b[0;32m----> 1\u001b[0;31m \u001b[0mdata_lm\u001b[0m \u001b[0;34m=\u001b[0m \u001b[0mTextDataBunch\u001b[0m\u001b[0;34m.\u001b[0m\u001b[0mfrom_csv\u001b[0m\u001b[0;34m(\u001b[0m\u001b[0mPath\u001b[0m\u001b[0;34m(\u001b[0m\u001b[0;34m'.'\u001b[0m\u001b[0;34m)\u001b[0m\u001b[0;34m,\u001b[0m \u001b[0;34m'at_court_cases.csv'\u001b[0m\u001b[0;34m)\u001b[0m\u001b[0;34m\u001b[0m\u001b[0;34m\u001b[0m\u001b[0m\n\u001b[0m",
            "\u001b[0;32m/usr/local/lib/python3.6/dist-packages/fastai/text/data.py\u001b[0m in \u001b[0;36mfrom_csv\u001b[0;34m(cls, path, csv_name, valid_pct, test, tokenizer, vocab, classes, delimiter, header, text_cols, label_cols, label_delim, chunksize, max_vocab, min_freq, mark_fields, include_bos, include_eos, **kwargs)\u001b[0m\n\u001b[1;32m    221\u001b[0m                            \u001b[0mlabel_cols\u001b[0m\u001b[0;34m=\u001b[0m\u001b[0mlabel_cols\u001b[0m\u001b[0;34m,\u001b[0m \u001b[0mlabel_delim\u001b[0m\u001b[0;34m=\u001b[0m\u001b[0mlabel_delim\u001b[0m\u001b[0;34m,\u001b[0m \u001b[0mchunksize\u001b[0m\u001b[0;34m=\u001b[0m\u001b[0mchunksize\u001b[0m\u001b[0;34m,\u001b[0m \u001b[0mmax_vocab\u001b[0m\u001b[0;34m=\u001b[0m\u001b[0mmax_vocab\u001b[0m\u001b[0;34m,\u001b[0m\u001b[0;34m\u001b[0m\u001b[0;34m\u001b[0m\u001b[0m\n\u001b[1;32m    222\u001b[0m                            \u001b[0mmin_freq\u001b[0m\u001b[0;34m=\u001b[0m\u001b[0mmin_freq\u001b[0m\u001b[0;34m,\u001b[0m \u001b[0mmark_fields\u001b[0m\u001b[0;34m=\u001b[0m\u001b[0mmark_fields\u001b[0m\u001b[0;34m,\u001b[0m\u001b[0;34m\u001b[0m\u001b[0;34m\u001b[0m\u001b[0m\n\u001b[0;32m--> 223\u001b[0;31m                            include_bos=include_bos, include_eos=include_eos, **kwargs)\n\u001b[0m\u001b[1;32m    224\u001b[0m \u001b[0;34m\u001b[0m\u001b[0m\n\u001b[1;32m    225\u001b[0m     \u001b[0;34m@\u001b[0m\u001b[0mclassmethod\u001b[0m\u001b[0;34m\u001b[0m\u001b[0;34m\u001b[0m\u001b[0m\n",
            "\u001b[0;32m/usr/local/lib/python3.6/dist-packages/fastai/text/data.py\u001b[0m in \u001b[0;36mfrom_df\u001b[0;34m(cls, path, train_df, valid_df, test_df, tokenizer, vocab, classes, text_cols, label_cols, label_delim, chunksize, max_vocab, min_freq, mark_fields, include_bos, include_eos, **kwargs)\u001b[0m\n\u001b[1;32m    202\u001b[0m         \u001b[0;32melse\u001b[0m\u001b[0;34m:\u001b[0m\u001b[0;34m\u001b[0m\u001b[0;34m\u001b[0m\u001b[0m\n\u001b[1;32m    203\u001b[0m             \u001b[0;32mif\u001b[0m \u001b[0mlabel_delim\u001b[0m \u001b[0;32mis\u001b[0m \u001b[0;32mnot\u001b[0m \u001b[0;32mNone\u001b[0m\u001b[0;34m:\u001b[0m \u001b[0msrc\u001b[0m \u001b[0;34m=\u001b[0m \u001b[0msrc\u001b[0m\u001b[0;34m.\u001b[0m\u001b[0mlabel_from_df\u001b[0m\u001b[0;34m(\u001b[0m\u001b[0mcols\u001b[0m\u001b[0;34m=\u001b[0m\u001b[0mlabel_cols\u001b[0m\u001b[0;34m,\u001b[0m \u001b[0mclasses\u001b[0m\u001b[0;34m=\u001b[0m\u001b[0mclasses\u001b[0m\u001b[0;34m,\u001b[0m \u001b[0mlabel_delim\u001b[0m\u001b[0;34m=\u001b[0m\u001b[0mlabel_delim\u001b[0m\u001b[0;34m)\u001b[0m\u001b[0;34m\u001b[0m\u001b[0;34m\u001b[0m\u001b[0m\n\u001b[0;32m--> 204\u001b[0;31m             \u001b[0;32melse\u001b[0m\u001b[0;34m:\u001b[0m \u001b[0msrc\u001b[0m \u001b[0;34m=\u001b[0m \u001b[0msrc\u001b[0m\u001b[0;34m.\u001b[0m\u001b[0mlabel_from_df\u001b[0m\u001b[0;34m(\u001b[0m\u001b[0mcols\u001b[0m\u001b[0;34m=\u001b[0m\u001b[0mlabel_cols\u001b[0m\u001b[0;34m,\u001b[0m \u001b[0mclasses\u001b[0m\u001b[0;34m=\u001b[0m\u001b[0mclasses\u001b[0m\u001b[0;34m)\u001b[0m\u001b[0;34m\u001b[0m\u001b[0;34m\u001b[0m\u001b[0m\n\u001b[0m\u001b[1;32m    205\u001b[0m         \u001b[0;32mif\u001b[0m \u001b[0mtest_df\u001b[0m \u001b[0;32mis\u001b[0m \u001b[0;32mnot\u001b[0m \u001b[0;32mNone\u001b[0m\u001b[0;34m:\u001b[0m \u001b[0msrc\u001b[0m\u001b[0;34m.\u001b[0m\u001b[0madd_test\u001b[0m\u001b[0;34m(\u001b[0m\u001b[0mTextList\u001b[0m\u001b[0;34m.\u001b[0m\u001b[0mfrom_df\u001b[0m\u001b[0;34m(\u001b[0m\u001b[0mtest_df\u001b[0m\u001b[0;34m,\u001b[0m \u001b[0mpath\u001b[0m\u001b[0;34m,\u001b[0m \u001b[0mcols\u001b[0m\u001b[0;34m=\u001b[0m\u001b[0mtext_cols\u001b[0m\u001b[0;34m)\u001b[0m\u001b[0;34m)\u001b[0m\u001b[0;34m\u001b[0m\u001b[0;34m\u001b[0m\u001b[0m\n\u001b[1;32m    206\u001b[0m         \u001b[0;32mreturn\u001b[0m \u001b[0msrc\u001b[0m\u001b[0;34m.\u001b[0m\u001b[0mdatabunch\u001b[0m\u001b[0;34m(\u001b[0m\u001b[0;34m**\u001b[0m\u001b[0mkwargs\u001b[0m\u001b[0;34m)\u001b[0m\u001b[0;34m\u001b[0m\u001b[0;34m\u001b[0m\u001b[0m\n",
            "\u001b[0;32m/usr/local/lib/python3.6/dist-packages/fastai/data_block.py\u001b[0m in \u001b[0;36m_inner\u001b[0;34m(*args, **kwargs)\u001b[0m\n\u001b[1;32m    466\u001b[0m             \u001b[0mself\u001b[0m\u001b[0;34m.\u001b[0m\u001b[0mvalid\u001b[0m \u001b[0;34m=\u001b[0m \u001b[0mfv\u001b[0m\u001b[0;34m(\u001b[0m\u001b[0;34m*\u001b[0m\u001b[0margs\u001b[0m\u001b[0;34m,\u001b[0m \u001b[0mfrom_item_lists\u001b[0m\u001b[0;34m=\u001b[0m\u001b[0;32mTrue\u001b[0m\u001b[0;34m,\u001b[0m \u001b[0;34m**\u001b[0m\u001b[0mkwargs\u001b[0m\u001b[0;34m)\u001b[0m\u001b[0;34m\u001b[0m\u001b[0;34m\u001b[0m\u001b[0m\n\u001b[1;32m    467\u001b[0m             \u001b[0mself\u001b[0m\u001b[0;34m.\u001b[0m\u001b[0m__class__\u001b[0m \u001b[0;34m=\u001b[0m \u001b[0mLabelLists\u001b[0m\u001b[0;34m\u001b[0m\u001b[0;34m\u001b[0m\u001b[0m\n\u001b[0;32m--> 468\u001b[0;31m             \u001b[0mself\u001b[0m\u001b[0;34m.\u001b[0m\u001b[0mprocess\u001b[0m\u001b[0;34m(\u001b[0m\u001b[0;34m)\u001b[0m\u001b[0;34m\u001b[0m\u001b[0;34m\u001b[0m\u001b[0m\n\u001b[0m\u001b[1;32m    469\u001b[0m             \u001b[0;32mreturn\u001b[0m \u001b[0mself\u001b[0m\u001b[0;34m\u001b[0m\u001b[0;34m\u001b[0m\u001b[0m\n\u001b[1;32m    470\u001b[0m         \u001b[0;32mreturn\u001b[0m \u001b[0m_inner\u001b[0m\u001b[0;34m\u001b[0m\u001b[0;34m\u001b[0m\u001b[0m\n",
            "\u001b[0;32m/usr/local/lib/python3.6/dist-packages/fastai/data_block.py\u001b[0m in \u001b[0;36mprocess\u001b[0;34m(self)\u001b[0m\n\u001b[1;32m    520\u001b[0m         \u001b[0;34m\"Process the inner datasets.\"\u001b[0m\u001b[0;34m\u001b[0m\u001b[0;34m\u001b[0m\u001b[0m\n\u001b[1;32m    521\u001b[0m         \u001b[0mxp\u001b[0m\u001b[0;34m,\u001b[0m\u001b[0myp\u001b[0m \u001b[0;34m=\u001b[0m \u001b[0mself\u001b[0m\u001b[0;34m.\u001b[0m\u001b[0mget_processors\u001b[0m\u001b[0;34m(\u001b[0m\u001b[0;34m)\u001b[0m\u001b[0;34m\u001b[0m\u001b[0;34m\u001b[0m\u001b[0m\n\u001b[0;32m--> 522\u001b[0;31m         \u001b[0;32mfor\u001b[0m \u001b[0mds\u001b[0m\u001b[0;34m,\u001b[0m\u001b[0mn\u001b[0m \u001b[0;32min\u001b[0m \u001b[0mzip\u001b[0m\u001b[0;34m(\u001b[0m\u001b[0mself\u001b[0m\u001b[0;34m.\u001b[0m\u001b[0mlists\u001b[0m\u001b[0;34m,\u001b[0m \u001b[0;34m[\u001b[0m\u001b[0;34m'train'\u001b[0m\u001b[0;34m,\u001b[0m\u001b[0;34m'valid'\u001b[0m\u001b[0;34m,\u001b[0m\u001b[0;34m'test'\u001b[0m\u001b[0;34m]\u001b[0m\u001b[0;34m)\u001b[0m\u001b[0;34m:\u001b[0m \u001b[0mds\u001b[0m\u001b[0;34m.\u001b[0m\u001b[0mprocess\u001b[0m\u001b[0;34m(\u001b[0m\u001b[0mxp\u001b[0m\u001b[0;34m,\u001b[0m \u001b[0myp\u001b[0m\u001b[0;34m,\u001b[0m \u001b[0mname\u001b[0m\u001b[0;34m=\u001b[0m\u001b[0mn\u001b[0m\u001b[0;34m)\u001b[0m\u001b[0;34m\u001b[0m\u001b[0;34m\u001b[0m\u001b[0m\n\u001b[0m\u001b[1;32m    523\u001b[0m         \u001b[0;31m#progress_bar clear the outputs so in some case warnings issued during processing disappear.\u001b[0m\u001b[0;34m\u001b[0m\u001b[0;34m\u001b[0m\u001b[0;34m\u001b[0m\u001b[0m\n\u001b[1;32m    524\u001b[0m         \u001b[0;32mfor\u001b[0m \u001b[0mds\u001b[0m \u001b[0;32min\u001b[0m \u001b[0mself\u001b[0m\u001b[0;34m.\u001b[0m\u001b[0mlists\u001b[0m\u001b[0;34m:\u001b[0m\u001b[0;34m\u001b[0m\u001b[0;34m\u001b[0m\u001b[0m\n",
            "\u001b[0;32m/usr/local/lib/python3.6/dist-packages/fastai/data_block.py\u001b[0m in \u001b[0;36mprocess\u001b[0;34m(self, xp, yp, name)\u001b[0m\n\u001b[1;32m    697\u001b[0m                     \u001b[0mp\u001b[0m\u001b[0;34m.\u001b[0m\u001b[0mwarns\u001b[0m \u001b[0;34m=\u001b[0m \u001b[0;34m[\u001b[0m\u001b[0;34m]\u001b[0m\u001b[0;34m\u001b[0m\u001b[0;34m\u001b[0m\u001b[0m\n\u001b[1;32m    698\u001b[0m                 \u001b[0mself\u001b[0m\u001b[0;34m.\u001b[0m\u001b[0mx\u001b[0m\u001b[0;34m,\u001b[0m\u001b[0mself\u001b[0m\u001b[0;34m.\u001b[0m\u001b[0my\u001b[0m \u001b[0;34m=\u001b[0m \u001b[0mself\u001b[0m\u001b[0;34m.\u001b[0m\u001b[0mx\u001b[0m\u001b[0;34m[\u001b[0m\u001b[0;34m~\u001b[0m\u001b[0mfilt\u001b[0m\u001b[0;34m]\u001b[0m\u001b[0;34m,\u001b[0m\u001b[0mself\u001b[0m\u001b[0;34m.\u001b[0m\u001b[0my\u001b[0m\u001b[0;34m[\u001b[0m\u001b[0;34m~\u001b[0m\u001b[0mfilt\u001b[0m\u001b[0;34m]\u001b[0m\u001b[0;34m\u001b[0m\u001b[0;34m\u001b[0m\u001b[0m\n\u001b[0;32m--> 699\u001b[0;31m         \u001b[0mself\u001b[0m\u001b[0;34m.\u001b[0m\u001b[0mx\u001b[0m\u001b[0;34m.\u001b[0m\u001b[0mprocess\u001b[0m\u001b[0;34m(\u001b[0m\u001b[0mxp\u001b[0m\u001b[0;34m)\u001b[0m\u001b[0;34m\u001b[0m\u001b[0;34m\u001b[0m\u001b[0m\n\u001b[0m\u001b[1;32m    700\u001b[0m         \u001b[0;32mreturn\u001b[0m \u001b[0mself\u001b[0m\u001b[0;34m\u001b[0m\u001b[0;34m\u001b[0m\u001b[0m\n\u001b[1;32m    701\u001b[0m \u001b[0;34m\u001b[0m\u001b[0m\n",
            "\u001b[0;32m/usr/local/lib/python3.6/dist-packages/fastai/data_block.py\u001b[0m in \u001b[0;36mprocess\u001b[0;34m(self, processor)\u001b[0m\n\u001b[1;32m     73\u001b[0m         \u001b[0;32mif\u001b[0m \u001b[0mprocessor\u001b[0m \u001b[0;32mis\u001b[0m \u001b[0;32mnot\u001b[0m \u001b[0;32mNone\u001b[0m\u001b[0;34m:\u001b[0m \u001b[0mself\u001b[0m\u001b[0;34m.\u001b[0m\u001b[0mprocessor\u001b[0m \u001b[0;34m=\u001b[0m \u001b[0mprocessor\u001b[0m\u001b[0;34m\u001b[0m\u001b[0;34m\u001b[0m\u001b[0m\n\u001b[1;32m     74\u001b[0m         \u001b[0mself\u001b[0m\u001b[0;34m.\u001b[0m\u001b[0mprocessor\u001b[0m \u001b[0;34m=\u001b[0m \u001b[0mlistify\u001b[0m\u001b[0;34m(\u001b[0m\u001b[0mself\u001b[0m\u001b[0;34m.\u001b[0m\u001b[0mprocessor\u001b[0m\u001b[0;34m)\u001b[0m\u001b[0;34m\u001b[0m\u001b[0;34m\u001b[0m\u001b[0m\n\u001b[0;32m---> 75\u001b[0;31m         \u001b[0;32mfor\u001b[0m \u001b[0mp\u001b[0m \u001b[0;32min\u001b[0m \u001b[0mself\u001b[0m\u001b[0;34m.\u001b[0m\u001b[0mprocessor\u001b[0m\u001b[0;34m:\u001b[0m \u001b[0mp\u001b[0m\u001b[0;34m.\u001b[0m\u001b[0mprocess\u001b[0m\u001b[0;34m(\u001b[0m\u001b[0mself\u001b[0m\u001b[0;34m)\u001b[0m\u001b[0;34m\u001b[0m\u001b[0;34m\u001b[0m\u001b[0m\n\u001b[0m\u001b[1;32m     76\u001b[0m         \u001b[0;32mreturn\u001b[0m \u001b[0mself\u001b[0m\u001b[0;34m\u001b[0m\u001b[0;34m\u001b[0m\u001b[0m\n\u001b[1;32m     77\u001b[0m \u001b[0;34m\u001b[0m\u001b[0m\n",
            "\u001b[0;32m/usr/local/lib/python3.6/dist-packages/fastai/text/data.py\u001b[0m in \u001b[0;36mprocess\u001b[0;34m(self, ds)\u001b[0m\n\u001b[1;32m    293\u001b[0m         \u001b[0mtokens\u001b[0m \u001b[0;34m=\u001b[0m \u001b[0;34m[\u001b[0m\u001b[0;34m]\u001b[0m\u001b[0;34m\u001b[0m\u001b[0;34m\u001b[0m\u001b[0m\n\u001b[1;32m    294\u001b[0m         \u001b[0;32mfor\u001b[0m \u001b[0mi\u001b[0m \u001b[0;32min\u001b[0m \u001b[0mprogress_bar\u001b[0m\u001b[0;34m(\u001b[0m\u001b[0mrange\u001b[0m\u001b[0;34m(\u001b[0m\u001b[0;36m0\u001b[0m\u001b[0;34m,\u001b[0m\u001b[0mlen\u001b[0m\u001b[0;34m(\u001b[0m\u001b[0mds\u001b[0m\u001b[0;34m)\u001b[0m\u001b[0;34m,\u001b[0m\u001b[0mself\u001b[0m\u001b[0;34m.\u001b[0m\u001b[0mchunksize\u001b[0m\u001b[0;34m)\u001b[0m\u001b[0;34m,\u001b[0m \u001b[0mleave\u001b[0m\u001b[0;34m=\u001b[0m\u001b[0;32mFalse\u001b[0m\u001b[0;34m)\u001b[0m\u001b[0;34m:\u001b[0m\u001b[0;34m\u001b[0m\u001b[0;34m\u001b[0m\u001b[0m\n\u001b[0;32m--> 295\u001b[0;31m             \u001b[0mtokens\u001b[0m \u001b[0;34m+=\u001b[0m \u001b[0mself\u001b[0m\u001b[0;34m.\u001b[0m\u001b[0mtokenizer\u001b[0m\u001b[0;34m.\u001b[0m\u001b[0mprocess_all\u001b[0m\u001b[0;34m(\u001b[0m\u001b[0mds\u001b[0m\u001b[0;34m.\u001b[0m\u001b[0mitems\u001b[0m\u001b[0;34m[\u001b[0m\u001b[0mi\u001b[0m\u001b[0;34m:\u001b[0m\u001b[0mi\u001b[0m\u001b[0;34m+\u001b[0m\u001b[0mself\u001b[0m\u001b[0;34m.\u001b[0m\u001b[0mchunksize\u001b[0m\u001b[0;34m]\u001b[0m\u001b[0;34m)\u001b[0m\u001b[0;34m\u001b[0m\u001b[0;34m\u001b[0m\u001b[0m\n\u001b[0m\u001b[1;32m    296\u001b[0m         \u001b[0mds\u001b[0m\u001b[0;34m.\u001b[0m\u001b[0mitems\u001b[0m \u001b[0;34m=\u001b[0m \u001b[0mtokens\u001b[0m\u001b[0;34m\u001b[0m\u001b[0;34m\u001b[0m\u001b[0m\n\u001b[1;32m    297\u001b[0m \u001b[0;34m\u001b[0m\u001b[0m\n",
            "\u001b[0;32m/usr/local/lib/python3.6/dist-packages/fastai/text/transform.py\u001b[0m in \u001b[0;36mprocess_all\u001b[0;34m(self, texts)\u001b[0m\n\u001b[1;32m    118\u001b[0m         \u001b[0;32mif\u001b[0m \u001b[0mself\u001b[0m\u001b[0;34m.\u001b[0m\u001b[0mn_cpus\u001b[0m \u001b[0;34m<=\u001b[0m \u001b[0;36m1\u001b[0m\u001b[0;34m:\u001b[0m \u001b[0;32mreturn\u001b[0m \u001b[0mself\u001b[0m\u001b[0;34m.\u001b[0m\u001b[0m_process_all_1\u001b[0m\u001b[0;34m(\u001b[0m\u001b[0mtexts\u001b[0m\u001b[0;34m)\u001b[0m\u001b[0;34m\u001b[0m\u001b[0;34m\u001b[0m\u001b[0m\n\u001b[1;32m    119\u001b[0m         \u001b[0;32mwith\u001b[0m \u001b[0mProcessPoolExecutor\u001b[0m\u001b[0;34m(\u001b[0m\u001b[0mself\u001b[0m\u001b[0;34m.\u001b[0m\u001b[0mn_cpus\u001b[0m\u001b[0;34m)\u001b[0m \u001b[0;32mas\u001b[0m \u001b[0me\u001b[0m\u001b[0;34m:\u001b[0m\u001b[0;34m\u001b[0m\u001b[0;34m\u001b[0m\u001b[0m\n\u001b[0;32m--> 120\u001b[0;31m             \u001b[0;32mreturn\u001b[0m \u001b[0msum\u001b[0m\u001b[0;34m(\u001b[0m\u001b[0me\u001b[0m\u001b[0;34m.\u001b[0m\u001b[0mmap\u001b[0m\u001b[0;34m(\u001b[0m\u001b[0mself\u001b[0m\u001b[0;34m.\u001b[0m\u001b[0m_process_all_1\u001b[0m\u001b[0;34m,\u001b[0m \u001b[0mpartition_by_cores\u001b[0m\u001b[0;34m(\u001b[0m\u001b[0mtexts\u001b[0m\u001b[0;34m,\u001b[0m \u001b[0mself\u001b[0m\u001b[0;34m.\u001b[0m\u001b[0mn_cpus\u001b[0m\u001b[0;34m)\u001b[0m\u001b[0;34m)\u001b[0m\u001b[0;34m,\u001b[0m \u001b[0;34m[\u001b[0m\u001b[0;34m]\u001b[0m\u001b[0;34m)\u001b[0m\u001b[0;34m\u001b[0m\u001b[0;34m\u001b[0m\u001b[0m\n\u001b[0m\u001b[1;32m    121\u001b[0m \u001b[0;34m\u001b[0m\u001b[0m\n\u001b[1;32m    122\u001b[0m \u001b[0;32mclass\u001b[0m \u001b[0mVocab\u001b[0m\u001b[0;34m(\u001b[0m\u001b[0;34m)\u001b[0m\u001b[0;34m:\u001b[0m\u001b[0;34m\u001b[0m\u001b[0;34m\u001b[0m\u001b[0m\n",
            "\u001b[0;32m/usr/lib/python3.6/concurrent/futures/process.py\u001b[0m in \u001b[0;36m_chain_from_iterable_of_lists\u001b[0;34m(iterable)\u001b[0m\n\u001b[1;32m    364\u001b[0m     \u001b[0mcareful\u001b[0m \u001b[0;32mnot\u001b[0m \u001b[0mto\u001b[0m \u001b[0mkeep\u001b[0m \u001b[0mreferences\u001b[0m \u001b[0mto\u001b[0m \u001b[0myielded\u001b[0m \u001b[0mobjects\u001b[0m\u001b[0;34m.\u001b[0m\u001b[0;34m\u001b[0m\u001b[0;34m\u001b[0m\u001b[0m\n\u001b[1;32m    365\u001b[0m     \"\"\"\n\u001b[0;32m--> 366\u001b[0;31m     \u001b[0;32mfor\u001b[0m \u001b[0melement\u001b[0m \u001b[0;32min\u001b[0m \u001b[0miterable\u001b[0m\u001b[0;34m:\u001b[0m\u001b[0;34m\u001b[0m\u001b[0;34m\u001b[0m\u001b[0m\n\u001b[0m\u001b[1;32m    367\u001b[0m         \u001b[0melement\u001b[0m\u001b[0;34m.\u001b[0m\u001b[0mreverse\u001b[0m\u001b[0;34m(\u001b[0m\u001b[0;34m)\u001b[0m\u001b[0;34m\u001b[0m\u001b[0;34m\u001b[0m\u001b[0m\n\u001b[1;32m    368\u001b[0m         \u001b[0;32mwhile\u001b[0m \u001b[0melement\u001b[0m\u001b[0;34m:\u001b[0m\u001b[0;34m\u001b[0m\u001b[0;34m\u001b[0m\u001b[0m\n",
            "\u001b[0;32m/usr/lib/python3.6/concurrent/futures/_base.py\u001b[0m in \u001b[0;36mresult_iterator\u001b[0;34m()\u001b[0m\n\u001b[1;32m    584\u001b[0m                     \u001b[0;31m# Careful not to keep a reference to the popped future\u001b[0m\u001b[0;34m\u001b[0m\u001b[0;34m\u001b[0m\u001b[0;34m\u001b[0m\u001b[0m\n\u001b[1;32m    585\u001b[0m                     \u001b[0;32mif\u001b[0m \u001b[0mtimeout\u001b[0m \u001b[0;32mis\u001b[0m \u001b[0;32mNone\u001b[0m\u001b[0;34m:\u001b[0m\u001b[0;34m\u001b[0m\u001b[0;34m\u001b[0m\u001b[0m\n\u001b[0;32m--> 586\u001b[0;31m                         \u001b[0;32myield\u001b[0m \u001b[0mfs\u001b[0m\u001b[0;34m.\u001b[0m\u001b[0mpop\u001b[0m\u001b[0;34m(\u001b[0m\u001b[0;34m)\u001b[0m\u001b[0;34m.\u001b[0m\u001b[0mresult\u001b[0m\u001b[0;34m(\u001b[0m\u001b[0;34m)\u001b[0m\u001b[0;34m\u001b[0m\u001b[0;34m\u001b[0m\u001b[0m\n\u001b[0m\u001b[1;32m    587\u001b[0m                     \u001b[0;32melse\u001b[0m\u001b[0;34m:\u001b[0m\u001b[0;34m\u001b[0m\u001b[0;34m\u001b[0m\u001b[0m\n\u001b[1;32m    588\u001b[0m                         \u001b[0;32myield\u001b[0m \u001b[0mfs\u001b[0m\u001b[0;34m.\u001b[0m\u001b[0mpop\u001b[0m\u001b[0;34m(\u001b[0m\u001b[0;34m)\u001b[0m\u001b[0;34m.\u001b[0m\u001b[0mresult\u001b[0m\u001b[0;34m(\u001b[0m\u001b[0mend_time\u001b[0m \u001b[0;34m-\u001b[0m \u001b[0mtime\u001b[0m\u001b[0;34m.\u001b[0m\u001b[0mmonotonic\u001b[0m\u001b[0;34m(\u001b[0m\u001b[0;34m)\u001b[0m\u001b[0;34m)\u001b[0m\u001b[0;34m\u001b[0m\u001b[0;34m\u001b[0m\u001b[0m\n",
            "\u001b[0;32m/usr/lib/python3.6/concurrent/futures/_base.py\u001b[0m in \u001b[0;36mresult\u001b[0;34m(self, timeout)\u001b[0m\n\u001b[1;32m    425\u001b[0m                 \u001b[0;32mreturn\u001b[0m \u001b[0mself\u001b[0m\u001b[0;34m.\u001b[0m\u001b[0m__get_result\u001b[0m\u001b[0;34m(\u001b[0m\u001b[0;34m)\u001b[0m\u001b[0;34m\u001b[0m\u001b[0;34m\u001b[0m\u001b[0m\n\u001b[1;32m    426\u001b[0m \u001b[0;34m\u001b[0m\u001b[0m\n\u001b[0;32m--> 427\u001b[0;31m             \u001b[0mself\u001b[0m\u001b[0;34m.\u001b[0m\u001b[0m_condition\u001b[0m\u001b[0;34m.\u001b[0m\u001b[0mwait\u001b[0m\u001b[0;34m(\u001b[0m\u001b[0mtimeout\u001b[0m\u001b[0;34m)\u001b[0m\u001b[0;34m\u001b[0m\u001b[0;34m\u001b[0m\u001b[0m\n\u001b[0m\u001b[1;32m    428\u001b[0m \u001b[0;34m\u001b[0m\u001b[0m\n\u001b[1;32m    429\u001b[0m             \u001b[0;32mif\u001b[0m \u001b[0mself\u001b[0m\u001b[0;34m.\u001b[0m\u001b[0m_state\u001b[0m \u001b[0;32min\u001b[0m \u001b[0;34m[\u001b[0m\u001b[0mCANCELLED\u001b[0m\u001b[0;34m,\u001b[0m \u001b[0mCANCELLED_AND_NOTIFIED\u001b[0m\u001b[0;34m]\u001b[0m\u001b[0;34m:\u001b[0m\u001b[0;34m\u001b[0m\u001b[0;34m\u001b[0m\u001b[0m\n",
            "\u001b[0;32m/usr/lib/python3.6/threading.py\u001b[0m in \u001b[0;36mwait\u001b[0;34m(self, timeout)\u001b[0m\n\u001b[1;32m    293\u001b[0m         \u001b[0;32mtry\u001b[0m\u001b[0;34m:\u001b[0m    \u001b[0;31m# restore state no matter what (e.g., KeyboardInterrupt)\u001b[0m\u001b[0;34m\u001b[0m\u001b[0;34m\u001b[0m\u001b[0m\n\u001b[1;32m    294\u001b[0m             \u001b[0;32mif\u001b[0m \u001b[0mtimeout\u001b[0m \u001b[0;32mis\u001b[0m \u001b[0;32mNone\u001b[0m\u001b[0;34m:\u001b[0m\u001b[0;34m\u001b[0m\u001b[0;34m\u001b[0m\u001b[0m\n\u001b[0;32m--> 295\u001b[0;31m                 \u001b[0mwaiter\u001b[0m\u001b[0;34m.\u001b[0m\u001b[0macquire\u001b[0m\u001b[0;34m(\u001b[0m\u001b[0;34m)\u001b[0m\u001b[0;34m\u001b[0m\u001b[0;34m\u001b[0m\u001b[0m\n\u001b[0m\u001b[1;32m    296\u001b[0m                 \u001b[0mgotit\u001b[0m \u001b[0;34m=\u001b[0m \u001b[0;32mTrue\u001b[0m\u001b[0;34m\u001b[0m\u001b[0;34m\u001b[0m\u001b[0m\n\u001b[1;32m    297\u001b[0m             \u001b[0;32melse\u001b[0m\u001b[0;34m:\u001b[0m\u001b[0;34m\u001b[0m\u001b[0;34m\u001b[0m\u001b[0m\n",
            "\u001b[0;31mKeyboardInterrupt\u001b[0m: "
          ]
        }
      ]
    },
    {
      "cell_type": "code",
      "metadata": {
        "id": "QsOKlcOIaGyO",
        "colab_type": "code",
        "colab": {}
      },
      "source": [
        "#data_lm.save()\n",
        "#!ls\n"
      ],
      "execution_count": 0,
      "outputs": []
    },
    {
      "cell_type": "code",
      "metadata": {
        "id": "kAHj8bf_aG1l",
        "colab_type": "code",
        "colab": {}
      },
      "source": [
        "#path = Path('.')\n",
        "#data = load_data(path)"
      ],
      "execution_count": 0,
      "outputs": []
    },
    {
      "cell_type": "code",
      "metadata": {
        "id": "FlEn2Tf8VVtF",
        "colab_type": "code",
        "outputId": "05bdfd61-768f-482d-cc77-7571cba6f398",
        "colab": {
          "base_uri": "https://localhost:8080/",
          "height": 460
        }
      },
      "source": [
        "#path = Path('.')\n",
        "#data = TextClasDataBunch.from_csv(path, 'at_court_cases.csv')\n",
        "#data.show_batch()"
      ],
      "execution_count": 0,
      "outputs": [
        {
          "output_type": "display_data",
          "data": {
            "text/html": [
              "<table border=\"1\" class=\"dataframe\">\n",
              "  <thead>\n",
              "    <tr style=\"text-align: right;\">\n",
              "      <th>text</th>\n",
              "      <th>target</th>\n",
              "    </tr>\n",
              "  </thead>\n",
              "  <tbody>\n",
              "    <tr>\n",
              "      <td>xxbos xxmaj gericht xxup ogh xxmaj entscheidungsdatum xxunk xxmaj geschäftszahl xxunk / 09z xxmaj kopf xxmaj der xxmaj oberste xxmaj gerichtshof hat am 23 .   xxmaj dezember   2010 durch den xxmaj hofrat des xxmaj obersten xxmaj gerichtshofs xxmaj dr.   xxmaj lässig als xxmaj vorsitzenden , die xxmaj hofrätin des xxmaj obersten xxmaj gerichtshofs xxmaj mag .   xxmaj hetlinger , den xxmaj hofrat des xxmaj obersten xxmaj</td>\n",
              "      <td>__label__strafrecht</td>\n",
              "    </tr>\n",
              "    <tr>\n",
              "      <td>xxbos xxmaj gericht xxup ogh xxmaj entscheidungsdatum 23.04.2014 xxmaj geschäftszahl 13os55 / 13 g ( 13os56 / 13d ) xxmaj kopf xxmaj der xxmaj oberste xxmaj gerichtshof hat am 23 .   xxmaj april   2014 durch den xxmaj senatspräsidenten des xxmaj obersten xxmaj gerichtshofs xxmaj hon .- xxmaj prof .   xxmaj dr.   xxmaj kirchbacher als xxmaj vorsitzenden , den xxmaj hofrat des xxmaj obersten xxmaj gerichtshofs xxmaj</td>\n",
              "      <td>__label__strafrecht</td>\n",
              "    </tr>\n",
              "    <tr>\n",
              "      <td>xxbos xxmaj gericht xxup ogh xxmaj entscheidungsdatum xxunk xxmaj geschäftszahl xxunk / 11f xxmaj kopf xxmaj der xxmaj oberste xxmaj gerichtshof hat als xxmaj revisionsgericht durch den xxmaj senatspräsidenten xxmaj hon .- xxmaj prof .   xxmaj dr.   xxmaj sailer als xxmaj vorsitzenden sowie die xxmaj hofräte xxmaj univ .- xxmaj prof .   xxmaj dr.   xxmaj bydlinski , xxmaj dr.   xxmaj grohmann , xxmaj mag .</td>\n",
              "      <td>__label__handelsrecht</td>\n",
              "    </tr>\n",
              "    <tr>\n",
              "      <td>xxbos xxmaj gericht xxup ogh xxmaj entscheidungsdatum xxunk xxmaj geschäftszahl xxunk / 11f xxmaj kopf xxmaj der xxmaj oberste xxmaj gerichtshof hat als xxmaj revisionsgericht durch den xxmaj senatspräsidenten xxmaj hon .- xxmaj prof .   xxmaj dr.   xxmaj sailer als xxmaj vorsitzenden sowie die xxmaj hofräte xxmaj univ .- xxmaj prof .   xxmaj dr.   xxmaj bydlinski , xxmaj dr.   xxmaj grohmann , xxmaj mag .</td>\n",
              "      <td>__label__konsumentenschutz</td>\n",
              "    </tr>\n",
              "    <tr>\n",
              "      <td>xxbos xxmaj gericht xxup ogh xxmaj entscheidungsdatum 17.02.2011 xxmaj geschäftszahl 13os12 / 10d xxmaj kopf xxmaj der xxmaj oberste xxmaj gerichtshof hat am 17 .   xxmaj februar   2011 durch den xxmaj senatspräsidenten des xxmaj obersten xxmaj gerichtshofs xxmaj hon .- xxmaj prof .   xxmaj dr.   xxmaj ratz als xxmaj vorsitzenden sowie durch die xxmaj hofräte des xxmaj obersten xxmaj gerichtshofs xxmaj hon .- xxmaj prof .</td>\n",
              "      <td>__label__strafrecht</td>\n",
              "    </tr>\n",
              "  </tbody>\n",
              "</table>"
            ],
            "text/plain": [
              "<IPython.core.display.HTML object>"
            ]
          },
          "metadata": {
            "tags": []
          }
        }
      ]
    },
    {
      "cell_type": "code",
      "metadata": {
        "id": "tB1OBcs8VV97",
        "colab_type": "code",
        "outputId": "bfc54ebf-e4e8-46cd-8435-8eda57bed149",
        "colab": {
          "base_uri": "https://localhost:8080/",
          "height": 3446
        }
      },
      "source": [
        "#data.vocab.itos[:200]"
      ],
      "execution_count": 0,
      "outputs": [
        {
          "output_type": "execute_result",
          "data": {
            "text/plain": [
              "['xxunk',\n",
              " 'xxpad',\n",
              " 'xxbos',\n",
              " 'xxeos',\n",
              " 'xxfld',\n",
              " 'xxmaj',\n",
              " 'xxup',\n",
              " 'xxrep',\n",
              " 'xxwrep',\n",
              " '\\xa0',\n",
              " ',',\n",
              " '.',\n",
              " 'der',\n",
              " 'die',\n",
              " 'des',\n",
              " 'und',\n",
              " ')',\n",
              " '(',\n",
              " 'in',\n",
              " '§',\n",
              " '/',\n",
              " '-',\n",
              " '5',\n",
              " 'den',\n",
              " 'nicht',\n",
              " 'zu',\n",
              " 'i',\n",
              " 'm',\n",
              " '*',\n",
              " 'abs',\n",
              " 'das',\n",
              " '1',\n",
              " 'von',\n",
              " 'dem',\n",
              " 'auf',\n",
              " 'mit',\n",
              " 'nach',\n",
              " 'als',\n",
              " ';',\n",
              " 'ist',\n",
              " 'für',\n",
              " 'eine',\n",
              " 'dass',\n",
              " 'auch',\n",
              " ':',\n",
              " 'durch',\n",
              " '2',\n",
              " 'einer',\n",
              " 'zur',\n",
              " 'vom',\n",
              " 'sich',\n",
              " '„',\n",
              " '“',\n",
              " 'z',\n",
              " 'dr.',\n",
              " 'ein',\n",
              " 'über',\n",
              " 'aus',\n",
              " 'gegen',\n",
              " 'an',\n",
              " 'sei',\n",
              " 'oder',\n",
              " 'stpo',\n",
              " '3',\n",
              " 'hat',\n",
              " 'bei',\n",
              " 'ob',\n",
              " 'es',\n",
              " 'justiz',\n",
              " 'ris',\n",
              " 'werden',\n",
              " 'sie',\n",
              " 'am',\n",
              " 'er',\n",
              " 'eines',\n",
              " '4',\n",
              " 'nur',\n",
              " 'wird',\n",
              " 'fall',\n",
              " 's',\n",
              " 'ogh',\n",
              " 'zum',\n",
              " 'stgb',\n",
              " 'wurde',\n",
              " 'rz',\n",
              " 'einen',\n",
              " 'vgl',\n",
              " 'sowie',\n",
              " 'angeklagten',\n",
              " 'einem',\n",
              " 'obersten',\n",
              " 'beklagten',\n",
              " 'partei',\n",
              " 'entscheidung',\n",
              " '\\xa0 ',\n",
              " 'diese',\n",
              " 'unter',\n",
              " '10',\n",
              " 'habe',\n",
              " 'wenn',\n",
              " 'urteil',\n",
              " 'keine',\n",
              " 'gerichtshofs',\n",
              " '9',\n",
              " 'on',\n",
              " 'daher',\n",
              " 'wegen',\n",
              " 'vor',\n",
              " 'us',\n",
              " 'war',\n",
              " 'mag',\n",
              " 'dieser',\n",
              " '6',\n",
              " 'kläger',\n",
              " ']',\n",
              " '[',\n",
              " 'eur',\n",
              " 'aber',\n",
              " 'klägerin',\n",
              " 'beklagte',\n",
              " 'beschluss',\n",
              " 'gemäß',\n",
              " 'wie',\n",
              " 'sind',\n",
              " 'gerichtshof',\n",
              " 'bis',\n",
              " 'gericht',\n",
              " 'weil',\n",
              " 'a',\n",
              " '11',\n",
              " 'te',\n",
              " 'wien',\n",
              " '7',\n",
              " '12',\n",
              " 'nichtigkeitsbeschwerde',\n",
              " 'kann',\n",
              " 'beurteilung',\n",
              " '8',\n",
              " 'revision',\n",
              " 'zpo',\n",
              " 'b',\n",
              " 'berufung',\n",
              " 'um',\n",
              " 'erstgericht',\n",
              " 'f',\n",
              " 'oberste',\n",
              " 'noch',\n",
              " 'bereits',\n",
              " 'gz',\n",
              " 'art',\n",
              " '15',\n",
              " 'berufungsgericht',\n",
              " 'geschäftszahl',\n",
              " 'entscheidungsdatum',\n",
              " '\\n ',\n",
              " 'diesem',\n",
              " 'seiner',\n",
              " '2011',\n",
              " 'sein',\n",
              " 'ohne',\n",
              " 'rechtliche',\n",
              " 'hier',\n",
              " '2010',\n",
              " 'verfahren',\n",
              " 'zweiter',\n",
              " 'euro',\n",
              " 'weitere',\n",
              " 'damit',\n",
              " 'feststellungen',\n",
              " 'worden',\n",
              " '281',\n",
              " 'landesgerichts',\n",
              " '14',\n",
              " 'ab',\n",
              " 'ihm',\n",
              " '13',\n",
              " 'spruch',\n",
              " 'haben',\n",
              " '2012',\n",
              " 'g',\n",
              " '–',\n",
              " 'sondern',\n",
              " 'kopf',\n",
              " 'lit',\n",
              " 'vertreten',\n",
              " 'folge',\n",
              " 'ihr',\n",
              " 'dann',\n",
              " 'vorsitzenden',\n",
              " 'erster',\n",
              " 'recht',\n",
              " 'gmbh',\n",
              " '2009',\n",
              " 'deren',\n",
              " '2013',\n",
              " 'begründung',\n",
              " 'satz',\n",
              " 'zwischen',\n",
              " 'dieses',\n",
              " 'ihrer']"
            ]
          },
          "metadata": {
            "tags": []
          },
          "execution_count": 9
        }
      ]
    },
    {
      "cell_type": "code",
      "metadata": {
        "id": "__POeKuUVWA5",
        "colab_type": "code",
        "outputId": "8f1522e2-e4bb-4f89-f092-11994538b4c5",
        "colab": {
          "base_uri": "https://localhost:8080/",
          "height": 71
        }
      },
      "source": [
        "#data.train_ds[0][0]"
      ],
      "execution_count": 0,
      "outputs": [
        {
          "output_type": "execute_result",
          "data": {
            "text/plain": [
              "Text xxbos xxmaj gericht xxup ogh xxmaj entscheidungsdatum 28.04.2015 xxmaj geschäftszahl 8oba33 / 15h xxmaj kopf xxmaj der xxmaj oberste xxmaj gerichtshof hat als xxmaj revisionsgericht in xxmaj arbeits- und xxmaj sozialrechtssachen durch den xxmaj vizepräsidenten xxmaj prof .   xxmaj dr.   xxmaj spenling als xxmaj vorsitzenden , die xxmaj hofrätin xxmaj dr.   xxmaj tarmann - xxmaj prentner und den xxmaj hofrat xxmaj mag .   xxmaj ziegelbauer als weitere xxmaj richter sowie die fachkundigen xxmaj laienrichter xxmaj mag .   xxmaj andreas xxmaj mörk und xxmaj mag .   xxmaj matthias xxmaj schachner in der xxmaj arbeitsrechtssache der klagenden xxmaj partei w xxrep 5 * d xxrep 5 * , vertreten durch xxmaj dr.   xxmaj kurt xxmaj fassl , xxmaj rechtsanwalt in xxmaj graz , gegen die beklagte xxmaj partei c xxrep 5 * xxup kg , xxrep 5 * , vertreten durch xxmaj neger / xxmaj ulm xxmaj rechtsanwälte   xxup og in xxmaj graz , wegen xxunk   xxup eur   sa ( xxmaj revisionsinteresse ) , über die außerordentliche xxmaj revision der klagenden xxmaj partei gegen das xxmaj urteil des xxmaj oberlandesgerichts xxmaj graz als xxmaj berufungsgericht in xxmaj arbeits- und xxmaj sozialrechtssachen vom 20 .   xxmaj februar   2015 , xxup gz   7   xxmaj ra   79 / xxunk , in nichtöffentlicher xxmaj sitzung den xxmaj beschluss gefasst : xxmaj spruch xxmaj die xxmaj revision wird gemäß §   2   xxup asgg , §   508a xxmaj abs   2 xxup zpo mangels der xxmaj voraussetzungen des §   502 xxmaj abs   1 xxup zpo zurückgewiesen ( §   510 xxmaj abs   3 xxup zpo ) . xxmaj begründung : xxmaj rechtliche xxmaj beurteilung xxmaj ob die xxmaj voraussetzungen für eine gerechtfertigte vorzeitige xxmaj auflösung des xxmaj dienstverhältnisses vorliegen , kann immer nur aufgrund der xxmaj umstände des xxmaj einzelfalls beurteilt werden ( xxup ris - xxmaj justiz xxup rs0106298 ) . xxmaj mangels einer über den xxmaj anlass hinausreichenden xxmaj aussagekraft von xxmaj einzelfallentscheidungen steht die xxmaj revision zu ihrer xxmaj überprüfung nach §   502 xxmaj abs   1 xxup zpo nicht offen , es sei denn , dem xxmaj berufungsgericht wäre bei seiner xxmaj entscheidung eine krasse xxmaj fehlbeurteilung unterlaufen , die ausnahmsweise zur xxmaj wahrung der xxmaj rechtssicherheit einer xxmaj korrektur bedürfte . xxmaj diese xxmaj voraussetzungen zeigt die xxmaj revision nicht auf . xxmaj nicht jede , sondern nur eine wesentliche xxmaj vertragsverletzung berechtigt den xxmaj angestellten nach §   26 z   2 angg zum xxmaj austritt ; wesentlich ist aber eine xxmaj vertragsverletzung nur dann , wenn dem xxmaj angestellten die weitere xxmaj aufrechterhaltung des xxmaj dienstverhältnisses nicht zugemutet werden kann ( xxup ris - xxmaj justiz xxup xxunk ; xxmaj pfeil in zellkomm² §   26   angg xxmaj rz   34 ua ) . xxmaj fest steht hier , dass die xxmaj beklagte mit der xxmaj festlegung der näheren xxmaj bedingungen für eine dem xxmaj kläger in xxmaj aussicht gestellte „ xxmaj xxunk “ säumig war . xxmaj dies wurde vom xxmaj kläger zwar wiederholt kritisiert , aber zwei xxmaj jahre lang nicht zum xxmaj anlass für rechtliche xxmaj konsequenzen genommen . i m xxmaj september   2013 nahmen die xxmaj streitteile konkrete xxmaj verhandlungen über eine xxmaj neuregelung und xxmaj erhöhung des xxmaj entgelts des xxmaj klägers auf , erzielten aber keine xxmaj einigung . xxmaj noch vor endgültigem xxmaj abschluss dieser xxmaj verhandlungen , ohne vorherige xxmaj androhung und nur vier xxmaj tage vor einem vom urlaubsbedingt abwesenden xxmaj geschäftsführer bereits angekündigten xxmaj xxunk zur xxmaj klärung der xxmaj xxunk trat der xxmaj kläger vorzeitig aus . xxmaj wenn die xxmaj vorinstanzen bei diesem xxmaj sachverhalt davon ausgegangen sind , dass dem xxmaj kläger eine xxmaj fortsetzung des xxmaj dienstverhältnisses angesichts der laufenden xxmaj verhandlungen noch nicht unzumutbar war , ist dies nicht unvertretbar . xxmaj es stellt aber auch keine korrekturbedürftige xxmaj fehlbeurteilung dar , dass   -   würde man die xxmaj unzumutbarkeit doch bejahen   -   ein berechtigter xxmaj austritt in der gegebenen xxmaj situation der xxmaj androhung und xxmaj setzung einer den xxmaj umständen nach angemessenen xxmaj nachfrist bedurft hätte . xxmaj european xxmaj case xxmaj law xxmaj identifier xxup ecli : xxup at : xxup xxunk \n",
              " "
            ]
          },
          "metadata": {
            "tags": []
          },
          "execution_count": 10
        }
      ]
    },
    {
      "cell_type": "code",
      "metadata": {
        "id": "LL7smcIxVWEE",
        "colab_type": "code",
        "outputId": "ac70aefc-7931-4700-c8e7-49cb37e26e50",
        "colab": {
          "base_uri": "https://localhost:8080/",
          "height": 34
        }
      },
      "source": [
        "#data.train_ds[0][0].data[:10]\n"
      ],
      "execution_count": 0,
      "outputs": [
        {
          "output_type": "execute_result",
          "data": {
            "text/plain": [
              "array([    2,     5,   126,     6,    80,     5,   153, 14691,     5,   152])"
            ]
          },
          "metadata": {
            "tags": []
          },
          "execution_count": 11
        }
      ]
    },
    {
      "cell_type": "code",
      "metadata": {
        "id": "AAitbiDAVWHK",
        "colab_type": "code",
        "colab": {}
      },
      "source": [
        "#data = (TextList.from_csv(path, 'at_court_cases.csv', cols='text')\n",
        "#                .split_from_df(col=2)\n",
        "#                .label_from_df(cols=0)\n",
        "#                .databunch())"
      ],
      "execution_count": 0,
      "outputs": []
    },
    {
      "cell_type": "markdown",
      "metadata": {
        "id": "XvxqaQTRXYGA",
        "colab_type": "text"
      },
      "source": [
        "# I think everything above was just to play around -- we can just start here!!\n"
      ]
    },
    {
      "cell_type": "code",
      "metadata": {
        "id": "1B8ZK6VYa5rv",
        "colab_type": "code",
        "colab": {}
      },
      "source": [
        "import pandas as pd"
      ],
      "execution_count": 0,
      "outputs": []
    },
    {
      "cell_type": "code",
      "metadata": {
        "id": "Ct9_wGHUa53g",
        "colab_type": "code",
        "outputId": "8c73cfbb-2f34-43b0-c4ef-049ab49b62eb",
        "colab": {
          "base_uri": "https://localhost:8080/",
          "height": 202
        }
      },
      "source": [
        "df = pd.read_csv('at_court_cases.csv')\n",
        "print(df.label)\n",
        "df.head()"
      ],
      "execution_count": 0,
      "outputs": [
        {
          "output_type": "execute_result",
          "data": {
            "text/html": [
              "<div>\n",
              "<style scoped>\n",
              "    .dataframe tbody tr th:only-of-type {\n",
              "        vertical-align: middle;\n",
              "    }\n",
              "\n",
              "    .dataframe tbody tr th {\n",
              "        vertical-align: top;\n",
              "    }\n",
              "\n",
              "    .dataframe thead th {\n",
              "        text-align: right;\n",
              "    }\n",
              "</style>\n",
              "<table border=\"1\" class=\"dataframe\">\n",
              "  <thead>\n",
              "    <tr style=\"text-align: right;\">\n",
              "      <th></th>\n",
              "      <th>label</th>\n",
              "      <th>text</th>\n",
              "    </tr>\n",
              "  </thead>\n",
              "  <tbody>\n",
              "    <tr>\n",
              "      <th>0</th>\n",
              "      <td>__label__strafrecht</td>\n",
              "      <td>Gericht OGH Entscheidungsdatum 13.11.2013 Ge...</td>\n",
              "    </tr>\n",
              "    <tr>\n",
              "      <th>1</th>\n",
              "      <td>__label__zivilverfahrensrecht</td>\n",
              "      <td>Gericht OGH Entscheidungsdatum 10.05.2011 Ge...</td>\n",
              "    </tr>\n",
              "    <tr>\n",
              "      <th>2</th>\n",
              "      <td>__label__strafrecht</td>\n",
              "      <td>Gericht OGH Entscheidungsdatum 12.08.2014 Ge...</td>\n",
              "    </tr>\n",
              "    <tr>\n",
              "      <th>3</th>\n",
              "      <td>__label__zivilverfahrensrecht</td>\n",
              "      <td>Gericht OGH Entscheidungsdatum 20.12.2010 Ge...</td>\n",
              "    </tr>\n",
              "    <tr>\n",
              "      <th>4</th>\n",
              "      <td>__label__strafrecht</td>\n",
              "      <td>Gericht OGH Entscheidungsdatum 14.03.2018 Ge...</td>\n",
              "    </tr>\n",
              "  </tbody>\n",
              "</table>\n",
              "</div>"
            ],
            "text/plain": [
              "                            label                                               text\n",
              "0            __label__strafrecht     Gericht OGH Entscheidungsdatum 13.11.2013 Ge...\n",
              "1  __label__zivilverfahrensrecht     Gericht OGH Entscheidungsdatum 10.05.2011 Ge...\n",
              "2            __label__strafrecht     Gericht OGH Entscheidungsdatum 12.08.2014 Ge...\n",
              "3  __label__zivilverfahrensrecht     Gericht OGH Entscheidungsdatum 20.12.2010 Ge...\n",
              "4            __label__strafrecht     Gericht OGH Entscheidungsdatum 14.03.2018 Ge..."
            ]
          },
          "metadata": {
            "tags": []
          },
          "execution_count": 7
        }
      ]
    },
    {
      "cell_type": "code",
      "metadata": {
        "id": "fiewiWYfMUbL",
        "colab_type": "code",
        "outputId": "591de5f1-3474-4901-9e75-a6ace4c2cdfc",
        "colab": {
          "base_uri": "https://localhost:8080/",
          "height": 329
        }
      },
      "source": [
        "print(df.groupby('label').nunique())\n",
        "print(\"\\n Number of classes:\", df.label.nunique())"
      ],
      "execution_count": 0,
      "outputs": [
        {
          "output_type": "stream",
          "text": [
            "                                label  text\n",
            "label                                      \n",
            "__label__angestellter               1    35\n",
            "__label__arbeitgeber                1   618\n",
            "__label__arbeitnehmer               1   659\n",
            "__label__arbeitsrecht               1  1273\n",
            "__label__auto                       1  1778\n",
            "__label__familienrecht              1   466\n",
            "__label__gesellschaftsrecht         1   312\n",
            "__label__handelsrecht               1   312\n",
            "__label__konsumentenschutz          1   146\n",
            "__label__schadenersatz              1   179\n",
            "__label__sozialrecht                1   747\n",
            "__label__strafrecht                 1  4536\n",
            "__label__urheberrecht               1    74\n",
            "__label__zivilverfahrensrecht       1  1346\n",
            "\n",
            " Number of classes: 14\n"
          ],
          "name": "stdout"
        }
      ]
    },
    {
      "cell_type": "code",
      "metadata": {
        "id": "S-cTAqhka6B9",
        "colab_type": "code",
        "outputId": "d9039ec1-8c72-4ee1-cddd-8e5fded1257b",
        "colab": {
          "base_uri": "https://localhost:8080/",
          "height": 139
        }
      },
      "source": [
        "df_text = df[['text']].copy()\n",
        "print(df_text.head())\n",
        "print(df_text.columns)"
      ],
      "execution_count": 0,
      "outputs": [
        {
          "output_type": "stream",
          "text": [
            "                                                text\n",
            "0    Gericht OGH Entscheidungsdatum 13.11.2013 Ge...\n",
            "1    Gericht OGH Entscheidungsdatum 10.05.2011 Ge...\n",
            "2    Gericht OGH Entscheidungsdatum 12.08.2014 Ge...\n",
            "3    Gericht OGH Entscheidungsdatum 20.12.2010 Ge...\n",
            "4    Gericht OGH Entscheidungsdatum 14.03.2018 Ge...\n",
            "Index(['text'], dtype='object')\n"
          ],
          "name": "stdout"
        }
      ]
    },
    {
      "cell_type": "code",
      "metadata": {
        "id": "V5uhH_-xWpp-",
        "colab_type": "code",
        "outputId": "0d5f9b66-bb35-43cf-df6a-45aa76f5b224",
        "colab": {
          "base_uri": "https://localhost:8080/",
          "height": 69
        }
      },
      "source": [
        "%%time\n",
        "\n",
        "bs=48\n",
        "data_lm = (TextList.from_df(df_text)\n",
        "           #Inputs: all the text files in path\n",
        "            # .filter_by_folder(include=['.']) \n",
        "           #We may have other temp folders that contain text files so we only keep what's in train and test\n",
        "            .split_by_rand_pct(0.1)\n",
        "           #We randomly split and keep 10% (10,000 reviews) for validation\n",
        "            .label_for_lm()           \n",
        "           #We want to do a language model so we label accordingly\n",
        "            .databunch(bs=bs))\n",
        "data_lm.save('data_lm.pkl')\n",
        "print('done')"
      ],
      "execution_count": 0,
      "outputs": [
        {
          "output_type": "stream",
          "text": [
            "done\n",
            "CPU times: user 15.9 s, sys: 2.81 s, total: 18.7 s\n",
            "Wall time: 3min 26s\n"
          ],
          "name": "stdout"
        }
      ]
    },
    {
      "cell_type": "code",
      "metadata": {
        "id": "c-5E5Z1QYttW",
        "colab_type": "code",
        "colab": {}
      },
      "source": [
        "path = Path('.')\n",
        "data_lm = load_data(path, 'data_lm.pkl', bs=bs)"
      ],
      "execution_count": 0,
      "outputs": []
    },
    {
      "cell_type": "code",
      "metadata": {
        "id": "cR0kfvvcYtwN",
        "colab_type": "code",
        "outputId": "41477018-b215-4f69-b553-f75696c1aebd",
        "colab": {
          "base_uri": "https://localhost:8080/",
          "height": 341
        }
      },
      "source": [
        "data_lm.show_batch()"
      ],
      "execution_count": 0,
      "outputs": [
        {
          "output_type": "display_data",
          "data": {
            "text/html": [
              "<table border=\"1\" class=\"dataframe\">\n",
              "  <thead>\n",
              "    <tr style=\"text-align: right;\">\n",
              "      <th>idx</th>\n",
              "      <th>text</th>\n",
              "    </tr>\n",
              "  </thead>\n",
              "  <tbody>\n",
              "    <tr>\n",
              "      <td>0</td>\n",
              "      <td>gerichtshofs xxmaj dr.   xxmaj bachner - xxmaj foregger , xxmaj dr.   xxmaj michel - xxmaj kwapinski und xxmaj mag .   xxmaj fürnkranz als weitere xxmaj richter in xxmaj gegenwart der xxmaj richteramtsanwärterin mmag .   xxmaj vasak als xxmaj schriftführerin in der xxmaj strafsache gegen xxmaj xxunk a xxrep 5 * wegen des xxmaj verbrechens des xxmaj suchtgifthandels nach §   28a xxmaj abs   1 zweiter</td>\n",
              "    </tr>\n",
              "    <tr>\n",
              "      <td>1</td>\n",
              "      <td>6 / xxunk , nach xxmaj anhörung der xxmaj generalprokuratur in nichtöffentlicher xxmaj sitzung zu xxmaj recht erkannt : xxmaj spruch    xxmaj die xxmaj nichtigkeitsbeschwerde wird zurückgewiesen . xxmaj aus deren xxmaj anlass wird das angefochtene xxmaj urteil aufgehoben und die xxmaj sache zu neuer xxmaj verhandlung und xxmaj entscheidung an das xxmaj landesgericht xxmaj innsbruck verwiesen . xxmaj mit seiner xxmaj berufung wird der xxmaj angeklagte</td>\n",
              "    </tr>\n",
              "    <tr>\n",
              "      <td>2</td>\n",
              "      <td>weitere xxmaj fragen wurden nicht gestellt . xxmaj rechtliche xxmaj beurteilung xxmaj gegen xxmaj punkt   2 . / des xxmaj schuldspruchs richtet sich die auf z   6 und 8 des §   345 xxmaj abs   1 stpo gestützte xxmaj nichtigkeitsbeschwerde des xxmaj angeklagten , der keine xxmaj berechtigung zukommt . xxmaj unter xxmaj hinweis auf die xxmaj ausführungen des xxmaj sachverständigen , wonach der xxmaj affekt mit</td>\n",
              "    </tr>\n",
              "    <tr>\n",
              "      <td>3</td>\n",
              "      <td>2010 , in eventu ab 1 .   1 .   2011 . 2 .   xxmaj die xxup vo ( xxup ewg ) xxmaj nr   1408 / 71 wurde mit dem xxmaj beginn der xxmaj anwendung der xxup vo ( xxup eg ) xxmaj nr   883 / 2004 am 1 .   5 .   2010 grundsätzlich aufgehoben . xxmaj sie blieb jedoch gemäß xxmaj art</td>\n",
              "    </tr>\n",
              "    <tr>\n",
              "      <td>4</td>\n",
              "      <td>nicht verfügen durfte , mit dem xxmaj vorsatz unterdrückt , zu verhindern , dass sie i m xxmaj rechtsverkehr zum xxmaj beweis eines xxmaj rechtes , eines xxmaj rechtsverhältnisses oder einer xxmaj tatsache gebraucht werden , und zwar mehrere durch die unter xxmaj punkt   xxup i.   xxup b.   1 .   d. angeführte xxmaj tat erlangte xxmaj urkunden ; xxup iii .   am 5 .</td>\n",
              "    </tr>\n",
              "  </tbody>\n",
              "</table>"
            ],
            "text/plain": [
              "<IPython.core.display.HTML object>"
            ]
          },
          "metadata": {
            "tags": []
          }
        }
      ]
    },
    {
      "cell_type": "markdown",
      "metadata": {
        "id": "TQpEShANOzi5",
        "colab_type": "text"
      },
      "source": [
        "## Create a learner from a pretrained model / architecture\n",
        "Default: AWD_LSTM (which includes a pretrained Wikidata103 model (for English))\n",
        "\n",
        "TODO: try TransformerXL"
      ]
    },
    {
      "cell_type": "code",
      "metadata": {
        "id": "tUBtDtABZmpD",
        "colab_type": "code",
        "colab": {}
      },
      "source": [
        "learn = language_model_learner(data_lm, AWD_LSTM, drop_mult=0.3)\n",
        "#learn = language_model_learner(data_lm, TransformerXL, pretrained=False) # ?? , drop_mult=0.3)"
      ],
      "execution_count": 0,
      "outputs": []
    },
    {
      "cell_type": "code",
      "metadata": {
        "id": "CsrmrimRZmsL",
        "colab_type": "code",
        "outputId": "f4fc62f3-4a97-4d82-fede-ef954455040f",
        "colab": {
          "base_uri": "https://localhost:8080/",
          "height": 69
        }
      },
      "source": [
        "%%time\n",
        "\n",
        "learn.lr_find()"
      ],
      "execution_count": 0,
      "outputs": [
        {
          "output_type": "display_data",
          "data": {
            "text/html": [
              ""
            ],
            "text/plain": [
              "<IPython.core.display.HTML object>"
            ]
          },
          "metadata": {
            "tags": []
          }
        },
        {
          "output_type": "stream",
          "text": [
            "LR Finder is complete, type {learner_name}.recorder.plot() to see the graph.\n",
            "CPU times: user 15.9 s, sys: 12.8 s, total: 28.7 s\n",
            "Wall time: 30.5 s\n"
          ],
          "name": "stdout"
        }
      ]
    },
    {
      "cell_type": "code",
      "metadata": {
        "id": "IMu32xgxZmvZ",
        "colab_type": "code",
        "outputId": "22c04657-4436-48b6-c1de-04621e108c50",
        "colab": {
          "base_uri": "https://localhost:8080/",
          "height": 283
        }
      },
      "source": [
        "learn.recorder.plot(skip_end=15)"
      ],
      "execution_count": 0,
      "outputs": [
        {
          "output_type": "display_data",
          "data": {
            "image/png": "[encoded data removed]",
            "text/plain": [
              "<Figure size 432x288 with 1 Axes>"
            ]
          },
          "metadata": {
            "tags": []
          }
        }
      ]
    },
    {
      "cell_type": "code",
      "metadata": {
        "id": "yYVsfD0qZmyx",
        "colab_type": "code",
        "outputId": "07b72460-c23b-49bc-af3d-351698ae14b3",
        "colab": {
          "base_uri": "https://localhost:8080/",
          "height": 114
        }
      },
      "source": [
        "learn.fit_one_cycle(1, 1e-1, moms=(0.8,0.7))"
      ],
      "execution_count": 0,
      "outputs": [
        {
          "output_type": "display_data",
          "data": {
            "text/html": [
              "<table border=\"1\" class=\"dataframe\">\n",
              "  <thead>\n",
              "    <tr style=\"text-align: left;\">\n",
              "      <th>epoch</th>\n",
              "      <th>train_loss</th>\n",
              "      <th>valid_loss</th>\n",
              "      <th>accuracy</th>\n",
              "      <th>time</th>\n",
              "    </tr>\n",
              "  </thead>\n",
              "  <tbody>\n",
              "    <tr>\n",
              "      <td>0</td>\n",
              "      <td>3.652426</td>\n",
              "      <td>3.207759</td>\n",
              "      <td>0.463898</td>\n",
              "      <td>33:16</td>\n",
              "    </tr>\n",
              "  </tbody>\n",
              "</table>"
            ],
            "text/plain": [
              "<IPython.core.display.HTML object>"
            ]
          },
          "metadata": {
            "tags": []
          }
        },
        {
          "output_type": "stream",
          "text": [
            "CPU times: user 18min 23s, sys: 14min 27s, total: 32min 51s\n",
            "Wall time: 33min 16s\n"
          ],
          "name": "stdout"
        }
      ]
    },
    {
      "cell_type": "code",
      "metadata": {
        "id": "Myt0qe1WZm2G",
        "colab_type": "code",
        "colab": {}
      },
      "source": [
        "learn.save('fit_head')"
      ],
      "execution_count": 0,
      "outputs": []
    },
    {
      "cell_type": "code",
      "metadata": {
        "id": "l0VSF9EAAkap",
        "colab_type": "code",
        "outputId": "696d23f8-749e-4584-b500-67f1e155516e",
        "colab": {
          "base_uri": "https://localhost:8080/",
          "height": 34
        }
      },
      "source": [
        "## continue here -- check that fit_head is in models\n",
        "!mv fit_head.pth models\n",
        "!ls models"
      ],
      "execution_count": 0,
      "outputs": [
        {
          "output_type": "stream",
          "text": [
            "fit_head.pth\n"
          ],
          "name": "stdout"
        }
      ]
    },
    {
      "cell_type": "code",
      "metadata": {
        "id": "CN3-uvaiZm5l",
        "colab_type": "code",
        "colab": {}
      },
      "source": [
        "learn.load('fit_head');"
      ],
      "execution_count": 0,
      "outputs": []
    },
    {
      "cell_type": "code",
      "metadata": {
        "id": "zUk4mzXT0t4k",
        "colab_type": "code",
        "colab": {}
      },
      "source": [
        "#!du -sh *\n",
        "#from google.colab import files\n",
        "#files.download('data_lm.pkl')\n",
        "#files.download('data_save.pkl')\n",
        "#files.download('models/fit_head.pth')\n"
      ],
      "execution_count": 0,
      "outputs": []
    },
    {
      "cell_type": "code",
      "metadata": {
        "id": "f8TaD2DjZm9j",
        "colab_type": "code",
        "colab": {}
      },
      "source": [
        "learn.unfreeze()"
      ],
      "execution_count": 0,
      "outputs": []
    },
    {
      "cell_type": "code",
      "metadata": {
        "id": "vmwu1gS6jLI3",
        "colab_type": "code",
        "outputId": "56c1ab9c-763c-4025-f886-a1e30882d4ee",
        "colab": {
          "base_uri": "https://localhost:8080/",
          "height": 141
        }
      },
      "source": [
        "epochs = 3 # orig: 10\n",
        "learn.fit_one_cycle(epochs, 2e-2, moms=(0.8,0.7))"
      ],
      "execution_count": 0,
      "outputs": [
        {
          "output_type": "display_data",
          "data": {
            "text/html": [
              "<table border=\"1\" class=\"dataframe\">\n",
              "  <thead>\n",
              "    <tr style=\"text-align: left;\">\n",
              "      <th>epoch</th>\n",
              "      <th>train_loss</th>\n",
              "      <th>valid_loss</th>\n",
              "      <th>accuracy</th>\n",
              "      <th>time</th>\n",
              "    </tr>\n",
              "  </thead>\n",
              "  <tbody>\n",
              "    <tr>\n",
              "      <td>0</td>\n",
              "      <td>2.652942</td>\n",
              "      <td>2.743430</td>\n",
              "      <td>0.512871</td>\n",
              "      <td>1:07:06</td>\n",
              "    </tr>\n",
              "    <tr>\n",
              "      <td>1</td>\n",
              "      <td>2.477582</td>\n",
              "      <td>2.439667</td>\n",
              "      <td>0.546296</td>\n",
              "      <td>1:07:03</td>\n",
              "    </tr>\n",
              "    <tr>\n",
              "      <td>2</td>\n",
              "      <td>2.291646</td>\n",
              "      <td>2.243375</td>\n",
              "      <td>0.572476</td>\n",
              "      <td>1:07:07</td>\n",
              "    </tr>\n",
              "  </tbody>\n",
              "</table>"
            ],
            "text/plain": [
              "<IPython.core.display.HTML object>"
            ]
          },
          "metadata": {
            "tags": []
          }
        }
      ]
    },
    {
      "cell_type": "code",
      "metadata": {
        "id": "xZSt8E15jLMG",
        "colab_type": "code",
        "colab": {}
      },
      "source": [
        "learn.save('fine_tuned')"
      ],
      "execution_count": 0,
      "outputs": []
    },
    {
      "cell_type": "code",
      "metadata": {
        "id": "y8Ce6YpUjLPQ",
        "colab_type": "code",
        "outputId": "a220580d-4045-4b2c-8a40-8f921374f906",
        "colab": {
          "base_uri": "https://localhost:8080/",
          "height": 71
        }
      },
      "source": [
        "\n",
        "learn.load('fine_tuned');"
      ],
      "execution_count": 0,
      "outputs": [
        {
          "output_type": "stream",
          "text": [
            "/usr/local/lib/python3.6/dist-packages/fastai/basic_train.py:327: UserWarning: Wasn't able to properly load the optimizer state again.\n",
            "  except: warn(\"Wasn't able to properly load the optimizer state again.\")\n"
          ],
          "name": "stderr"
        }
      ]
    },
    {
      "cell_type": "code",
      "metadata": {
        "id": "mAqKUvkP9LH8",
        "colab_type": "code",
        "outputId": "012fc2b2-e274-4916-d400-e0fde781e85d",
        "colab": {
          "base_uri": "https://localhost:8080/",
          "height": 165
        }
      },
      "source": [
        "\n",
        "#from google.colab import files\n",
        "#files.download('models/fine_tuned.pth')"
      ],
      "execution_count": 0,
      "outputs": [
        {
          "output_type": "error",
          "ename": "NameError",
          "evalue": "ignored",
          "traceback": [
            "\u001b[0;31m---------------------------------------------------------------------------\u001b[0m",
            "\u001b[0;31mNameError\u001b[0m                                 Traceback (most recent call last)",
            "\u001b[0;32m<ipython-input-27-bcc04038fdf8>\u001b[0m in \u001b[0;36m<module>\u001b[0;34m()\u001b[0m\n\u001b[0;32m----> 1\u001b[0;31m \u001b[0mfiles\u001b[0m\u001b[0;34m.\u001b[0m\u001b[0mdownload\u001b[0m\u001b[0;34m(\u001b[0m\u001b[0;34m'models/fine_tuned.pth'\u001b[0m\u001b[0;34m)\u001b[0m\u001b[0;34m\u001b[0m\u001b[0;34m\u001b[0m\u001b[0m\n\u001b[0m",
            "\u001b[0;31mNameError\u001b[0m: name 'files' is not defined"
          ]
        }
      ]
    },
    {
      "cell_type": "code",
      "metadata": {
        "id": "s-n0VSRajLSs",
        "colab_type": "code",
        "outputId": "6b377d0c-07a7-497f-8555-aff4199405e9",
        "colab": {
          "base_uri": "https://localhost:8080/",
          "height": 71
        }
      },
      "source": [
        "# test lang model\n",
        "TEXT = \"Der Angeklagte stahl den Wagen am\"\n",
        "N_WORDS = 40\n",
        "N_SENTENCES = 2\n",
        "print(\"\\n\".join(learn.predict(TEXT, N_WORDS, temperature=0.75) for _ in range(N_SENTENCES)))\n"
      ],
      "execution_count": 0,
      "outputs": [
        {
          "output_type": "stream",
          "text": [
            "Der Angeklagte stahl den Wagen am 1 .   März   2010 in Wiener Neustadt , sowie für den Fall , dass sie seit der A   2011 mit dem Pkw „ n ***** “““““ nochnochnochnochnoch nichtnichtnichtnichtnicht ininininin\n",
            "Der Angeklagte stahl den Wagen am 24 . März 2004 mit Ablauf der Rekursfrist am 13 . Dezember 2008 in Wien durch einen August nach Österreich durch den Arzt Dr.   Richard s *****\n"
          ],
          "name": "stdout"
        }
      ]
    },
    {
      "cell_type": "code",
      "metadata": {
        "id": "tumpLk48jLVy",
        "colab_type": "code",
        "colab": {}
      },
      "source": [
        "learn.save_encoder('fine_tuned_enc')"
      ],
      "execution_count": 0,
      "outputs": []
    },
    {
      "cell_type": "code",
      "metadata": {
        "id": "JNb2nOjh83Zi",
        "colab_type": "code",
        "colab": {}
      },
      "source": [
        "\n",
        "!ls -l model\n",
        "print('let us grab the encoder!')"
      ],
      "execution_count": 0,
      "outputs": []
    },
    {
      "cell_type": "code",
      "metadata": {
        "id": "_RLVSPKWjLZO",
        "colab_type": "code",
        "colab": {}
      },
      "source": [
        "data_clas = (TextList.from_csv(Path('.'), 'at_court_cases.csv', vocab=data_lm.vocab, cols='text')\n",
        "             #grab all the text files in path\n",
        "             #wohlg: .split_by_folder(valid='test')\n",
        "             .split_by_rand_pct()\n",
        "             #split by train and valid folder (that only keeps 'train' and 'test' so no need to filter)             \n",
        "             #wohlg: .label_from_folder(classes=['neg', 'pos'])\n",
        "             .label_from_df(cols='label')\n",
        "             #label them all with their folders\n",
        "             .databunch(bs=bs))\n",
        "\n",
        "data_clas.save('data_clas.pkl')"
      ],
      "execution_count": 0,
      "outputs": []
    },
    {
      "cell_type": "code",
      "metadata": {
        "id": "lLq_pAhSjLe2",
        "colab_type": "code",
        "colab": {}
      },
      "source": [
        "data_clas = load_data(path, 'data_clas.pkl', bs=bs)"
      ],
      "execution_count": 0,
      "outputs": []
    },
    {
      "cell_type": "code",
      "metadata": {
        "id": "bIC3m4atjLcQ",
        "colab_type": "code",
        "outputId": "83d87fa1-2a33-47f9-cd7c-9f7c3c5581a5",
        "colab": {
          "base_uri": "https://localhost:8080/",
          "height": 443
        }
      },
      "source": [
        "data_clas.show_batch()\n",
        "#data_clas.label_list\n",
        "\n",
        "\n"
      ],
      "execution_count": 0,
      "outputs": [
        {
          "output_type": "display_data",
          "data": {
            "text/html": [
              "<table border=\"1\" class=\"dataframe\">\n",
              "  <thead>\n",
              "    <tr style=\"text-align: right;\">\n",
              "      <th>text</th>\n",
              "      <th>target</th>\n",
              "    </tr>\n",
              "  </thead>\n",
              "  <tbody>\n",
              "    <tr>\n",
              "      <td>xxbos xxmaj gericht xxup ogh xxmaj entscheidungsdatum xxunk xxmaj geschäftszahl xxunk / 09z xxmaj kopf xxmaj der xxmaj oberste xxmaj gerichtshof hat am 23 .   xxmaj dezember   2010 durch den xxmaj hofrat des xxmaj obersten xxmaj gerichtshofs xxmaj dr.   xxmaj lässig als xxmaj vorsitzenden , die xxmaj hofrätin des xxmaj obersten xxmaj gerichtshofs xxmaj mag .   xxmaj hetlinger , den xxmaj hofrat des xxmaj obersten xxmaj</td>\n",
              "      <td>__label__strafrecht</td>\n",
              "    </tr>\n",
              "    <tr>\n",
              "      <td>xxbos xxmaj gericht xxup ogh xxmaj entscheidungsdatum 14.01.2015 xxmaj geschäftszahl 15os52 / 14 g ( 15os53 / 14d ) xxmaj kopf xxmaj der xxmaj oberste xxmaj gerichtshof hat am 14 .   xxmaj jänner   2015 durch den xxmaj senatspräsidenten des xxmaj obersten xxmaj gerichtshofs xxmaj prof .   xxmaj dr.   xxmaj danek als xxmaj vorsitzenden , den xxmaj hofrat des xxmaj obersten xxmaj gerichtshofs xxmaj mag .</td>\n",
              "      <td>__label__strafrecht</td>\n",
              "    </tr>\n",
              "    <tr>\n",
              "      <td>xxbos xxmaj gericht xxup ogh xxmaj entscheidungsdatum xxunk xxmaj geschäftszahl xxunk / 09z xxmaj kopf xxmaj der xxmaj oberste xxmaj gerichtshof hat am 22 .   xxmaj dezember   2010 durch den xxmaj hofrat des xxmaj obersten xxmaj gerichtshofs xxmaj dr.   xxmaj lässig als xxmaj vorsitzenden , die xxmaj hofrätin des xxmaj obersten xxmaj gerichtshofs xxmaj mag .   xxmaj hetlinger , den xxmaj hofrat des xxmaj obersten xxmaj</td>\n",
              "      <td>__label__strafrecht</td>\n",
              "    </tr>\n",
              "    <tr>\n",
              "      <td>xxbos xxmaj gericht xxup ogh xxmaj rechtssatznummer xxup xxunk xxmaj entscheidungsdatum xxunk xxmaj geschäftszahl xxmaj xxunk / 53 ; xxunk / 55 ; 6ob179 / 59 ; xxunk / 59 ; xxunk / 61 ; 6ob204 / 61 ; xxunk / 62 ; 8ob33 / 63 ; xxunk / 63 ; 6ob28 / 64 ; xxunk / 64 ; xxunk / 65 ; 8ob219 / 65 ; xxunk / 65</td>\n",
              "      <td>__label__auto</td>\n",
              "    </tr>\n",
              "    <tr>\n",
              "      <td>xxbos xxmaj gericht xxup ogh xxmaj entscheidungsdatum 22.05.2013 xxmaj geschäftszahl xxunk / 13f xxmaj kopf xxmaj der xxmaj oberste xxmaj gerichtshof hat am 22 .   xxmaj mai   2013 durch den xxmaj senatspräsidenten des xxmaj obersten xxmaj gerichtshofs xxmaj dr.   xxmaj danek als xxmaj vorsitzenden , den xxmaj hofrat des xxmaj obersten xxmaj gerichtshofs xxmaj mag .   xxmaj lendl und die xxmaj hofrätinnen des xxmaj obersten xxmaj</td>\n",
              "      <td>__label__strafrecht</td>\n",
              "    </tr>\n",
              "  </tbody>\n",
              "</table>"
            ],
            "text/plain": [
              "<IPython.core.display.HTML object>"
            ]
          },
          "metadata": {
            "tags": []
          }
        }
      ]
    },
    {
      "cell_type": "code",
      "metadata": {
        "id": "_QH55kC5qNLG",
        "colab_type": "code",
        "colab": {}
      },
      "source": [
        "################ check if all ok .. data_clas ...\n",
        "!mv fine_tuned_enc.pth models"
      ],
      "execution_count": 0,
      "outputs": []
    },
    {
      "cell_type": "code",
      "metadata": {
        "id": "cyWs6u1vl6mX",
        "colab_type": "code",
        "colab": {}
      },
      "source": [
        "learn = text_classifier_learner(data_clas, AWD_LSTM, drop_mult=0.5)\n",
        "learn.load_encoder('fine_tuned_enc')"
      ],
      "execution_count": 0,
      "outputs": []
    },
    {
      "cell_type": "code",
      "metadata": {
        "id": "X5sGGcAUl6ps",
        "colab_type": "code",
        "colab": {}
      },
      "source": [
        "\n",
        "learn.lr_find()"
      ],
      "execution_count": 0,
      "outputs": []
    },
    {
      "cell_type": "code",
      "metadata": {
        "id": "4TaL4rGml6tD",
        "colab_type": "code",
        "colab": {}
      },
      "source": [
        "\n",
        "learn.recorder.plot()"
      ],
      "execution_count": 0,
      "outputs": []
    },
    {
      "cell_type": "code",
      "metadata": {
        "id": "BrPh0yRdl6zX",
        "colab_type": "code",
        "outputId": "5abd19ec-5eae-4e17-baa9-877b7ea0a80c",
        "colab": {
          "base_uri": "https://localhost:8080/",
          "height": 110
        }
      },
      "source": [
        "#learn.fit_one_cycle(1, 2e-2, moms=(0.8,0.7))\n",
        "learn.fit_one_cycle(2, 2e-2, moms=(0.8,0.7))"
      ],
      "execution_count": 0,
      "outputs": [
        {
          "output_type": "display_data",
          "data": {
            "text/html": [
              "<table border=\"1\" class=\"dataframe\">\n",
              "  <thead>\n",
              "    <tr style=\"text-align: left;\">\n",
              "      <th>epoch</th>\n",
              "      <th>train_loss</th>\n",
              "      <th>valid_loss</th>\n",
              "      <th>accuracy</th>\n",
              "      <th>time</th>\n",
              "    </tr>\n",
              "  </thead>\n",
              "  <tbody>\n",
              "    <tr>\n",
              "      <td>0</td>\n",
              "      <td>1.045188</td>\n",
              "      <td>0.834832</td>\n",
              "      <td>0.730032</td>\n",
              "      <td>11:18</td>\n",
              "    </tr>\n",
              "    <tr>\n",
              "      <td>1</td>\n",
              "      <td>0.909289</td>\n",
              "      <td>0.767916</td>\n",
              "      <td>0.744010</td>\n",
              "      <td>10:58</td>\n",
              "    </tr>\n",
              "  </tbody>\n",
              "</table>"
            ],
            "text/plain": [
              "<IPython.core.display.HTML object>"
            ]
          },
          "metadata": {
            "tags": []
          }
        }
      ]
    },
    {
      "cell_type": "code",
      "metadata": {
        "id": "Go03WwP9l62p",
        "colab_type": "code",
        "colab": {}
      },
      "source": [
        "learn.save('first')"
      ],
      "execution_count": 0,
      "outputs": []
    },
    {
      "cell_type": "code",
      "metadata": {
        "id": "Nim2xtSDl65f",
        "colab_type": "code",
        "colab": {}
      },
      "source": [
        "learn.load('first');"
      ],
      "execution_count": 0,
      "outputs": []
    },
    {
      "cell_type": "code",
      "metadata": {
        "id": "TdYFyLlkl69M",
        "colab_type": "code",
        "outputId": "1aa38929-d6fd-428c-cee8-9f318160818c",
        "colab": {
          "base_uri": "https://localhost:8080/",
          "height": 79
        }
      },
      "source": [
        "learn.freeze_to(-2)\n",
        "learn.fit_one_cycle(1, slice(2e-2/(2.6**4),2e-2), moms=(0.8,0.7))\n",
        "#learn.fit_one_cycle(1, slice(5e-1/(2.6**4),5e-1), moms=(0.8,0.7))\n",
        "#learn.fit_one_cycle(1, slice(5e-3/(2.6**4),5e-3), moms=(0.8,0.7))"
      ],
      "execution_count": 0,
      "outputs": [
        {
          "output_type": "display_data",
          "data": {
            "text/html": [
              "<table border=\"1\" class=\"dataframe\">\n",
              "  <thead>\n",
              "    <tr style=\"text-align: left;\">\n",
              "      <th>epoch</th>\n",
              "      <th>train_loss</th>\n",
              "      <th>valid_loss</th>\n",
              "      <th>accuracy</th>\n",
              "      <th>time</th>\n",
              "    </tr>\n",
              "  </thead>\n",
              "  <tbody>\n",
              "    <tr>\n",
              "      <td>0</td>\n",
              "      <td>0.697234</td>\n",
              "      <td>0.511395</td>\n",
              "      <td>0.809105</td>\n",
              "      <td>12:02</td>\n",
              "    </tr>\n",
              "  </tbody>\n",
              "</table>"
            ],
            "text/plain": [
              "<IPython.core.display.HTML object>"
            ]
          },
          "metadata": {
            "tags": []
          }
        }
      ]
    },
    {
      "cell_type": "code",
      "metadata": {
        "id": "kzbQqXfll7CT",
        "colab_type": "code",
        "colab": {}
      },
      "source": [
        "learn.save('second')"
      ],
      "execution_count": 0,
      "outputs": []
    },
    {
      "cell_type": "code",
      "metadata": {
        "id": "AvF4OP0Ml7AY",
        "colab_type": "code",
        "colab": {}
      },
      "source": [
        "learn.load('second');"
      ],
      "execution_count": 0,
      "outputs": []
    },
    {
      "cell_type": "code",
      "metadata": {
        "id": "wIdm-jGQl6wV",
        "colab_type": "code",
        "outputId": "ed2c0809-ce47-4c4b-b0e7-510ce4246ed7",
        "colab": {
          "base_uri": "https://localhost:8080/",
          "height": 172
        }
      },
      "source": [
        "\n",
        "learn.freeze_to(-3)\n",
        "#learn.fit_one_cycle(1, slice(5e-3/(2.6**4),5e-3), moms=(0.8,0.7))\n",
        "learn.fit_one_cycle(4, slice(2e-3/(2.6**4),2e-3), moms=(0.8,0.7))\n",
        "#learn.fit_one_cycle(1, slice(1e-4/(2.6**4),1e-4), moms=(0.8,0.7))"
      ],
      "execution_count": 0,
      "outputs": [
        {
          "output_type": "display_data",
          "data": {
            "text/html": [
              "<table border=\"1\" class=\"dataframe\">\n",
              "  <thead>\n",
              "    <tr style=\"text-align: left;\">\n",
              "      <th>epoch</th>\n",
              "      <th>train_loss</th>\n",
              "      <th>valid_loss</th>\n",
              "      <th>accuracy</th>\n",
              "      <th>time</th>\n",
              "    </tr>\n",
              "  </thead>\n",
              "  <tbody>\n",
              "    <tr>\n",
              "      <td>0</td>\n",
              "      <td>0.592018</td>\n",
              "      <td>0.492199</td>\n",
              "      <td>0.816294</td>\n",
              "      <td>14:30</td>\n",
              "    </tr>\n",
              "    <tr>\n",
              "      <td>1</td>\n",
              "      <td>0.572953</td>\n",
              "      <td>0.469279</td>\n",
              "      <td>0.829473</td>\n",
              "      <td>16:33</td>\n",
              "    </tr>\n",
              "    <tr>\n",
              "      <td>2</td>\n",
              "      <td>0.541776</td>\n",
              "      <td>0.476001</td>\n",
              "      <td>0.818690</td>\n",
              "      <td>13:56</td>\n",
              "    </tr>\n",
              "    <tr>\n",
              "      <td>3</td>\n",
              "      <td>0.539216</td>\n",
              "      <td>0.468713</td>\n",
              "      <td>0.823083</td>\n",
              "      <td>14:08</td>\n",
              "    </tr>\n",
              "  </tbody>\n",
              "</table>"
            ],
            "text/plain": [
              "<IPython.core.display.HTML object>"
            ]
          },
          "metadata": {
            "tags": []
          }
        }
      ]
    },
    {
      "cell_type": "code",
      "metadata": {
        "id": "RE0TtGjRmPKC",
        "colab_type": "code",
        "colab": {}
      },
      "source": [
        "learn.save('third')"
      ],
      "execution_count": 0,
      "outputs": []
    },
    {
      "cell_type": "code",
      "metadata": {
        "id": "LC6BWsAnmPNY",
        "colab_type": "code",
        "outputId": "4117e21c-af2c-443e-8925-8d843ef612f6",
        "colab": {
          "base_uri": "https://localhost:8080/",
          "height": 71
        }
      },
      "source": [
        "learn.load('third');"
      ],
      "execution_count": 0,
      "outputs": [
        {
          "output_type": "stream",
          "text": [
            "/usr/local/lib/python3.6/dist-packages/fastai/basic_train.py:327: UserWarning: Wasn't able to properly load the optimizer state again.\n",
            "  except: warn(\"Wasn't able to properly load the optimizer state again.\")\n"
          ],
          "name": "stderr"
        }
      ]
    },
    {
      "cell_type": "code",
      "metadata": {
        "id": "GUKluTG6mPQo",
        "colab_type": "code",
        "outputId": "9438796b-e1ac-46f8-e074-e0a12bba8f1b",
        "colab": {
          "base_uri": "https://localhost:8080/",
          "height": 204
        }
      },
      "source": [
        "learn.unfreeze()\n",
        "learn.fit_one_cycle(4, slice(2e-3/(2.6**4),2e-3), moms=(0.8,0.7))\n",
        "#learn.fit_one_cycle(2, slice(3e-4/(2.6**4),3e-4), moms=(0.8,0.7))\n",
        "\n"
      ],
      "execution_count": 0,
      "outputs": [
        {
          "output_type": "display_data",
          "data": {
            "text/html": [
              "\n",
              "    <div>\n",
              "        <style>\n",
              "            /* Turns off some styling */\n",
              "            progress {\n",
              "                /* gets rid of default border in Firefox and Opera. */\n",
              "                border: none;\n",
              "                /* Needs to be in here for Safari polyfill so background images work as expected. */\n",
              "                background-size: auto;\n",
              "            }\n",
              "            .progress-bar-interrupted, .progress-bar-interrupted::-webkit-progress-bar {\n",
              "                background: #F44336;\n",
              "            }\n",
              "        </style>\n",
              "      <progress value='3' class='' max='4', style='width:300px; height:20px; vertical-align: middle;'></progress>\n",
              "      75.00% [3/4 51:35<17:11]\n",
              "    </div>\n",
              "    \n",
              "<table border=\"1\" class=\"dataframe\">\n",
              "  <thead>\n",
              "    <tr style=\"text-align: left;\">\n",
              "      <th>epoch</th>\n",
              "      <th>train_loss</th>\n",
              "      <th>valid_loss</th>\n",
              "      <th>accuracy</th>\n",
              "      <th>time</th>\n",
              "    </tr>\n",
              "  </thead>\n",
              "  <tbody>\n",
              "    <tr>\n",
              "      <td>0</td>\n",
              "      <td>0.553947</td>\n",
              "      <td>0.472038</td>\n",
              "      <td>0.820288</td>\n",
              "      <td>18:25</td>\n",
              "    </tr>\n",
              "    <tr>\n",
              "      <td>1</td>\n",
              "      <td>0.489642</td>\n",
              "      <td>0.469652</td>\n",
              "      <td>0.823482</td>\n",
              "      <td>16:29</td>\n",
              "    </tr>\n",
              "    <tr>\n",
              "      <td>2</td>\n",
              "      <td>0.536177</td>\n",
              "      <td>0.449290</td>\n",
              "      <td>0.825080</td>\n",
              "      <td>16:40</td>\n",
              "    </tr>\n",
              "  </tbody>\n",
              "</table><p>\n",
              "\n",
              "    <div>\n",
              "        <style>\n",
              "            /* Turns off some styling */\n",
              "            progress {\n",
              "                /* gets rid of default border in Firefox and Opera. */\n",
              "                border: none;\n",
              "                /* Needs to be in here for Safari polyfill so background images work as expected. */\n",
              "                background-size: auto;\n",
              "            }\n",
              "            .progress-bar-interrupted, .progress-bar-interrupted::-webkit-progress-bar {\n",
              "                background: #F44336;\n",
              "            }\n",
              "        </style>\n",
              "      <progress value='118' class='' max='208', style='width:300px; height:20px; vertical-align: middle;'></progress>\n",
              "      56.73% [118/208 08:23<06:24 0.4977]\n",
              "    </div>\n",
              "    "
            ],
            "text/plain": [
              "<IPython.core.display.HTML object>"
            ]
          },
          "metadata": {
            "tags": []
          }
        }
      ]
    },
    {
      "cell_type": "code",
      "metadata": {
        "id": "cePfsjvbmPT-",
        "colab_type": "code",
        "colab": {}
      },
      "source": [
        "print(learn.predict(\"Romania and Bulgaria aim in particular to liberalise trade in products covered by the common organisation of the market concerned!\"))\n",
        "print(learn.predict(\"Standing Committee on Seeds and Propagating Material for Agriculture\"))\n"
      ],
      "execution_count": 0,
      "outputs": []
    }
  ]
}